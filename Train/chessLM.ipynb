{
  "nbformat": 4,
  "nbformat_minor": 0,
  "metadata": {
    "kernelspec": {
      "display_name": "Python 3",
      "language": "python",
      "name": "python3"
    },
    "language_info": {
      "codemirror_mode": {
        "name": "ipython",
        "version": 3
      },
      "file_extension": ".py",
      "mimetype": "text/x-python",
      "name": "python",
      "nbconvert_exporter": "python",
      "pygments_lexer": "ipython3",
      "version": "3.8.5"
    },
    "colab": {
      "name": "new_chessLM.ipynb",
      "provenance": [],
      "collapsed_sections": [
        "846n0WtDcov9",
        "tvtxkD3latCT",
        "6T4IfTYjcw_D",
        "SKCJ01D0c3zM",
        "jVqX0F8ClYG3"
      ],
      "toc_visible": true
    },
    "accelerator": "GPU"
  },
  "cells": [
    {
      "cell_type": "markdown",
      "metadata": {
        "id": "846n0WtDcov9"
      },
      "source": [
        "# Setup\r\n"
      ]
    },
    {
      "cell_type": "code",
      "metadata": {
        "id": "Nk_QX5Fj262O"
      },
      "source": [
        "run_in_colab = True"
      ],
      "execution_count": 1,
      "outputs": []
    },
    {
      "cell_type": "code",
      "metadata": {
        "id": "YGO7sL-m4V61"
      },
      "source": [
        "if run_in_colab:\r\n",
        "  !pip install transformers\r\n",
        "  !pip install wandb"
      ],
      "execution_count": null,
      "outputs": []
    },
    {
      "cell_type": "code",
      "metadata": {
        "id": "lJIGy7y9cZHa"
      },
      "source": [
        "from transformers import GPT2LMHeadModel, GPT2Config, GPT2Tokenizer,  AdamW, get_linear_schedule_with_warmup\n",
        "import pickle\n",
        "from tqdm import tqdm\n",
        "from torch.utils.data import Dataset, DataLoader\n",
        "import numpy as np\n",
        "import torch\n",
        "import logging\n",
        "import os\n",
        "import time"
      ],
      "execution_count": 3,
      "outputs": []
    },
    {
      "cell_type": "code",
      "metadata": {
        "id": "u4IzStz1cZHj"
      },
      "source": [
        "if not run_in_colab:\n",
        "  os.environ['CUDA_DEVICE_ORDER']='PCI_BUS_ID'\n",
        "  os.environ['CUDA_VISIBLE_DEVICES']='2'"
      ],
      "execution_count": 4,
      "outputs": []
    },
    {
      "cell_type": "code",
      "metadata": {
        "id": "goRDizAYcZHk"
      },
      "source": [
        "import wandb\n",
        "\n",
        "wandb.login()"
      ],
      "execution_count": null,
      "outputs": []
    },
    {
      "cell_type": "markdown",
      "metadata": {
        "id": "tvtxkD3latCT"
      },
      "source": [
        "# GPT2"
      ]
    },
    {
      "cell_type": "code",
      "metadata": {
        "id": "enWqkWR3cZHm"
      },
      "source": [
        "GPT2_TYPE = \"gpt2\"\n",
        "NUMER_OF_DATA_DIRS = 13\n",
        "BATCH_SIZE = 2\n",
        "train_precentege = 0.9"
      ],
      "execution_count": 6,
      "outputs": []
    },
    {
      "cell_type": "code",
      "metadata": {
        "id": "uePb_Mg8cZHn"
      },
      "source": [
        "tokenizer =  GPT2Tokenizer.from_pretrained(GPT2_TYPE)\n",
        "tokenizer.add_special_tokens({'pad_token': '[PAD]'})"
      ],
      "execution_count": null,
      "outputs": []
    },
    {
      "cell_type": "code",
      "metadata": {
        "id": "Tk3WjagjcZHo"
      },
      "source": [
        "configuration = GPT2Config.from_pretrained(GPT2_TYPE)\n",
        "gpt_model = GPT2LMHeadModel.from_pretrained(GPT2_TYPE, config = configuration).cuda()\n",
        "gpt_model.train()\n",
        "gpt_model.resize_token_embeddings(len(tokenizer))"
      ],
      "execution_count": null,
      "outputs": []
    },
    {
      "cell_type": "markdown",
      "metadata": {
        "id": "6T4IfTYjcw_D"
      },
      "source": [
        "# Dataset"
      ]
    },
    {
      "cell_type": "code",
      "metadata": {
        "id": "GXD6zdMucZHp"
      },
      "source": [
        "class MovesDataset(Dataset):\n",
        "    def __init__(self, paths,tokenizer, max_length=768):\n",
        "        self.board_state_token = '<board>'\n",
        "        self.recent_moves_token = '<moves>'\n",
        "        self.comment_token = '<comment>'\n",
        "        self.end_of_text_token = \"<|endoftext|>\"\n",
        "        \n",
        "        self.proccessed_data = []\n",
        "        self.attn_masks = []\n",
        "        self.labels = []\n",
        "        for path in paths:\n",
        "            with open(path, 'rb') as file:\n",
        "                raw_data = pickle.load(file)\n",
        "            for data_object in raw_data:\n",
        "              text = self.convert_data_to_text(data_object, max_length)\n",
        "\n",
        "              start = text[:text.find('<comment>')+9]\n",
        "              enc_start = tokenizer(start, truncation = True, max_length= 768, padding = \"max_length\")\n",
        "              start_len = sum(enc_start['attention_mask']) \n",
        "\n",
        "              enc_dict = tokenizer(text,truncation = True, max_length= max_length, padding = \"max_length\")\n",
        "\n",
        "              labels = [-100] * start_len + enc_dict['input_ids'][start_len:]\n",
        "\n",
        "              self.proccessed_data.append(torch.tensor(enc_dict['input_ids']))\n",
        "              self.attn_masks.append(torch.tensor(enc_dict['attention_mask']))\n",
        "              self.labels.append(torch.tensor(labels))\n",
        "\n",
        "    def convert_data_to_text(self, data_object, max_length):\n",
        "    \n",
        "        return f\"{self.board_state_token}{data_object[0][:max_length]}{self.recent_moves_token}{data_object[1][:max_length]}{self.comment_token}{data_object[2][:max_length]}{self.end_of_text_token}\"\n",
        "\n",
        "    def __len__(self):\n",
        "        return len(self.proccessed_data)\n",
        "\n",
        "    def __getitem__(self, index):\n",
        "        return self.proccessed_data[index], self.attn_masks[index], self.labels[index]"
      ],
      "execution_count": 9,
      "outputs": []
    },
    {
      "cell_type": "code",
      "metadata": {
        "id": "OSYN0XcTcZHq",
        "colab": {
          "base_uri": "https://localhost:8080/"
        },
        "outputId": "cee63bc6-4928-4ec9-e3de-a0825a117e79"
      },
      "source": [
        "if run_in_colab:\n",
        "  from google.colab import drive\n",
        "  drive.mount('/content/drive')\n",
        "  BASE_PATH = '/content/drive/MyDrive/NLP/'\n",
        "else:\n",
        "  BASE_PATH = '/disk2/danielroich/NLP/'"
      ],
      "execution_count": 10,
      "outputs": [
        {
          "output_type": "stream",
          "text": [
            "Mounted at /content/drive\n"
          ],
          "name": "stdout"
        }
      ]
    },
    {
      "cell_type": "code",
      "metadata": {
        "id": "q3aAXb064Nll"
      },
      "source": [
        "games_data_path = BASE_PATH + 'Data/FEN/games_data'"
      ],
      "execution_count": 11,
      "outputs": []
    },
    {
      "cell_type": "code",
      "metadata": {
        "id": "hPOhg5mOHK-h"
      },
      "source": [
        "NUMER_OF_DATA_DIRS =2"
      ],
      "execution_count": 12,
      "outputs": []
    },
    {
      "cell_type": "code",
      "metadata": {
        "id": "aFqXkpjqcZHq"
      },
      "source": [
        "dataset = MovesDataset([f'{games_data_path}{i+1}.p' for i in range(NUMER_OF_DATA_DIRS-1)], tokenizer) \r\n",
        "# last pickle for test 5%"
      ],
      "execution_count": 13,
      "outputs": []
    },
    {
      "cell_type": "code",
      "metadata": {
        "id": "qq7m4-uMcZHr"
      },
      "source": [
        "train_dataloader = DataLoader(dataset, batch_size=BATCH_SIZE, shuffle=True)"
      ],
      "execution_count": 14,
      "outputs": []
    },
    {
      "cell_type": "markdown",
      "metadata": {
        "id": "SKCJ01D0c3zM"
      },
      "source": [
        "# Train\r\n"
      ]
    },
    {
      "cell_type": "code",
      "metadata": {
        "id": "Kx8PAxC_cZHr"
      },
      "source": [
        "run = wandb.init(project=\"LmChess\", config={'batch size' : 2, 'lr' : 3e-5, 'epochs' : 100})"
      ],
      "execution_count": null,
      "outputs": []
    },
    {
      "cell_type": "code",
      "metadata": {
        "id": "G-rJSrz0cZHs"
      },
      "source": [
        "with open(f'{games_data_path}1.p', 'rb') as file:\n",
        "    validation_data = pickle.load(file)[0]\n",
        "textual_validation_data = dataset.convert_data_to_text(validation_data, 798).split('<comment>')\n",
        "validation_target_text = textual_validation_data[1]\n",
        "validation_input_text = textual_validation_data[0] +'<comment>'\n",
        "validation_input_encoding  = tokenizer.encode(validation_input_text, return_tensors=\"pt\").cuda()\n",
        "\n",
        "wandb.log({\"validation_target_text\": wandb.Html(f'<p>{validation_target_text}</p>')})\n",
        "wandb.log({\"validation_input_text\": wandb.Html(f'<p>{validation_input_text}</p>')})\n"
      ],
      "execution_count": 16,
      "outputs": []
    },
    {
      "cell_type": "code",
      "metadata": {
        "id": "L3AnWF8IcZHs"
      },
      "source": [
        "optimizer = AdamW(gpt_model.parameters(), lr=3e-5)\n",
        "scheduler = get_linear_schedule_with_warmup(\n",
        "    optimizer, num_warmup_steps=5000, num_training_steps=-1\n",
        ")"
      ],
      "execution_count": 17,
      "outputs": []
    },
    {
      "cell_type": "code",
      "metadata": {
        "id": "sXZyj7ETVMct"
      },
      "source": [
        "saved_models_path = BASE_PATH + 'models/'"
      ],
      "execution_count": 18,
      "outputs": []
    },
    {
      "cell_type": "code",
      "metadata": {
        "id": "FcJp65sXcZHt"
      },
      "source": [
        "epochs = 100\n",
        "\n",
        "for epoch in range(epochs):\n",
        "    with tqdm(total=len(dataset) / 2) as pbar:\n",
        "        for idx,entry in enumerate(train_dataloader):\n",
        "            if idx % 2000 == 0 and idx != 0:\n",
        "                with torch.no_grad():\n",
        "                    outputs = gpt_model.generate(validation_input_encoding,num_beams=2, no_repeat_ngram_size=2, max_length = 769)\n",
        "                    output_text = tokenizer.decode(outputs[0], skip_special_tokens=True)\n",
        "                wandb.log({\"output_text\": wandb.Html(f'<p>{output_text}</p>')})\n",
        "            if idx % 50000 == 0 and idx != 0:\n",
        "              torch.save(gpt_model.state_dict(), f'{saved_models_path}{idx}_{time.time()}_{int(loss)}.bin')\n",
        "\n",
        "            gpt_model.zero_grad()\n",
        "            inputs = entry[0].cuda()\n",
        "            attn_masks = entry[1].cuda()\n",
        "            labels = entry[2].cuda()\n",
        "            outputs = gpt_model(inputs, labels=labels, attention_mask = attn_masks)\n",
        "            loss = outputs['loss']\n",
        "            loss.backward()\n",
        "            optimizer.step()\n",
        "            scheduler.step()\n",
        "            wandb.log({\"epoch\": epoch, \"loss\": loss})\n",
        "            pbar.update(2)\n",
        "        \n",
        "        # save model after full epoch\n",
        "        torch.save(gpt_model.state_dict(), f'{saved_models_path}{idx}_{time.time()}_{int(loss)}.bin')"
      ],
      "execution_count": null,
      "outputs": []
    },
    {
      "cell_type": "code",
      "metadata": {
        "id": "Aea9RD2gV8qN"
      },
      "source": [
        "# # Re-load the saved model\r\n",
        "# output_model_file = BASE_PATH + 'models/0_1614526824.713789_0.bin'\r\n",
        "# model = GPT2LMHeadModel(configuration)\r\n",
        "# state_dict = torch.load(output_model_file)\r\n",
        "# model.load_state_dict(state_dict)"
      ],
      "execution_count": null,
      "outputs": []
    },
    {
      "cell_type": "markdown",
      "metadata": {
        "id": "jVqX0F8ClYG3"
      },
      "source": [
        "# Evaluation"
      ]
    },
    {
      "cell_type": "markdown",
      "metadata": {
        "id": "vwnIbQcWdL29"
      },
      "source": [
        "every t iterations calculate evaluation metrics for the current model and save the results"
      ]
    },
    {
      "cell_type": "markdown",
      "metadata": {
        "id": "ijQK_MvQYAjF"
      },
      "source": [
        "**bleurt**\r\n",
        "\r\n",
        "https://huggingface.co/metrics/bleurt"
      ]
    },
    {
      "cell_type": "code",
      "metadata": {
        "id": "EhrFzFfdsz8d"
      },
      "source": [
        "!pip install datasets"
      ],
      "execution_count": null,
      "outputs": []
    },
    {
      "cell_type": "code",
      "metadata": {
        "id": "sfryAAsYszvJ"
      },
      "source": [
        "from datasets import load_metric"
      ],
      "execution_count": null,
      "outputs": []
    },
    {
      "cell_type": "code",
      "metadata": {
        "id": "cZwW68p8s2ou"
      },
      "source": [
        "metric = load_metric(\"bleurt\")"
      ],
      "execution_count": null,
      "outputs": []
    },
    {
      "cell_type": "code",
      "metadata": {
        "id": "ig3LwwS_wHKV"
      },
      "source": [
        "import tensorflow as tf\r\n",
        "tf.compat.v1.flags.DEFINE_string('f','','')"
      ],
      "execution_count": null,
      "outputs": []
    },
    {
      "cell_type": "code",
      "metadata": {
        "id": "DAAcmHbTv1Gd"
      },
      "source": [
        "gen_text = \"I am walking on the promenade today\"\r\n",
        "ref_text = \"I am walking along the promenade on this sunny day\""
      ],
      "execution_count": null,
      "outputs": []
    },
    {
      "cell_type": "code",
      "metadata": {
        "id": "_yuGakt7wIDB"
      },
      "source": [
        "metric.compute(predictions=[gen_text], references=[ref_text])"
      ],
      "execution_count": null,
      "outputs": []
    },
    {
      "cell_type": "code",
      "metadata": {
        "id": "ZCPSKANLa_RB"
      },
      "source": [
        ""
      ],
      "execution_count": null,
      "outputs": []
    },
    {
      "cell_type": "code",
      "metadata": {
        "id": "XYlAeq2tKUD-"
      },
      "source": [
        "with open(f'{games_data_path}13.p', 'rb') as file:\r\n",
        "    test_data = pickle.load(file)"
      ],
      "execution_count": null,
      "outputs": []
    },
    {
      "cell_type": "code",
      "metadata": {
        "id": "nngSFL-PLMEW"
      },
      "source": [
        "len(test_data)"
      ],
      "execution_count": null,
      "outputs": []
    },
    {
      "cell_type": "code",
      "metadata": {
        "id": "XaPcHBUPJ_S2"
      },
      "source": [
        "for data in test_data[:1]:\r\n",
        "  textual_data = dataset.convert_data_to_text(data, 798).split('<comment>')\r\n",
        "  target_text = textual_data[1]\r\n",
        "  input_text = textual_data[0] +'<comment>'\r\n",
        "  input_encoding  = tokenizer.encode(input_text, return_tensors=\"pt\").cuda()\r\n",
        "  with torch.no_grad():\r\n",
        "    outputs = gpt_model.generate(input_encoding,num_beams=2, no_repeat_ngram_size=2, max_length = 769)\r\n",
        "    output_text = tokenizer.decode(outputs[0], skip_special_tokens=True)\r\n",
        "  print(output_text)"
      ],
      "execution_count": null,
      "outputs": []
    },
    {
      "cell_type": "code",
      "metadata": {
        "id": "j2nlX-nhXm3k"
      },
      "source": [
        "metric.compute(predictions=output_texts, references=test_data)"
      ],
      "execution_count": null,
      "outputs": []
    },
    {
      "cell_type": "markdown",
      "metadata": {
        "id": "Z6FGuDlddD2z"
      },
      "source": [
        "**Perplexity** \r\n",
        "\r\n",
        "https://huggingface.co/transformers/perplexity.html"
      ]
    },
    {
      "cell_type": "code",
      "metadata": {
        "id": "5CbfKeGodMQM"
      },
      "source": [
        "test_dataset = MovesDataset([f'{games_data_path}13.p'], tokenizer) # last pickle for test 5%\r\n",
        "test_dataloader = DataLoader(test_dataset, batch_size=BATCH_SIZE, shuffle=True)"
      ],
      "execution_count": null,
      "outputs": []
    },
    {
      "cell_type": "code",
      "metadata": {
        "id": "A4zaB8A-iHlY"
      },
      "source": [
        "model = model.cuda()"
      ],
      "execution_count": null,
      "outputs": []
    },
    {
      "cell_type": "code",
      "metadata": {
        "id": "leh3wG8AhZmA"
      },
      "source": [
        "eval_loss = 0 \r\n",
        "with tqdm(total=len(test_dataset) / 2) as pbar:\r\n",
        "  for idx,entry in enumerate(test_dataloader):\r\n",
        "    with torch.no_grad():\r\n",
        "      inputs = entry[0].cuda()\r\n",
        "      labels = entry[0].cuda()\r\n",
        "      attn_masks = entry[1].cuda()\r\n",
        "      outputs = model(inputs, labels=labels, attention_mask = attn_masks)\r\n",
        "    loss = outputs[0]\r\n",
        "    eval_loss += loss.mean().item()\r\n",
        "    pbar.update(2)"
      ],
      "execution_count": null,
      "outputs": []
    },
    {
      "cell_type": "code",
      "metadata": {
        "id": "WWXAPX1Wgd7X"
      },
      "source": [
        "final_eval_loss = eval_loss / (len(test_dataset)/2)\r\n",
        "perplexity = torch.exp(torch.tensor(final_eval_loss))"
      ],
      "execution_count": null,
      "outputs": []
    },
    {
      "cell_type": "code",
      "metadata": {
        "id": "0T0MxGSMiZ7A"
      },
      "source": [
        "perplexity"
      ],
      "execution_count": null,
      "outputs": []
    },
    {
      "cell_type": "markdown",
      "metadata": {
        "id": "KmZw4jhFnDM-"
      },
      "source": [
        "**bleu**\r\n",
        "\r\n",
        "This value indicates how similar the candidate text is to the reference texts\r\n",
        "\r\n",
        "https://www.journaldev.com/46659/bleu-score-in-python\r\n",
        "\r\n",
        "https://machinelearningmastery.com/calculate-bleu-score-for-text-python/"
      ]
    },
    {
      "cell_type": "code",
      "metadata": {
        "id": "qxrZjFEMidph"
      },
      "source": [
        "from nltk.translate.bleu_score import sentence_bleu"
      ],
      "execution_count": null,
      "outputs": []
    },
    {
      "cell_type": "code",
      "metadata": {
        "id": "FYYGCLWYRIbC"
      },
      "source": [
        "reference = [\r\n",
        "    'this is a dog'.split(),\r\n",
        "    'it is dog'.split(),\r\n",
        "    'dog it is'.split(),\r\n",
        "    'a dog, it is'.split() \r\n",
        "]\r\n",
        " \r\n",
        "candidate = 'it is a dog'.split()\r\n",
        "print('BLEU score -> {}'.format(sentence_bleu(reference, candidate)))"
      ],
      "execution_count": null,
      "outputs": []
    },
    {
      "cell_type": "markdown",
      "metadata": {
        "id": "ucb-xM5LTPQk"
      },
      "source": [
        "**bleu2** ? "
      ]
    }
  ]
}