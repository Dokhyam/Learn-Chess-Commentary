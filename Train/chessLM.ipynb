{
  "nbformat": 4,
  "nbformat_minor": 0,
  "metadata": {
    "kernelspec": {
      "display_name": "Python 3",
      "language": "python",
      "name": "python3"
    },
    "language_info": {
      "codemirror_mode": {
        "name": "ipython",
        "version": 3
      },
      "file_extension": ".py",
      "mimetype": "text/x-python",
      "name": "python",
      "nbconvert_exporter": "python",
      "pygments_lexer": "ipython3",
      "version": "3.8.5"
    },
    "colab": {
      "name": "chessLM_newdata.ipynb",
      "provenance": [],
      "collapsed_sections": [
        "tvtxkD3latCT",
        "6T4IfTYjcw_D",
        "SKCJ01D0c3zM",
        "jVqX0F8ClYG3"
      ],
      "toc_visible": true
    },
    "accelerator": "GPU",
    "widgets": {
      "application/vnd.jupyter.widget-state+json": {
        "e98c53c899c04dd49d786bda460dfa69": {
          "model_module": "@jupyter-widgets/controls",
          "model_name": "HBoxModel",
          "state": {
            "_view_name": "HBoxView",
            "_dom_classes": [],
            "_model_name": "HBoxModel",
            "_view_module": "@jupyter-widgets/controls",
            "_model_module_version": "1.5.0",
            "_view_count": null,
            "_view_module_version": "1.5.0",
            "box_style": "",
            "layout": "IPY_MODEL_4b1274af1c3e4c96870e5ba42b4b80b9",
            "_model_module": "@jupyter-widgets/controls",
            "children": [
              "IPY_MODEL_12bff08124d7433bb94799b15e0dcc06",
              "IPY_MODEL_1ecafd9a1a3042cb9547fc6dedde00a1"
            ]
          }
        },
        "4b1274af1c3e4c96870e5ba42b4b80b9": {
          "model_module": "@jupyter-widgets/base",
          "model_name": "LayoutModel",
          "state": {
            "_view_name": "LayoutView",
            "grid_template_rows": null,
            "right": null,
            "justify_content": null,
            "_view_module": "@jupyter-widgets/base",
            "overflow": null,
            "_model_module_version": "1.2.0",
            "_view_count": null,
            "flex_flow": null,
            "width": null,
            "min_width": null,
            "border": null,
            "align_items": null,
            "bottom": null,
            "_model_module": "@jupyter-widgets/base",
            "top": null,
            "grid_column": null,
            "overflow_y": null,
            "overflow_x": null,
            "grid_auto_flow": null,
            "grid_area": null,
            "grid_template_columns": null,
            "flex": null,
            "_model_name": "LayoutModel",
            "justify_items": null,
            "grid_row": null,
            "max_height": null,
            "align_content": null,
            "visibility": null,
            "align_self": null,
            "height": null,
            "min_height": null,
            "padding": null,
            "grid_auto_rows": null,
            "grid_gap": null,
            "max_width": null,
            "order": null,
            "_view_module_version": "1.2.0",
            "grid_template_areas": null,
            "object_position": null,
            "object_fit": null,
            "grid_auto_columns": null,
            "margin": null,
            "display": null,
            "left": null
          }
        },
        "12bff08124d7433bb94799b15e0dcc06": {
          "model_module": "@jupyter-widgets/controls",
          "model_name": "FloatProgressModel",
          "state": {
            "_view_name": "ProgressView",
            "style": "IPY_MODEL_d18cb383a7cb40b3a66ffdeb820e92a8",
            "_dom_classes": [],
            "description": "Downloading: ",
            "_model_name": "FloatProgressModel",
            "bar_style": "success",
            "max": 1895,
            "_view_module": "@jupyter-widgets/controls",
            "_model_module_version": "1.5.0",
            "value": 1895,
            "_view_count": null,
            "_view_module_version": "1.5.0",
            "orientation": "horizontal",
            "min": 0,
            "description_tooltip": null,
            "_model_module": "@jupyter-widgets/controls",
            "layout": "IPY_MODEL_273535346d4c48c199d9cadc4e4cb752"
          }
        },
        "1ecafd9a1a3042cb9547fc6dedde00a1": {
          "model_module": "@jupyter-widgets/controls",
          "model_name": "HTMLModel",
          "state": {
            "_view_name": "HTMLView",
            "style": "IPY_MODEL_52025e0514894de7b6c987440f9aba7a",
            "_dom_classes": [],
            "description": "",
            "_model_name": "HTMLModel",
            "placeholder": "​",
            "_view_module": "@jupyter-widgets/controls",
            "_model_module_version": "1.5.0",
            "value": " 4.68k/? [00:00&lt;00:00, 23.1kB/s]",
            "_view_count": null,
            "_view_module_version": "1.5.0",
            "description_tooltip": null,
            "_model_module": "@jupyter-widgets/controls",
            "layout": "IPY_MODEL_570ba5d61f524bfd8288d8eee2379d01"
          }
        },
        "d18cb383a7cb40b3a66ffdeb820e92a8": {
          "model_module": "@jupyter-widgets/controls",
          "model_name": "ProgressStyleModel",
          "state": {
            "_view_name": "StyleView",
            "_model_name": "ProgressStyleModel",
            "description_width": "initial",
            "_view_module": "@jupyter-widgets/base",
            "_model_module_version": "1.5.0",
            "_view_count": null,
            "_view_module_version": "1.2.0",
            "bar_color": null,
            "_model_module": "@jupyter-widgets/controls"
          }
        },
        "273535346d4c48c199d9cadc4e4cb752": {
          "model_module": "@jupyter-widgets/base",
          "model_name": "LayoutModel",
          "state": {
            "_view_name": "LayoutView",
            "grid_template_rows": null,
            "right": null,
            "justify_content": null,
            "_view_module": "@jupyter-widgets/base",
            "overflow": null,
            "_model_module_version": "1.2.0",
            "_view_count": null,
            "flex_flow": null,
            "width": null,
            "min_width": null,
            "border": null,
            "align_items": null,
            "bottom": null,
            "_model_module": "@jupyter-widgets/base",
            "top": null,
            "grid_column": null,
            "overflow_y": null,
            "overflow_x": null,
            "grid_auto_flow": null,
            "grid_area": null,
            "grid_template_columns": null,
            "flex": null,
            "_model_name": "LayoutModel",
            "justify_items": null,
            "grid_row": null,
            "max_height": null,
            "align_content": null,
            "visibility": null,
            "align_self": null,
            "height": null,
            "min_height": null,
            "padding": null,
            "grid_auto_rows": null,
            "grid_gap": null,
            "max_width": null,
            "order": null,
            "_view_module_version": "1.2.0",
            "grid_template_areas": null,
            "object_position": null,
            "object_fit": null,
            "grid_auto_columns": null,
            "margin": null,
            "display": null,
            "left": null
          }
        },
        "52025e0514894de7b6c987440f9aba7a": {
          "model_module": "@jupyter-widgets/controls",
          "model_name": "DescriptionStyleModel",
          "state": {
            "_view_name": "StyleView",
            "_model_name": "DescriptionStyleModel",
            "description_width": "",
            "_view_module": "@jupyter-widgets/base",
            "_model_module_version": "1.5.0",
            "_view_count": null,
            "_view_module_version": "1.2.0",
            "_model_module": "@jupyter-widgets/controls"
          }
        },
        "570ba5d61f524bfd8288d8eee2379d01": {
          "model_module": "@jupyter-widgets/base",
          "model_name": "LayoutModel",
          "state": {
            "_view_name": "LayoutView",
            "grid_template_rows": null,
            "right": null,
            "justify_content": null,
            "_view_module": "@jupyter-widgets/base",
            "overflow": null,
            "_model_module_version": "1.2.0",
            "_view_count": null,
            "flex_flow": null,
            "width": null,
            "min_width": null,
            "border": null,
            "align_items": null,
            "bottom": null,
            "_model_module": "@jupyter-widgets/base",
            "top": null,
            "grid_column": null,
            "overflow_y": null,
            "overflow_x": null,
            "grid_auto_flow": null,
            "grid_area": null,
            "grid_template_columns": null,
            "flex": null,
            "_model_name": "LayoutModel",
            "justify_items": null,
            "grid_row": null,
            "max_height": null,
            "align_content": null,
            "visibility": null,
            "align_self": null,
            "height": null,
            "min_height": null,
            "padding": null,
            "grid_auto_rows": null,
            "grid_gap": null,
            "max_width": null,
            "order": null,
            "_view_module_version": "1.2.0",
            "grid_template_areas": null,
            "object_position": null,
            "object_fit": null,
            "grid_auto_columns": null,
            "margin": null,
            "display": null,
            "left": null
          }
        },
        "19a9d51380be4913a375f5e128776372": {
          "model_module": "@jupyter-widgets/controls",
          "model_name": "HBoxModel",
          "state": {
            "_view_name": "HBoxView",
            "_dom_classes": [],
            "_model_name": "HBoxModel",
            "_view_module": "@jupyter-widgets/controls",
            "_model_module_version": "1.5.0",
            "_view_count": null,
            "_view_module_version": "1.5.0",
            "box_style": "",
            "layout": "IPY_MODEL_4f27051ebb59495c861c40527992d3c6",
            "_model_module": "@jupyter-widgets/controls",
            "children": [
              "IPY_MODEL_168db8bfcb254e12bcc074b156b2e985",
              "IPY_MODEL_ea53fa5106ca4c5db6024dcda9ffb7c2"
            ]
          }
        },
        "4f27051ebb59495c861c40527992d3c6": {
          "model_module": "@jupyter-widgets/base",
          "model_name": "LayoutModel",
          "state": {
            "_view_name": "LayoutView",
            "grid_template_rows": null,
            "right": null,
            "justify_content": null,
            "_view_module": "@jupyter-widgets/base",
            "overflow": null,
            "_model_module_version": "1.2.0",
            "_view_count": null,
            "flex_flow": null,
            "width": null,
            "min_width": null,
            "border": null,
            "align_items": null,
            "bottom": null,
            "_model_module": "@jupyter-widgets/base",
            "top": null,
            "grid_column": null,
            "overflow_y": null,
            "overflow_x": null,
            "grid_auto_flow": null,
            "grid_area": null,
            "grid_template_columns": null,
            "flex": null,
            "_model_name": "LayoutModel",
            "justify_items": null,
            "grid_row": null,
            "max_height": null,
            "align_content": null,
            "visibility": null,
            "align_self": null,
            "height": null,
            "min_height": null,
            "padding": null,
            "grid_auto_rows": null,
            "grid_gap": null,
            "max_width": null,
            "order": null,
            "_view_module_version": "1.2.0",
            "grid_template_areas": null,
            "object_position": null,
            "object_fit": null,
            "grid_auto_columns": null,
            "margin": null,
            "display": null,
            "left": null
          }
        },
        "168db8bfcb254e12bcc074b156b2e985": {
          "model_module": "@jupyter-widgets/controls",
          "model_name": "FloatProgressModel",
          "state": {
            "_view_name": "ProgressView",
            "style": "IPY_MODEL_bc03830cc73e4b608c541a4f0b48bdc9",
            "_dom_classes": [],
            "description": "Downloading: 100%",
            "_model_name": "FloatProgressModel",
            "bar_style": "success",
            "max": 405489453,
            "_view_module": "@jupyter-widgets/controls",
            "_model_module_version": "1.5.0",
            "value": 405489453,
            "_view_count": null,
            "_view_module_version": "1.5.0",
            "orientation": "horizontal",
            "min": 0,
            "description_tooltip": null,
            "_model_module": "@jupyter-widgets/controls",
            "layout": "IPY_MODEL_563831e486c64e758189a73d75e65894"
          }
        },
        "ea53fa5106ca4c5db6024dcda9ffb7c2": {
          "model_module": "@jupyter-widgets/controls",
          "model_name": "HTMLModel",
          "state": {
            "_view_name": "HTMLView",
            "style": "IPY_MODEL_d83eca67a3fd447ca99afdd80120a04f",
            "_dom_classes": [],
            "description": "",
            "_model_name": "HTMLModel",
            "placeholder": "​",
            "_view_module": "@jupyter-widgets/controls",
            "_model_module_version": "1.5.0",
            "value": " 405M/405M [00:17&lt;00:00, 23.1MB/s]",
            "_view_count": null,
            "_view_module_version": "1.5.0",
            "description_tooltip": null,
            "_model_module": "@jupyter-widgets/controls",
            "layout": "IPY_MODEL_50ce102215914d75bcfa3b70ab52323c"
          }
        },
        "bc03830cc73e4b608c541a4f0b48bdc9": {
          "model_module": "@jupyter-widgets/controls",
          "model_name": "ProgressStyleModel",
          "state": {
            "_view_name": "StyleView",
            "_model_name": "ProgressStyleModel",
            "description_width": "initial",
            "_view_module": "@jupyter-widgets/base",
            "_model_module_version": "1.5.0",
            "_view_count": null,
            "_view_module_version": "1.2.0",
            "bar_color": null,
            "_model_module": "@jupyter-widgets/controls"
          }
        },
        "563831e486c64e758189a73d75e65894": {
          "model_module": "@jupyter-widgets/base",
          "model_name": "LayoutModel",
          "state": {
            "_view_name": "LayoutView",
            "grid_template_rows": null,
            "right": null,
            "justify_content": null,
            "_view_module": "@jupyter-widgets/base",
            "overflow": null,
            "_model_module_version": "1.2.0",
            "_view_count": null,
            "flex_flow": null,
            "width": null,
            "min_width": null,
            "border": null,
            "align_items": null,
            "bottom": null,
            "_model_module": "@jupyter-widgets/base",
            "top": null,
            "grid_column": null,
            "overflow_y": null,
            "overflow_x": null,
            "grid_auto_flow": null,
            "grid_area": null,
            "grid_template_columns": null,
            "flex": null,
            "_model_name": "LayoutModel",
            "justify_items": null,
            "grid_row": null,
            "max_height": null,
            "align_content": null,
            "visibility": null,
            "align_self": null,
            "height": null,
            "min_height": null,
            "padding": null,
            "grid_auto_rows": null,
            "grid_gap": null,
            "max_width": null,
            "order": null,
            "_view_module_version": "1.2.0",
            "grid_template_areas": null,
            "object_position": null,
            "object_fit": null,
            "grid_auto_columns": null,
            "margin": null,
            "display": null,
            "left": null
          }
        },
        "d83eca67a3fd447ca99afdd80120a04f": {
          "model_module": "@jupyter-widgets/controls",
          "model_name": "DescriptionStyleModel",
          "state": {
            "_view_name": "StyleView",
            "_model_name": "DescriptionStyleModel",
            "description_width": "",
            "_view_module": "@jupyter-widgets/base",
            "_model_module_version": "1.5.0",
            "_view_count": null,
            "_view_module_version": "1.2.0",
            "_model_module": "@jupyter-widgets/controls"
          }
        },
        "50ce102215914d75bcfa3b70ab52323c": {
          "model_module": "@jupyter-widgets/base",
          "model_name": "LayoutModel",
          "state": {
            "_view_name": "LayoutView",
            "grid_template_rows": null,
            "right": null,
            "justify_content": null,
            "_view_module": "@jupyter-widgets/base",
            "overflow": null,
            "_model_module_version": "1.2.0",
            "_view_count": null,
            "flex_flow": null,
            "width": null,
            "min_width": null,
            "border": null,
            "align_items": null,
            "bottom": null,
            "_model_module": "@jupyter-widgets/base",
            "top": null,
            "grid_column": null,
            "overflow_y": null,
            "overflow_x": null,
            "grid_auto_flow": null,
            "grid_area": null,
            "grid_template_columns": null,
            "flex": null,
            "_model_name": "LayoutModel",
            "justify_items": null,
            "grid_row": null,
            "max_height": null,
            "align_content": null,
            "visibility": null,
            "align_self": null,
            "height": null,
            "min_height": null,
            "padding": null,
            "grid_auto_rows": null,
            "grid_gap": null,
            "max_width": null,
            "order": null,
            "_view_module_version": "1.2.0",
            "grid_template_areas": null,
            "object_position": null,
            "object_fit": null,
            "grid_auto_columns": null,
            "margin": null,
            "display": null,
            "left": null
          }
        }
      }
    }
  },
  "cells": [
    {
      "cell_type": "markdown",
      "metadata": {
        "id": "846n0WtDcov9"
      },
      "source": [
        "# Setup\n"
      ]
    },
    {
      "cell_type": "code",
      "metadata": {
        "id": "Nk_QX5Fj262O"
      },
      "source": [
        "run_in_colab = True"
      ],
      "execution_count": 1,
      "outputs": []
    },
    {
      "cell_type": "code",
      "metadata": {
        "id": "Zw5izra19Bqg"
      },
      "source": [
        "if run_in_colab:\n",
        "  !pip install transformers\n",
        "  !pip install wandb\n",
        "  from google.colab import drive\n",
        "  drive.mount('/content/drive')"
      ],
      "execution_count": null,
      "outputs": []
    },
    {
      "cell_type": "code",
      "metadata": {
        "id": "lJIGy7y9cZHa"
      },
      "source": [
        "from transformers import GPT2LMHeadModel, GPT2Config, GPT2Tokenizer\n",
        "from transformers import AdamW, get_linear_schedule_with_warmup\n",
        "import pickle\n",
        "from tqdm import tqdm\n",
        "from torch.utils.data import Dataset, DataLoader\n",
        "import numpy as np\n",
        "import torch\n",
        "import logging\n",
        "import os\n",
        "import time"
      ],
      "execution_count": 3,
      "outputs": []
    },
    {
      "cell_type": "code",
      "metadata": {
        "id": "goRDizAYcZHk"
      },
      "source": [
        "import wandb\n",
        "\n",
        "wandb.login()"
      ],
      "execution_count": null,
      "outputs": []
    },
    {
      "cell_type": "code",
      "metadata": {
        "id": "OSYN0XcTcZHq"
      },
      "source": [
        "# if not run_in_colab:\n",
        "#   os.environ['CUDA_DEVICE_ORDER']='PCI_BUS_ID'\n",
        "#   os.environ['CUDA_VISIBLE_DEVICES']='2'"
      ],
      "execution_count": 4,
      "outputs": []
    },
    {
      "cell_type": "code",
      "metadata": {
        "id": "j93CnZ1d9F_Y"
      },
      "source": [
        "if run_in_colab:\n",
        "  BASE_PATH = '/content/drive/MyDrive/NLP/'\n",
        "else:\n",
        "  BASE_PATH = '/home/joberant/nlp_fall_2021/nofarm/chess/'"
      ],
      "execution_count": 5,
      "outputs": []
    },
    {
      "cell_type": "markdown",
      "metadata": {
        "id": "tvtxkD3latCT"
      },
      "source": [
        "# GPT2"
      ]
    },
    {
      "cell_type": "code",
      "metadata": {
        "id": "enWqkWR3cZHm"
      },
      "source": [
        "GPT2_TYPE = \"gpt2\"\n",
        "BATCH_SIZE = 2\n",
        "train_precentege = 0.9"
      ],
      "execution_count": 6,
      "outputs": []
    },
    {
      "cell_type": "code",
      "metadata": {
        "id": "uePb_Mg8cZHn"
      },
      "source": [
        "tokenizer =  GPT2Tokenizer.from_pretrained(GPT2_TYPE)\n",
        "tokenizer.add_special_tokens({'pad_token': '[PAD]'})"
      ],
      "execution_count": null,
      "outputs": []
    },
    {
      "cell_type": "markdown",
      "metadata": {
        "id": "LXjXfvNULFhu"
      },
      "source": [
        "upgrade vocab"
      ]
    },
    {
      "cell_type": "code",
      "metadata": {
        "id": "CNRJ0QVFWna9"
      },
      "source": [
        "dataset_tokens = {'additional_special_tokens': ['<fen>', '<moves>', '<last move description>', '<legal moves>', '<attacked by>', '<attacks>', '<comment>']}"
      ],
      "execution_count": 8,
      "outputs": []
    },
    {
      "cell_type": "code",
      "metadata": {
        "id": "_Egd4LPdXSj7"
      },
      "source": [
        "tokenizer.add_special_tokens(dataset_tokens)"
      ],
      "execution_count": null,
      "outputs": []
    },
    {
      "cell_type": "code",
      "metadata": {
        "id": "TXeuyludRXch"
      },
      "source": [
        "board_notation = []\n",
        "col_names = 'abcdefgh'\n",
        "row_names = '87654321'\n",
        "for col in col_names:\n",
        "  for row in row_names:\n",
        "    board_notation.append(col+row)"
      ],
      "execution_count": 10,
      "outputs": []
    },
    {
      "cell_type": "code",
      "metadata": {
        "id": "2wV0DR1mLCp2"
      },
      "source": [
        "# moves = []\n",
        "# pieces = 'KQRBN'\n",
        "# for piece in pieces:\n",
        "#   for cell in board_notation:\n",
        "#     moves.append(piece+cell) # Ng4\n",
        "#     moves.append(piece+\"x\"+cell) # Qxf6\n",
        "#     for col in col_names:\n",
        "#       moves.append(piece+col+cell) # Nbc6\n",
        "#       moves.append(piece+col+\"x\"+cell) # Ngxe7\n",
        "#     for target_cell in board_notation: \n",
        "#       if cell != target_cell:\n",
        "#         moves.append(piece+cell+target_cell) # Ra5a6\n",
        "#         moves.append(piece+cell+\"x\"+target_cell) # Re6xe7"
      ],
      "execution_count": null,
      "outputs": []
    },
    {
      "cell_type": "code",
      "metadata": {
        "id": "ujoINIK3MkG2"
      },
      "source": [
        "# # check + checkmate\n",
        "# check_moves = []\n",
        "# for move in moves:\n",
        "#   check_moves.append(move+\"+\") # Nxg2+\n",
        "#   check_moves.append(move+\"#\") # Rd2#"
      ],
      "execution_count": null,
      "outputs": []
    },
    {
      "cell_type": "code",
      "metadata": {
        "id": "osorUzGPKi0H"
      },
      "source": [
        "# chess_vocab = board_notation + moves + check_moves + [\"O-O\"]"
      ],
      "execution_count": null,
      "outputs": []
    },
    {
      "cell_type": "code",
      "metadata": {
        "id": "Tykx_TylCrRU"
      },
      "source": [
        "tokenizer.add_tokens(board_notation) "
      ],
      "execution_count": null,
      "outputs": []
    },
    {
      "cell_type": "code",
      "metadata": {
        "id": "kA92bJzCLMlG"
      },
      "source": [
        "# tokenizer.get_added_vocab()"
      ],
      "execution_count": null,
      "outputs": []
    },
    {
      "cell_type": "markdown",
      "metadata": {
        "id": "j9sJziibLJpl"
      },
      "source": [
        "model"
      ]
    },
    {
      "cell_type": "code",
      "metadata": {
        "id": "Tk3WjagjcZHo"
      },
      "source": [
        "configuration = GPT2Config.from_pretrained(GPT2_TYPE)\n",
        "gpt_model = GPT2LMHeadModel.from_pretrained(GPT2_TYPE, config = configuration).cuda()\n",
        "gpt_model.train()\n",
        "gpt_model.resize_token_embeddings(len(tokenizer))"
      ],
      "execution_count": null,
      "outputs": []
    },
    {
      "cell_type": "markdown",
      "metadata": {
        "id": "6T4IfTYjcw_D"
      },
      "source": [
        "# Dataset"
      ]
    },
    {
      "cell_type": "code",
      "metadata": {
        "id": "DvpH2bSrIoe3"
      },
      "source": [
        "data_to_use = {'<fen>':True, '<moves>':True, '<last move description>':False, '<legal moves>':False, '<attacked by>':False, '<attacks>':False}"
      ],
      "execution_count": 35,
      "outputs": []
    },
    {
      "cell_type": "code",
      "metadata": {
        "id": "N0bw2wJu92Lg"
      },
      "source": [
        "def convert_data_to_text(data_object, max_length=768, end_of_text_token= \"<|endoftext|>\"):\n",
        "    (FEN, moves, last_move_desc, legal_moves, attackers_list, attacks_list, comment) = data_object\n",
        "    (FEN, moves, last_move_desc, legal_moves, attackers_list, attacks_list, comment) = (FEN[:max_length], moves[:max_length], last_move_desc[:max_length], legal_moves[:max_length], \\\n",
        "                                                                                        attackers_list[:max_length], attacks_list[:max_length], comment[:max_length])\n",
        "    token_to_data = {'<fen>':FEN, '<moves>':moves, '<last move description>':last_move_desc, '<legal moves>':legal_moves, \n",
        "                   '<attacked by>':attackers_list, '<attacks>':attacks_list}\n",
        "    text = \"\"\n",
        "    for token in token_to_data.keys():\n",
        "      if data_to_use[token]:\n",
        "        text += f\"{token} {token_to_data[token]} \"\n",
        "    text += f\"<comment> {comment} {end_of_text_token}\"  # comment always included at the end + end token\n",
        "    \n",
        "    return text"
      ],
      "execution_count": 26,
      "outputs": []
    },
    {
      "cell_type": "code",
      "metadata": {
        "id": "GXD6zdMucZHp"
      },
      "source": [
        "class MovesDataset(Dataset):\n",
        "    def __init__(self, paths,tokenizer, max_length=768):\n",
        "        \n",
        "        self.comment_encoding = tokenizer('<comment>')['input_ids'][0]  # 50266\n",
        "        \n",
        "        self.proccessed_data = []\n",
        "        self.attn_masks = []\n",
        "        self.labels = []\n",
        "\n",
        "        for path in paths:\n",
        "            with open(path, 'rb') as file:\n",
        "              raw_data = pickle.load(file)\n",
        "            for data_object in raw_data:\n",
        "              text = convert_data_to_text(data_object)\n",
        "\n",
        "              enc_text = tokenizer(text, truncation = True, max_length= max_length, padding = \"max_length\")\n",
        "\n",
        "              inputs = enc_text['input_ids']\n",
        "              label_idx = inputs.index(self.comment_encoding) +1\n",
        "              labels = [-100] * label_idx + inputs[label_idx:]\n",
        "\n",
        "              self.proccessed_data.append(torch.tensor(inputs))\n",
        "              self.attn_masks.append(torch.tensor(enc_text['attention_mask']))\n",
        "              self.labels.append(torch.tensor(labels))\n",
        "\n",
        "    def __len__(self):\n",
        "        return len(self.proccessed_data)\n",
        "\n",
        "    def __getitem__(self, index):\n",
        "        return self.proccessed_data[index], self.attn_masks[index], self.labels[index]"
      ],
      "execution_count": 30,
      "outputs": []
    },
    {
      "cell_type": "code",
      "metadata": {
        "id": "q3aAXb064Nll"
      },
      "source": [
        "games_data_path = BASE_PATH + 'Data/NEW/games_data'"
      ],
      "execution_count": 14,
      "outputs": []
    },
    {
      "cell_type": "code",
      "metadata": {
        "id": "hPOhg5mOHK-h"
      },
      "source": [
        "NUMER_OF_DATA_DIRS = 12"
      ],
      "execution_count": 15,
      "outputs": []
    },
    {
      "cell_type": "code",
      "metadata": {
        "id": "aFqXkpjqcZHq"
      },
      "source": [
        "train_dataset = MovesDataset([f'{games_data_path}{i+1}.p' for i in range(NUMER_OF_DATA_DIRS-1)], tokenizer) "
      ],
      "execution_count": null,
      "outputs": []
    },
    {
      "cell_type": "code",
      "metadata": {
        "id": "xjPb4M0fEKEc"
      },
      "source": [
        "# last pickle for test 5%\n",
        "test_dataset = MovesDataset([f'{games_data_path}{NUMER_OF_DATA_DIRS}.p'], tokenizer) "
      ],
      "execution_count": 31,
      "outputs": []
    },
    {
      "cell_type": "code",
      "metadata": {
        "id": "qq7m4-uMcZHr"
      },
      "source": [
        "train_dataloader = DataLoader(train_dataset, batch_size=BATCH_SIZE, shuffle=True)"
      ],
      "execution_count": null,
      "outputs": []
    },
    {
      "cell_type": "code",
      "metadata": {
        "id": "CI9g2ZHlELQF"
      },
      "source": [
        "test_dataloader = DataLoader(test_dataset, batch_size=BATCH_SIZE, shuffle=True)"
      ],
      "execution_count": 32,
      "outputs": []
    },
    {
      "cell_type": "markdown",
      "metadata": {
        "id": "SKCJ01D0c3zM"
      },
      "source": [
        "# Train\n"
      ]
    },
    {
      "cell_type": "code",
      "metadata": {
        "id": "Kx8PAxC_cZHr"
      },
      "source": [
        "run = wandb.init(project=\"LmChess\", config={'batch size' : 2, 'lr' : 3e-5, 'epochs' : 100})"
      ],
      "execution_count": null,
      "outputs": []
    },
    {
      "cell_type": "code",
      "metadata": {
        "id": "ZLCe7u_uLvoO"
      },
      "source": [
        "with open(f'{games_data_path}{NUMER_OF_DATA_DIRS}.p', 'rb') as file:\n",
        "    validation_data = pickle.load(file)"
      ],
      "execution_count": 36,
      "outputs": []
    },
    {
      "cell_type": "code",
      "metadata": {
        "id": "G-rJSrz0cZHs"
      },
      "source": [
        "textual_validation_data = convert_data_to_text(validation_data[0], 798).split('<comment>')\n",
        "\n",
        "validation_target_text = textual_validation_data[1]\n",
        "validation_input_text = textual_validation_data[0] +'<comment>'\n",
        "validation_input_encoding  = tokenizer.encode(validation_input_text, return_tensors=\"pt\").cuda()\n",
        "\n",
        "wandb.log({\"validation_target_text\": wandb.Html(f'<p>{validation_target_text}</p>')})\n",
        "wandb.log({\"validation_input_text\": wandb.Html(f'<p>{validation_input_text}</p>')})"
      ],
      "execution_count": 37,
      "outputs": []
    },
    {
      "cell_type": "code",
      "metadata": {
        "id": "L3AnWF8IcZHs"
      },
      "source": [
        "optimizer = AdamW(gpt_model.parameters(), lr=3e-5)\n",
        "scheduler = get_linear_schedule_with_warmup(\n",
        "    optimizer, num_warmup_steps=5000, num_training_steps=-1\n",
        ")"
      ],
      "execution_count": 40,
      "outputs": []
    },
    {
      "cell_type": "code",
      "metadata": {
        "id": "sXZyj7ETVMct"
      },
      "source": [
        "saved_models_path = BASE_PATH + 'Models/'\n",
        "loss = 0"
      ],
      "execution_count": 41,
      "outputs": []
    },
    {
      "cell_type": "code",
      "metadata": {
        "id": "FcJp65sXcZHt"
      },
      "source": [
        "epochs = 100\n",
        "\n",
        "for epoch in range(epochs):\n",
        "    with tqdm(total=len(train_dataset) / 2) as pbar:\n",
        "        for idx,entry in enumerate(train_dataloader):\n",
        "            if idx % 2000 == 0 and idx != 0:\n",
        "              with torch.no_grad():\n",
        "                  outputs = gpt_model.generate(validation_input_encoding,num_beams=2, no_repeat_ngram_size=2, max_length = 769)\n",
        "                  output_text = tokenizer.decode(outputs[0], skip_special_tokens=True)\n",
        "              wandb.log({\"output_text\": wandb.Html(f'<p>{output_text}</p>')})\n",
        "            if idx % 50000 == 0:\n",
        "              torch.save(gpt_model.state_dict(), f'{saved_models_path}{idx}_{time.time()}_{int(loss)}.bin')\n",
        "\n",
        "            gpt_model.zero_grad()\n",
        "            inputs = entry[0].cuda()\n",
        "            attn_masks = entry[1].cuda()\n",
        "            labels = entry[2].cuda()\n",
        "            outputs = gpt_model(inputs, labels=labels, attention_mask = attn_masks)\n",
        "            loss = outputs['loss']\n",
        "            loss.backward()\n",
        "            optimizer.step()\n",
        "            scheduler.step()\n",
        "            wandb.log({\"epoch\": epoch, \"loss\": loss})\n",
        "            pbar.update(2)\n",
        "        \n",
        "        # save model after full epoch\n",
        "        torch.save(gpt_model.state_dict(), f'{saved_models_path}{idx}_{time.time()}_{int(loss)}.bin')"
      ],
      "execution_count": null,
      "outputs": []
    },
    {
      "cell_type": "code",
      "metadata": {
        "id": "Aea9RD2gV8qN"
      },
      "source": [
        "# # Re-load the saved model\n",
        "# output_model_file = BASE_PATH + 'models/0_1614526824.713789_0.bin'\n",
        "# model = GPT2LMHeadModel(configuration)\n",
        "# state_dict = torch.load(output_model_file)\n",
        "# model.load_state_dict(state_dict)"
      ],
      "execution_count": null,
      "outputs": []
    },
    {
      "cell_type": "markdown",
      "metadata": {
        "id": "jVqX0F8ClYG3"
      },
      "source": [
        "# Evaluation"
      ]
    },
    {
      "cell_type": "markdown",
      "metadata": {
        "id": "vwnIbQcWdL29"
      },
      "source": [
        "every t iterations calculate evaluation metrics for the current model and save the results"
      ]
    },
    {
      "cell_type": "markdown",
      "metadata": {
        "id": "ijQK_MvQYAjF"
      },
      "source": [
        "**bleurt**\n",
        "\n",
        "https://huggingface.co/metrics/bleurt"
      ]
    },
    {
      "cell_type": "code",
      "metadata": {
        "id": "1bQKii0FzAQj"
      },
      "source": [
        "!pip install git+https://github.com/google-research/bleurt.git"
      ],
      "execution_count": null,
      "outputs": []
    },
    {
      "cell_type": "code",
      "metadata": {
        "id": "EhrFzFfdsz8d"
      },
      "source": [
        "!pip install datasets"
      ],
      "execution_count": null,
      "outputs": []
    },
    {
      "cell_type": "code",
      "metadata": {
        "id": "sfryAAsYszvJ"
      },
      "source": [
        "from datasets import load_metric"
      ],
      "execution_count": 17,
      "outputs": []
    },
    {
      "cell_type": "code",
      "metadata": {
        "id": "cZwW68p8s2ou",
        "colab": {
          "base_uri": "https://localhost:8080/",
          "height": 336,
          "referenced_widgets": [
            "e98c53c899c04dd49d786bda460dfa69",
            "4b1274af1c3e4c96870e5ba42b4b80b9",
            "12bff08124d7433bb94799b15e0dcc06",
            "1ecafd9a1a3042cb9547fc6dedde00a1",
            "d18cb383a7cb40b3a66ffdeb820e92a8",
            "273535346d4c48c199d9cadc4e4cb752",
            "52025e0514894de7b6c987440f9aba7a",
            "570ba5d61f524bfd8288d8eee2379d01",
            "19a9d51380be4913a375f5e128776372",
            "4f27051ebb59495c861c40527992d3c6",
            "168db8bfcb254e12bcc074b156b2e985",
            "ea53fa5106ca4c5db6024dcda9ffb7c2",
            "bc03830cc73e4b608c541a4f0b48bdc9",
            "563831e486c64e758189a73d75e65894",
            "d83eca67a3fd447ca99afdd80120a04f",
            "50ce102215914d75bcfa3b70ab52323c"
          ]
        },
        "outputId": "271e5f6d-276e-4cae-9d69-ba223b908d41"
      },
      "source": [
        "metric = load_metric(\"bleurt\")"
      ],
      "execution_count": 18,
      "outputs": [
        {
          "output_type": "display_data",
          "data": {
            "application/vnd.jupyter.widget-view+json": {
              "model_id": "e98c53c899c04dd49d786bda460dfa69",
              "version_minor": 0,
              "version_major": 2
            },
            "text/plain": [
              "HBox(children=(FloatProgress(value=0.0, description='Downloading', max=1895.0, style=ProgressStyle(description…"
            ]
          },
          "metadata": {
            "tags": []
          }
        },
        {
          "output_type": "stream",
          "text": [
            "\n"
          ],
          "name": "stdout"
        },
        {
          "output_type": "stream",
          "text": [
            "Using default BLEURT-Base checkpoint for sequence maximum length 128. You can use a bigger model for better results with e.g.: datasets.load_metric('bleurt', 'bleurt-large-512').\n"
          ],
          "name": "stderr"
        },
        {
          "output_type": "display_data",
          "data": {
            "application/vnd.jupyter.widget-view+json": {
              "model_id": "19a9d51380be4913a375f5e128776372",
              "version_minor": 0,
              "version_major": 2
            },
            "text/plain": [
              "HBox(children=(FloatProgress(value=0.0, description='Downloading', max=405489453.0, style=ProgressStyle(descri…"
            ]
          },
          "metadata": {
            "tags": []
          }
        },
        {
          "output_type": "stream",
          "text": [
            "\n",
            "INFO:tensorflow:Reading checkpoint /root/.cache/huggingface/metrics/bleurt/default/downloads/extracted/887f2dc36c17f53c287f696681b8f7c947278407c1cf9f226662e16c8c0dc417/bleurt-base-128.\n",
            "INFO:tensorflow:Config file found, reading.\n",
            "INFO:tensorflow:Will load checkpoint bert_custom\n",
            "INFO:tensorflow:Performs basic checks...\n",
            "INFO:tensorflow:... name:bert_custom\n",
            "INFO:tensorflow:... vocab_file:vocab.txt\n",
            "INFO:tensorflow:... bert_config_file:bert_config.json\n",
            "INFO:tensorflow:... do_lower_case:True\n",
            "INFO:tensorflow:... max_seq_length:128\n",
            "INFO:tensorflow:Creating BLEURT scorer.\n",
            "INFO:tensorflow:Loading model...\n",
            "INFO:tensorflow:BLEURT initialized.\n"
          ],
          "name": "stdout"
        }
      ]
    },
    {
      "cell_type": "code",
      "metadata": {
        "id": "ig3LwwS_wHKV",
        "colab": {
          "base_uri": "https://localhost:8080/"
        },
        "outputId": "4648acb0-0e21-4e0a-b75b-e834108cafbd"
      },
      "source": [
        "import tensorflow as tf\n",
        "tf.compat.v1.flags.DEFINE_string('f','','')"
      ],
      "execution_count": 19,
      "outputs": [
        {
          "output_type": "execute_result",
          "data": {
            "text/plain": [
              "<absl.flags._flagvalues.FlagHolder at 0x7fab04789310>"
            ]
          },
          "metadata": {
            "tags": []
          },
          "execution_count": 19
        }
      ]
    },
    {
      "cell_type": "code",
      "metadata": {
        "id": "NIQPlgHk_eVQ"
      },
      "source": [
        ""
      ],
      "execution_count": null,
      "outputs": []
    },
    {
      "cell_type": "code",
      "metadata": {
        "id": "DAAcmHbTv1Gd"
      },
      "source": [
        "gen_text = \"I am walking on the promenade today\"\n",
        "ref_text = \"I am walking along the promenade on this sunny day\""
      ],
      "execution_count": null,
      "outputs": []
    },
    {
      "cell_type": "code",
      "metadata": {
        "id": "_yuGakt7wIDB",
        "colab": {
          "base_uri": "https://localhost:8080/"
        },
        "outputId": "3988ac89-1c4f-42d0-c5b6-818666e10f25"
      },
      "source": [
        "metric.compute(predictions=[gen_text], references=[ref_text])"
      ],
      "execution_count": null,
      "outputs": [
        {
          "output_type": "execute_result",
          "data": {
            "text/plain": [
              "{'scores': [0.24435952305793762]}"
            ]
          },
          "metadata": {
            "tags": []
          },
          "execution_count": 20
        }
      ]
    },
    {
      "cell_type": "code",
      "metadata": {
        "id": "ZCPSKANLa_RB"
      },
      "source": [
        ""
      ],
      "execution_count": null,
      "outputs": []
    },
    {
      "cell_type": "code",
      "metadata": {
        "id": "XYlAeq2tKUD-"
      },
      "source": [
        "with open(f'{games_data_path}{NUMER_OF_DATA_DIRS}.p', 'rb') as file:\n",
        "    test_data = pickle.load(file)"
      ],
      "execution_count": 23,
      "outputs": []
    },
    {
      "cell_type": "code",
      "metadata": {
        "id": "XaPcHBUPJ_S2"
      },
      "source": [
        "input_texts = []\n",
        "output_texts = []\n",
        "for data in test_data[:3]:\n",
        "  textual_data = convert_data_to_text(data, 798)\n",
        "  input_texts.append(textual_data)\n",
        "  textual_data = textual_data.split('<comment>')\n",
        "  target_text = textual_data[1]\n",
        "  input_text = textual_data[0] +'<comment> '\n",
        "  input_encoding  = tokenizer.encode(input_text, return_tensors=\"pt\").cuda()\n",
        "  with torch.no_grad():\n",
        "    outputs = gpt_model.generate(input_encoding,num_beams=2, no_repeat_ngram_size=2, max_length = 769)\n",
        "    output_text = tokenizer.decode(outputs[0], skip_special_tokens=True)\n",
        "  output_texts.append(output_text)"
      ],
      "execution_count": null,
      "outputs": []
    },
    {
      "cell_type": "code",
      "metadata": {
        "id": "j2nlX-nhXm3k",
        "colab": {
          "base_uri": "https://localhost:8080/"
        },
        "outputId": "291d9c47-0552-48ad-b902-17c112c9c28b"
      },
      "source": [
        "metric.compute(predictions=output_texts, references=input_texts)"
      ],
      "execution_count": 30,
      "outputs": [
        {
          "output_type": "execute_result",
          "data": {
            "text/plain": [
              "{'scores': [-0.5330486297607422, -0.37327098846435547, -0.13228969275951385]}"
            ]
          },
          "metadata": {
            "tags": []
          },
          "execution_count": 30
        }
      ]
    },
    {
      "cell_type": "markdown",
      "metadata": {
        "id": "Z6FGuDlddD2z"
      },
      "source": [
        "**Perplexity** \n",
        "\n",
        "https://huggingface.co/transformers/perplexity.html"
      ]
    },
    {
      "cell_type": "code",
      "metadata": {
        "id": "5CbfKeGodMQM"
      },
      "source": [
        "test_dataset = MovesDataset([f'{games_data_path}13.p'], tokenizer) # last pickle for test 5%\n",
        "test_dataloader = DataLoader(test_dataset, batch_size=BATCH_SIZE, shuffle=True)"
      ],
      "execution_count": null,
      "outputs": []
    },
    {
      "cell_type": "code",
      "metadata": {
        "id": "A4zaB8A-iHlY"
      },
      "source": [
        "model = model.cuda()"
      ],
      "execution_count": null,
      "outputs": []
    },
    {
      "cell_type": "code",
      "metadata": {
        "id": "leh3wG8AhZmA"
      },
      "source": [
        "eval_loss = 0 \n",
        "with tqdm(total=len(test_dataset) / 2) as pbar:\n",
        "  for idx,entry in enumerate(test_dataloader):\n",
        "    with torch.no_grad():\n",
        "      inputs = entry[0].cuda()\n",
        "      attn_masks = entry[1].cuda()\n",
        "      labels = entry[2].cuda()\n",
        "      outputs = model(inputs, labels=labels, attention_mask = attn_masks)\n",
        "    loss = outputs[0]\n",
        "    eval_loss += loss.mean().item()\n",
        "    pbar.update(2)"
      ],
      "execution_count": null,
      "outputs": []
    },
    {
      "cell_type": "code",
      "metadata": {
        "id": "WWXAPX1Wgd7X"
      },
      "source": [
        "final_eval_loss = eval_loss / (len(test_dataset)/2)\n",
        "perplexity = torch.exp(torch.tensor(final_eval_loss))"
      ],
      "execution_count": null,
      "outputs": []
    },
    {
      "cell_type": "code",
      "metadata": {
        "id": "0T0MxGSMiZ7A"
      },
      "source": [
        "perplexity"
      ],
      "execution_count": null,
      "outputs": []
    },
    {
      "cell_type": "markdown",
      "metadata": {
        "id": "KmZw4jhFnDM-"
      },
      "source": [
        "**bleu**\n",
        "\n",
        "This value indicates how similar the candidate text is to the reference texts\n",
        "\n",
        "https://www.journaldev.com/46659/bleu-score-in-python\n",
        "\n",
        "https://machinelearningmastery.com/calculate-bleu-score-for-text-python/"
      ]
    },
    {
      "cell_type": "code",
      "metadata": {
        "id": "qxrZjFEMidph"
      },
      "source": [
        "from nltk.translate.bleu_score import sentence_bleu"
      ],
      "execution_count": 1,
      "outputs": []
    },
    {
      "cell_type": "code",
      "metadata": {
        "id": "FYYGCLWYRIbC",
        "colab": {
          "base_uri": "https://localhost:8080/"
        },
        "outputId": "44bcbc65-3dbb-4f57-d795-907f1516f32e"
      },
      "source": [
        "reference = [\n",
        "    'this is a dog'.split(),\n",
        "    'it is dog'.split(),\n",
        "    'dog it is'.split(),\n",
        "    'a dog, it is'.split() \n",
        "]\n",
        " \n",
        "candidate = 'it is a dog'.split()\n",
        "print('BLEU score -> {}'.format(sentence_bleu(reference, candidate)))"
      ],
      "execution_count": 2,
      "outputs": [
        {
          "output_type": "stream",
          "text": [
            "BLEU score -> 0.8408964152537145\n"
          ],
          "name": "stdout"
        },
        {
          "output_type": "stream",
          "text": [
            "/usr/local/lib/python3.7/dist-packages/nltk/translate/bleu_score.py:490: UserWarning: \n",
            "Corpus/Sentence contains 0 counts of 4-gram overlaps.\n",
            "BLEU scores might be undesirable; use SmoothingFunction().\n",
            "  warnings.warn(_msg)\n"
          ],
          "name": "stderr"
        }
      ]
    },
    {
      "cell_type": "markdown",
      "metadata": {
        "id": "ucb-xM5LTPQk"
      },
      "source": [
        "**bleu2** ? "
      ]
    }
  ]
}