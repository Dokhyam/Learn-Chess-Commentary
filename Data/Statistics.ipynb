{
  "nbformat": 4,
  "nbformat_minor": 0,
  "metadata": {
    "colab": {
      "name": "Copy of data_numbers.ipynb",
      "provenance": [],
      "collapsed_sections": [
        "31hXAKSWbXs7",
        "xF59PwnGbZqv",
        "kl8bbiIqbbCu",
        "BEGlIx7Bbpjv",
        "IhSix7h26TPq",
        "zg2Hw4cQ6ttI",
        "p0ScYbqI7Tw4",
        "MMQHLkXUbsc5",
        "vgnp6R50bwPo"
      ]
    },
    "kernelspec": {
      "name": "python3",
      "display_name": "Python 3"
    }
  },
  "cells": [
    {
      "cell_type": "markdown",
      "metadata": {
        "id": "31hXAKSWbXs7"
      },
      "source": [
        "# games"
      ]
    },
    {
      "cell_type": "code",
      "metadata": {
        "id": "CLd1Y9eP3GdG"
      },
      "source": [
        "annotated_url = \"https://gameknot.com/list_annotated.pl?u=all\"\n",
        "number_of_pages = 316"
      ],
      "execution_count": 1,
      "outputs": []
    },
    {
      "cell_type": "code",
      "metadata": {
        "id": "ln9LNeX1NMpQ"
      },
      "source": [
        "import pickle"
      ],
      "execution_count": 2,
      "outputs": []
    },
    {
      "cell_type": "code",
      "metadata": {
        "colab": {
          "base_uri": "https://localhost:8080/"
        },
        "id": "wOU8bXl82X57",
        "outputId": "2c54efb3-d9f5-426c-8977-59d30480705c"
      },
      "source": [
        "from google.colab import drive\n",
        "drive.mount('/content/drive')"
      ],
      "execution_count": 3,
      "outputs": [
        {
          "output_type": "stream",
          "text": [
            "Mounted at /content/drive\n"
          ],
          "name": "stdout"
        }
      ]
    },
    {
      "cell_type": "code",
      "metadata": {
        "id": "1Hr2gUhu3GfK"
      },
      "source": [
        "BASE_PATH = '/content/drive/MyDrive/NLP/Data/'"
      ],
      "execution_count": 4,
      "outputs": []
    },
    {
      "cell_type": "code",
      "metadata": {
        "id": "eI8kLkyb2oFj"
      },
      "source": [
        "game_urls = pickle.load(open(BASE_PATH+\"saved_game_urls.p\",\"rb\"))"
      ],
      "execution_count": 5,
      "outputs": []
    },
    {
      "cell_type": "code",
      "metadata": {
        "colab": {
          "base_uri": "https://localhost:8080/"
        },
        "id": "nhbMP2H12oDb",
        "outputId": "cf1d5aa6-75c8-4ce8-9e99-df3b2be26eb7"
      },
      "source": [
        "len(game_urls)"
      ],
      "execution_count": 6,
      "outputs": [
        {
          "output_type": "execute_result",
          "data": {
            "text/plain": [
              "12636"
            ]
          },
          "metadata": {
            "tags": []
          },
          "execution_count": 6
        }
      ]
    },
    {
      "cell_type": "code",
      "metadata": {
        "colab": {
          "base_uri": "https://localhost:8080/"
        },
        "id": "LFMtGy1JzEOe",
        "outputId": "937008bb-64d8-45b1-c328-e8e0c37c060c"
      },
      "source": [
        "len(list(set(game_urls)))"
      ],
      "execution_count": 7,
      "outputs": [
        {
          "output_type": "execute_result",
          "data": {
            "text/plain": [
              "12636"
            ]
          },
          "metadata": {
            "tags": []
          },
          "execution_count": 7
        }
      ]
    },
    {
      "cell_type": "markdown",
      "metadata": {
        "id": "xF59PwnGbZqv"
      },
      "source": [
        "# load"
      ]
    },
    {
      "cell_type": "code",
      "metadata": {
        "id": "jx9kF-e_2NHr"
      },
      "source": [
        "games_data_path = BASE_PATH + 'NEW/games_data'\n",
        "NUMER_OF_DATA_DIRS = 12"
      ],
      "execution_count": 8,
      "outputs": []
    },
    {
      "cell_type": "code",
      "metadata": {
        "id": "j_jP874a2bJd"
      },
      "source": [
        "paths = [f'{games_data_path}{i+1}.p' for i in range(NUMER_OF_DATA_DIRS)]"
      ],
      "execution_count": 9,
      "outputs": []
    },
    {
      "cell_type": "code",
      "metadata": {
        "id": "wP6ps9WpNjwd"
      },
      "source": [
        "data = []\n",
        "for path in paths:\n",
        "    with open(path, 'rb') as file:\n",
        "        raw_data = pickle.load(file)\n",
        "    data.extend(raw_data)"
      ],
      "execution_count": 14,
      "outputs": []
    },
    {
      "cell_type": "markdown",
      "metadata": {
        "id": "kl8bbiIqbbCu"
      },
      "source": [
        "# samples\n"
      ]
    },
    {
      "cell_type": "code",
      "metadata": {
        "id": "Ox-ZcYSo_r-W",
        "colab": {
          "base_uri": "https://localhost:8080/"
        },
        "outputId": "7e0211b9-17c9-44f3-92c4-995925fd0155"
      },
      "source": [
        "len(data)"
      ],
      "execution_count": 15,
      "outputs": [
        {
          "output_type": "execute_result",
          "data": {
            "text/plain": [
              "349015"
            ]
          },
          "metadata": {
            "tags": []
          },
          "execution_count": 15
        }
      ]
    },
    {
      "cell_type": "code",
      "metadata": {
        "id": "NsNm6eJDNQ2E",
        "colab": {
          "base_uri": "https://localhost:8080/"
        },
        "outputId": "1054e62b-e517-4c3b-a42e-2ea59d12511e"
      },
      "source": [
        "len(list(set(data)))"
      ],
      "execution_count": 16,
      "outputs": [
        {
          "output_type": "execute_result",
          "data": {
            "text/plain": [
              "348868"
            ]
          },
          "metadata": {
            "tags": []
          },
          "execution_count": 16
        }
      ]
    },
    {
      "cell_type": "code",
      "metadata": {
        "id": "ligaVnpI1Pp4"
      },
      "source": [
        "total = len(list(set(data)))"
      ],
      "execution_count": 24,
      "outputs": []
    },
    {
      "cell_type": "code",
      "metadata": {
        "id": "8xDNr11e3ZMK"
      },
      "source": [
        "moves_count, legal_moves_count, attackers_count, attacks_count, len_comment = [], [], [], [], []\n",
        "\n",
        "for data_object in data:\n",
        "  (FEN, moves, last_move_desc, legal_moves, attackers_list, attacks_list, comment) = data_object\n",
        "\n",
        "  moves_ = moves.count(',') + 1 if moves != '' else 0\n",
        "  moves_count.append(moves_)\n",
        "\n",
        "  legal_moves_ = legal_moves.count(',') + 1 if legal_moves != '' else 0\n",
        "  legal_moves_count.append(legal_moves_) \n",
        "\n",
        "  attackers = attackers_list.count(',') + 1 if attackers_list != '' else 0\n",
        "  attackers_count.append(attackers) \n",
        "\n",
        "  attacks = attacks_list.count(',') + 1 if attacks_list != '' else 0\n",
        "  attacks_count.append(attacks) \n",
        "  \n",
        "  len_comment.append(len(comment.split(' ')))"
      ],
      "execution_count": 26,
      "outputs": []
    },
    {
      "cell_type": "markdown",
      "metadata": {
        "id": "BEGlIx7Bbpjv"
      },
      "source": [
        "# moves"
      ]
    },
    {
      "cell_type": "code",
      "metadata": {
        "id": "Q5gzsmodAPbq"
      },
      "source": [
        "import collections\n",
        "import matplotlib.pyplot as plt"
      ],
      "execution_count": 27,
      "outputs": []
    },
    {
      "cell_type": "code",
      "metadata": {
        "id": "mXFGEttDAl4K"
      },
      "source": [
        "ctr_moves = collections.Counter(moves_count)"
      ],
      "execution_count": 28,
      "outputs": []
    },
    {
      "cell_type": "code",
      "metadata": {
        "id": "MZj6GgFkcd3B",
        "colab": {
          "base_uri": "https://localhost:8080/"
        },
        "outputId": "dbcd99de-adbc-4783-bfbc-be313efc8adb"
      },
      "source": [
        "ctr_moves"
      ],
      "execution_count": 29,
      "outputs": [
        {
          "output_type": "execute_result",
          "data": {
            "text/plain": [
              "Counter({0: 4661,\n",
              "         1: 200480,\n",
              "         2: 59968,\n",
              "         3: 27604,\n",
              "         4: 19430,\n",
              "         5: 10114,\n",
              "         6: 7594,\n",
              "         7: 4352,\n",
              "         8: 3516,\n",
              "         9: 2203,\n",
              "         10: 1865,\n",
              "         11: 1199,\n",
              "         12: 1032,\n",
              "         13: 749,\n",
              "         14: 665,\n",
              "         15: 499,\n",
              "         16: 463,\n",
              "         17: 319,\n",
              "         18: 290,\n",
              "         19: 244,\n",
              "         20: 212,\n",
              "         21: 172,\n",
              "         22: 157,\n",
              "         23: 117,\n",
              "         24: 93,\n",
              "         25: 98,\n",
              "         26: 80,\n",
              "         27: 73,\n",
              "         28: 72,\n",
              "         29: 55,\n",
              "         30: 55,\n",
              "         31: 45,\n",
              "         32: 43,\n",
              "         33: 45,\n",
              "         34: 29,\n",
              "         35: 19,\n",
              "         36: 29,\n",
              "         37: 21,\n",
              "         38: 21,\n",
              "         39: 20,\n",
              "         40: 22,\n",
              "         41: 19,\n",
              "         42: 7,\n",
              "         43: 17,\n",
              "         44: 16,\n",
              "         45: 10,\n",
              "         46: 15,\n",
              "         47: 14,\n",
              "         48: 5,\n",
              "         49: 11,\n",
              "         50: 8,\n",
              "         51: 9,\n",
              "         52: 5,\n",
              "         53: 7,\n",
              "         54: 12,\n",
              "         55: 12,\n",
              "         56: 13,\n",
              "         57: 7,\n",
              "         58: 8,\n",
              "         59: 4,\n",
              "         60: 1,\n",
              "         61: 6,\n",
              "         62: 3,\n",
              "         63: 1,\n",
              "         64: 10,\n",
              "         65: 3,\n",
              "         66: 4,\n",
              "         67: 5,\n",
              "         68: 4,\n",
              "         69: 3,\n",
              "         73: 2,\n",
              "         74: 2,\n",
              "         75: 2,\n",
              "         76: 3,\n",
              "         77: 2,\n",
              "         78: 4,\n",
              "         79: 4,\n",
              "         80: 5,\n",
              "         82: 3,\n",
              "         84: 1,\n",
              "         87: 2,\n",
              "         92: 1,\n",
              "         93: 1,\n",
              "         94: 3,\n",
              "         97: 2,\n",
              "         100: 1,\n",
              "         104: 1,\n",
              "         108: 1,\n",
              "         109: 1,\n",
              "         110: 1,\n",
              "         117: 1,\n",
              "         118: 2,\n",
              "         122: 1,\n",
              "         124: 1,\n",
              "         127: 1,\n",
              "         129: 2,\n",
              "         160: 1})"
            ]
          },
          "metadata": {
            "tags": []
          },
          "execution_count": 29
        }
      ]
    },
    {
      "cell_type": "code",
      "metadata": {
        "colab": {
          "base_uri": "https://localhost:8080/",
          "height": 333
        },
        "id": "kZjI4nDYcF5V",
        "outputId": "493bba93-9683-47a8-ca8d-47e567fa4a63"
      },
      "source": [
        "plt.hist([l for l in moves_count if l<6])"
      ],
      "execution_count": 30,
      "outputs": [
        {
          "output_type": "execute_result",
          "data": {
            "text/plain": [
              "(array([  4661.,      0., 200480.,      0.,  59968.,      0.,  27604.,\n",
              "             0.,  19430.,  10114.]),\n",
              " array([0. , 0.5, 1. , 1.5, 2. , 2.5, 3. , 3.5, 4. , 4.5, 5. ]),\n",
              " <a list of 10 Patch objects>)"
            ]
          },
          "metadata": {
            "tags": []
          },
          "execution_count": 30
        },
        {
          "output_type": "display_data",
          "data": {
            "image/png": "[encoded data removed]",
            "text/plain": [
              "<Figure size 432x288 with 1 Axes>"
            ]
          },
          "metadata": {
            "tags": [],
            "needs_background": "light"
          }
        }
      ]
    },
    {
      "cell_type": "markdown",
      "metadata": {
        "id": "IhSix7h26TPq"
      },
      "source": [
        "# legal moves\n"
      ]
    },
    {
      "cell_type": "code",
      "metadata": {
        "id": "R5cATVHm6VNK"
      },
      "source": [
        "ctr_legal_moves = collections.Counter(legal_moves_count)"
      ],
      "execution_count": 48,
      "outputs": []
    },
    {
      "cell_type": "code",
      "metadata": {
        "colab": {
          "base_uri": "https://localhost:8080/"
        },
        "id": "rBidu8ma6cpe",
        "outputId": "1db13df2-a10e-4e21-88d3-aad930d29226"
      },
      "source": [
        "ctr_legal_moves "
      ],
      "execution_count": 49,
      "outputs": [
        {
          "output_type": "execute_result",
          "data": {
            "text/plain": [
              "Counter({0: 4071,\n",
              "         1: 3990,\n",
              "         2: 5497,\n",
              "         3: 5459,\n",
              "         4: 4757,\n",
              "         5: 3569,\n",
              "         6: 2527,\n",
              "         7: 1681,\n",
              "         8: 1234,\n",
              "         9: 962,\n",
              "         10: 934,\n",
              "         11: 1067,\n",
              "         12: 1216,\n",
              "         13: 1485,\n",
              "         14: 1607,\n",
              "         15: 1876,\n",
              "         16: 2253,\n",
              "         17: 2451,\n",
              "         18: 2632,\n",
              "         19: 2989,\n",
              "         20: 9170,\n",
              "         21: 4193,\n",
              "         22: 5230,\n",
              "         23: 4915,\n",
              "         24: 5121,\n",
              "         25: 6448,\n",
              "         26: 7509,\n",
              "         27: 10176,\n",
              "         28: 11219,\n",
              "         29: 13109,\n",
              "         30: 15579,\n",
              "         31: 13710,\n",
              "         32: 14467,\n",
              "         33: 15042,\n",
              "         34: 14565,\n",
              "         35: 14349,\n",
              "         36: 14110,\n",
              "         37: 13835,\n",
              "         38: 13570,\n",
              "         39: 12607,\n",
              "         40: 11233,\n",
              "         41: 10250,\n",
              "         42: 9487,\n",
              "         43: 8472,\n",
              "         44: 7236,\n",
              "         45: 6167,\n",
              "         46: 5228,\n",
              "         47: 4436,\n",
              "         48: 3436,\n",
              "         49: 2864,\n",
              "         50: 2262,\n",
              "         51: 1783,\n",
              "         52: 1332,\n",
              "         53: 996,\n",
              "         54: 793,\n",
              "         55: 515,\n",
              "         56: 402,\n",
              "         57: 286,\n",
              "         58: 211,\n",
              "         59: 153,\n",
              "         60: 97,\n",
              "         61: 63,\n",
              "         62: 41,\n",
              "         63: 32,\n",
              "         64: 16,\n",
              "         65: 16,\n",
              "         66: 8,\n",
              "         67: 4,\n",
              "         68: 6,\n",
              "         69: 2,\n",
              "         71: 2,\n",
              "         72: 1,\n",
              "         76: 1,\n",
              "         77: 1,\n",
              "         85: 2})"
            ]
          },
          "metadata": {
            "tags": []
          },
          "execution_count": 49
        }
      ]
    },
    {
      "cell_type": "code",
      "metadata": {
        "colab": {
          "base_uri": "https://localhost:8080/",
          "height": 333
        },
        "id": "UMM4lai_6g_m",
        "outputId": "6f8fb544-bcb8-439e-b7cf-550fa48cc4ac"
      },
      "source": [
        "plt.hist(legal_moves_count)"
      ],
      "execution_count": 50,
      "outputs": [
        {
          "output_type": "execute_result",
          "data": {
            "text/plain": [
              "(array([3.27850e+04, 1.14000e+04, 4.31490e+04, 1.00811e+05, 1.14006e+05,\n",
              "        4.01010e+04, 6.47100e+03, 2.77000e+02, 1.20000e+01, 3.00000e+00]),\n",
              " array([ 0. ,  8.5, 17. , 25.5, 34. , 42.5, 51. , 59.5, 68. , 76.5, 85. ]),\n",
              " <a list of 10 Patch objects>)"
            ]
          },
          "metadata": {
            "tags": []
          },
          "execution_count": 50
        },
        {
          "output_type": "display_data",
          "data": {
            "image/png": "[encoded data removed]",
            "text/plain": [
              "<Figure size 432x288 with 1 Axes>"
            ]
          },
          "metadata": {
            "tags": [],
            "needs_background": "light"
          }
        }
      ]
    },
    {
      "cell_type": "markdown",
      "metadata": {
        "id": "zg2Hw4cQ6ttI"
      },
      "source": [
        "# attakers"
      ]
    },
    {
      "cell_type": "code",
      "metadata": {
        "id": "VuiCbVb56vQo"
      },
      "source": [
        "ctr_attackers = collections.Counter(attackers_count) # attacks_count"
      ],
      "execution_count": 51,
      "outputs": []
    },
    {
      "cell_type": "code",
      "metadata": {
        "colab": {
          "base_uri": "https://localhost:8080/"
        },
        "id": "QOPLJ4bi6x1d",
        "outputId": "c267f905-7d98-4b27-9c4a-13730e99c390"
      },
      "source": [
        "ctr_attackers"
      ],
      "execution_count": 52,
      "outputs": [
        {
          "output_type": "execute_result",
          "data": {
            "text/plain": [
              "Counter({0: 119489, 1: 127362, 2: 78636, 3: 20679, 4: 2804, 5: 42, 6: 3})"
            ]
          },
          "metadata": {
            "tags": []
          },
          "execution_count": 52
        }
      ]
    },
    {
      "cell_type": "code",
      "metadata": {
        "colab": {
          "base_uri": "https://localhost:8080/",
          "height": 333
        },
        "id": "fmhL4B8d7OHP",
        "outputId": "63983a0b-ffb5-4e14-dfca-309a7d33a5a3"
      },
      "source": [
        "plt.hist(attackers_count)"
      ],
      "execution_count": 53,
      "outputs": [
        {
          "output_type": "execute_result",
          "data": {
            "text/plain": [
              "(array([1.19489e+05, 1.27362e+05, 0.00000e+00, 7.86360e+04, 0.00000e+00,\n",
              "        2.06790e+04, 2.80400e+03, 0.00000e+00, 4.20000e+01, 3.00000e+00]),\n",
              " array([0. , 0.6, 1.2, 1.8, 2.4, 3. , 3.6, 4.2, 4.8, 5.4, 6. ]),\n",
              " <a list of 10 Patch objects>)"
            ]
          },
          "metadata": {
            "tags": []
          },
          "execution_count": 53
        },
        {
          "output_type": "display_data",
          "data": {
            "image/png": "[encoded data removed]",
            "text/plain": [
              "<Figure size 432x288 with 1 Axes>"
            ]
          },
          "metadata": {
            "tags": [],
            "needs_background": "light"
          }
        }
      ]
    },
    {
      "cell_type": "markdown",
      "metadata": {
        "id": "p0ScYbqI7Tw4"
      },
      "source": [
        "# attacks\n"
      ]
    },
    {
      "cell_type": "code",
      "metadata": {
        "id": "tGmI81eT7WFe"
      },
      "source": [
        "ctr_attacks = collections.Counter(attacks_count) "
      ],
      "execution_count": 54,
      "outputs": []
    },
    {
      "cell_type": "code",
      "metadata": {
        "colab": {
          "base_uri": "https://localhost:8080/"
        },
        "id": "ogLzpH_07Yl4",
        "outputId": "a8fcbdde-c517-4faa-e1db-f3963f10217a"
      },
      "source": [
        "ctr_attacks"
      ],
      "execution_count": 55,
      "outputs": [
        {
          "output_type": "execute_result",
          "data": {
            "text/plain": [
              "Counter({1: 18147,\n",
              "         2: 81257,\n",
              "         3: 4041,\n",
              "         4: 11568,\n",
              "         5: 21455,\n",
              "         6: 27859,\n",
              "         7: 19303,\n",
              "         8: 67960,\n",
              "         9: 17748,\n",
              "         10: 14680,\n",
              "         11: 10831,\n",
              "         12: 8930,\n",
              "         13: 8547,\n",
              "         14: 8197,\n",
              "         15: 5371,\n",
              "         16: 5114,\n",
              "         17: 4566,\n",
              "         18: 4042,\n",
              "         19: 3201,\n",
              "         20: 2416,\n",
              "         21: 1689,\n",
              "         22: 992,\n",
              "         23: 638,\n",
              "         24: 273,\n",
              "         25: 131,\n",
              "         26: 37,\n",
              "         27: 22})"
            ]
          },
          "metadata": {
            "tags": []
          },
          "execution_count": 55
        }
      ]
    },
    {
      "cell_type": "code",
      "metadata": {
        "colab": {
          "base_uri": "https://localhost:8080/",
          "height": 333
        },
        "id": "TxLIrX1K7Zd0",
        "outputId": "f69daaef-ebf9-4633-834e-a3b7d8c454ca"
      },
      "source": [
        "plt.hist(attacks_count)"
      ],
      "execution_count": 56,
      "outputs": [
        {
          "output_type": "execute_result",
          "data": {
            "text/plain": [
              "(array([103445.,  60882.,  87263.,  43259.,  17477.,  18682.,  11809.,\n",
              "          4105.,   1903.,    190.]),\n",
              " array([ 1. ,  3.6,  6.2,  8.8, 11.4, 14. , 16.6, 19.2, 21.8, 24.4, 27. ]),\n",
              " <a list of 10 Patch objects>)"
            ]
          },
          "metadata": {
            "tags": []
          },
          "execution_count": 56
        },
        {
          "output_type": "display_data",
          "data": {
            "image/png": "[encoded data removed]",
            "text/plain": [
              "<Figure size 432x288 with 1 Axes>"
            ]
          },
          "metadata": {
            "tags": [],
            "needs_background": "light"
          }
        }
      ]
    },
    {
      "cell_type": "markdown",
      "metadata": {
        "id": "MMQHLkXUbsc5"
      },
      "source": [
        "# comment"
      ]
    },
    {
      "cell_type": "code",
      "metadata": {
        "colab": {
          "base_uri": "https://localhost:8080/"
        },
        "id": "7IlZ9zq0C4p9",
        "outputId": "97cd5037-2f07-48b3-8cbb-ed0352f52a5f"
      },
      "source": [
        "sum(len_comment)/total"
      ],
      "execution_count": 31,
      "outputs": [
        {
          "output_type": "execute_result",
          "data": {
            "text/plain": [
              "20.707190112019447"
            ]
          },
          "metadata": {
            "tags": []
          },
          "execution_count": 31
        }
      ]
    },
    {
      "cell_type": "code",
      "metadata": {
        "id": "p07s4iFaCHTi"
      },
      "source": [
        "ctr_comment = collections.Counter(len_comment)"
      ],
      "execution_count": 32,
      "outputs": []
    },
    {
      "cell_type": "code",
      "metadata": {
        "id": "X9IXk2UhCUcq"
      },
      "source": [
        "ctr_comment"
      ],
      "execution_count": null,
      "outputs": []
    },
    {
      "cell_type": "code",
      "metadata": {
        "colab": {
          "base_uri": "https://localhost:8080/",
          "height": 350
        },
        "id": "zUZ4RhueCdip",
        "outputId": "9b7a589f-c3e7-4623-d735-a5ccecef72fa"
      },
      "source": [
        "plt.hist([l for l in len_comment if l<150])"
      ],
      "execution_count": 34,
      "outputs": [
        {
          "output_type": "execute_result",
          "data": {
            "text/plain": [
              "(array([200652.,  79946.,  32837.,  15168.,   7476.,   4475.,   2732.,\n",
              "          1717.,   1098.,    777.]),\n",
              " array([  1. ,  15.8,  30.6,  45.4,  60.2,  75. ,  89.8, 104.6, 119.4,\n",
              "        134.2, 149. ]),\n",
              " <a list of 10 Patch objects>)"
            ]
          },
          "metadata": {
            "tags": []
          },
          "execution_count": 34
        },
        {
          "output_type": "display_data",
          "data": {
            "image/png": "[encoded data removed]",
            "text/plain": [
              "<Figure size 432x288 with 1 Axes>"
            ]
          },
          "metadata": {
            "tags": [],
            "needs_background": "light"
          }
        }
      ]
    },
    {
      "cell_type": "markdown",
      "metadata": {
        "id": "vgnp6R50bwPo"
      },
      "source": [
        "# words"
      ]
    },
    {
      "cell_type": "code",
      "metadata": {
        "id": "d_o-4PpXCdbM"
      },
      "source": [
        "word_frequencies = collections.defaultdict(int)"
      ],
      "execution_count": 35,
      "outputs": []
    },
    {
      "cell_type": "code",
      "metadata": {
        "id": "x6nDGtY_HVlh"
      },
      "source": [
        "for data_object in data:\n",
        "  (FEN, moves, last_move_desc, legal_moves, attackers_list, attacks_list, comment) = data_object\n",
        "  words = comment.split(' ')\n",
        "  for word in words:\n",
        "    word_frequencies[word]+=1"
      ],
      "execution_count": 36,
      "outputs": []
    },
    {
      "cell_type": "code",
      "metadata": {
        "colab": {
          "base_uri": "https://localhost:8080/"
        },
        "id": "_BYnDRRJIcfR",
        "outputId": "3de5d796-408a-4dbe-c4c5-e73a3bc4d8a4"
      },
      "source": [
        "len(word_frequencies.keys())"
      ],
      "execution_count": 37,
      "outputs": [
        {
          "output_type": "execute_result",
          "data": {
            "text/plain": [
              "236981"
            ]
          },
          "metadata": {
            "tags": []
          },
          "execution_count": 37
        }
      ]
    },
    {
      "cell_type": "code",
      "metadata": {
        "id": "on7ot-6qIokx"
      },
      "source": [
        "freqThreshold = 3 \n",
        "rareWords = []"
      ],
      "execution_count": 38,
      "outputs": []
    },
    {
      "cell_type": "code",
      "metadata": {
        "id": "1U0XfwsGIfcP"
      },
      "source": [
        "for word,freq in word_frequencies.items():\n",
        "    if freq>freqThreshold:\n",
        "      pass\n",
        "    else:\n",
        "      rareWords.append(word)"
      ],
      "execution_count": 39,
      "outputs": []
    },
    {
      "cell_type": "code",
      "metadata": {
        "colab": {
          "base_uri": "https://localhost:8080/"
        },
        "id": "ntfTLZWQKAeo",
        "outputId": "202eb001-9951-4fe3-cf01-e3f231e792ea"
      },
      "source": [
        "len(rareWords)"
      ],
      "execution_count": 40,
      "outputs": [
        {
          "output_type": "execute_result",
          "data": {
            "text/plain": [
              "196452"
            ]
          },
          "metadata": {
            "tags": []
          },
          "execution_count": 40
        }
      ]
    },
    {
      "cell_type": "code",
      "metadata": {
        "colab": {
          "base_uri": "https://localhost:8080/"
        },
        "id": "Yx_MmbPJIykw",
        "outputId": "edf6a20d-5e62-4060-d614-d08343fdfdc2"
      },
      "source": [
        "rareWords"
      ],
      "execution_count": 41,
      "outputs": [
        {
          "output_type": "execute_result",
          "data": {
            "text/plain": [
              "['pawn........',\n",
              " '...pressing',\n",
              " 'book).',\n",
              " 'bxbf5',\n",
              " 'overloaded.\\n\\n28...',\n",
              " 'relax)',\n",
              " 'take:\\n\\n32...',\n",
              " 'draw.\\n\\n32...',\n",
              " 'endgame.\\n\\nin',\n",
              " 'mas.',\n",
              " 'cosï¿½,',\n",
              " 'brutta.',\n",
              " 'mortale,',\n",
              " 'perï¿½,',\n",
              " 'sï¿½',\n",
              " '\"cedo',\n",
              " 'tentazione\"',\n",
              " '¡toma',\n",
              " 'cxh7',\n",
              " 'spider',\n",
              " 'hole.\\n',\n",
              " 'contender,',\n",
              " 'ncd7,',\n",
              " 'rights...but',\n",
              " 'not),',\n",
              " 'typified',\n",
              " 'dory',\n",
              " 'r.j.',\n",
              " 'forsake',\n",
              " 'enforcement',\n",
              " 'instrument',\n",
              " 'dutch-like',\n",
              " 'peculiarity',\n",
              " 'formations,',\n",
              " 'keep?',\n",
              " '21.bxb6?',\n",
              " '23.nxh2',\n",
              " 'nxf2#!',\n",
              " '21.g3,',\n",
              " '21...nxg3',\n",
              " '(22.bxa6',\n",
              " '22...rxg3',\n",
              " '23.fxg3',\n",
              " 'nxf5?',\n",
              " 'on...?',\n",
              " '22.nhxf5',\n",
              " 'upshot',\n",
              " '8...nfd7,',\n",
              " '8...nbd7,',\n",
              " '9.e5.',\n",
              " '...nc5?',\n",
              " '\"killing',\n",
              " 'plumb',\n",
              " 'rewarded.',\n",
              " '(pga)',\n",
              " '(deeper',\n",
              " 'needed).',\n",
              " 'missed.........',\n",
              " 'flexivel',\n",
              " 'escolher',\n",
              " 'clara.\\n',\n",
              " 'diagram.',\n",
              " '19...bc2+,',\n",
              " '19...bd3',\n",
              " '19...qc2+.',\n",
              " 'origianlly',\n",
              " 'non-aggressive,',\n",
              " 'feel...',\n",
              " 'non-normal',\n",
              " 'miscelanea',\n",
              " 'variado',\n",
              " 'constantemente',\n",
              " 'inesperadas',\n",
              " 'bombardeo',\n",
              " 'logrando',\n",
              " 'listo',\n",
              " 'c7-pawn...',\n",
              " 'separated,',\n",
              " 'powerless,',\n",
              " '24.rf1',\n",
              " '25.qd1',\n",
              " '26.qd6+',\n",
              " '27.nxh7+',\n",
              " 'disbelieve',\n",
              " 'attempting,',\n",
              " '\\n20.\\tkxf1\\trh1+\\n21.\\tkf2\\tbxd5+\\n22.\\tqf4\\tqxf4+\\n23.\\tbxf4\\trxa1\\n\\nget',\n",
              " 'erring',\n",
              " '\"pressure\".',\n",
              " 'quotation',\n",
              " 'meaningfully',\n",
              " 'illusion....',\n",
              " '22.nxb5.',\n",
              " '3...d5).',\n",
              " 'significance.',\n",
              " 'higest',\n",
              " 'where!',\n",
              " 'tracked',\n",
              " 'move.\\nnow',\n",
              " 'queen,\\nhere',\n",
              " 'h6\\n\\nnow',\n",
              " 'fg?!',\n",
              " 'nf3?+',\n",
              " 'qh2?',\n",
              " 'nf3+)',\n",
              " 'paralyzed,',\n",
              " 'rf2\\n\\nthus',\n",
              " '(+/-',\n",
              " 'basically),',\n",
              " 'save/win',\n",
              " 'superfluous,',\n",
              " 'side)is',\n",
              " 'words...\"sodium',\n",
              " 'attack\",since',\n",
              " 'nacl',\n",
              " '\"sodium\"in',\n",
              " 'chemistry.when',\n",
              " 'black,this',\n",
              " 'hydrogen',\n",
              " 'chemical',\n",
              " 'terms...thus,those',\n",
              " 'the...\"sodium/hydrogen',\n",
              " 'games\".',\n",
              " 'envisaged...',\n",
              " 'devlpt',\n",
              " 'suite....(sortie',\n",
              " 'fou)',\n",
              " 'bxf5?',\n",
              " 'porous',\n",
              " '04132',\n",
              " '62.f6:',\n",
              " 'eranh',\n",
              " 'crazyivan',\n",
              " 'rb5+,',\n",
              " 'rxd5+,',\n",
              " 'gxh4...',\n",
              " 'nxc5ch',\n",
              " 'connected.\\n\\nin',\n",
              " 'suggets',\n",
              " 'satisified',\n",
              " 'know\".',\n",
              " 'calculé...muy',\n",
              " 'igualdad,',\n",
              " 'rescata',\n",
              " '11.c6.',\n",
              " '(nh3-g1',\n",
              " 'qe6-f7',\n",
              " 'a4xb5',\n",
              " 'a6xb5',\n",
              " 'ra1-a7',\n",
              " 'qc2-c5',\n",
              " 'ra7-c7',\n",
              " 'qc5-c3',\n",
              " 'qe8-g6',\n",
              " 'rc7-a7',\n",
              " 'qg6-e8',\n",
              " 'qe8-b8',\n",
              " 'ra7-a6',\n",
              " 'qb8-b7',\n",
              " 'ra6-a1',\n",
              " 'bh4-f6)',\n",
              " '-0.36/21',\n",
              " '13.bxe4',\n",
              " '?\\nbetter',\n",
              " '13.exd6',\n",
              " 'weaknesses;',\n",
              " '\"demostrate\"',\n",
              " 'deteriorates.',\n",
              " 'resigns.\\n\\n28.',\n",
              " 'rxb1#',\n",
              " 'percieve',\n",
              " '0:03:56]\\n',\n",
              " 'qh7!.',\n",
              " '34.hxg6',\n",
              " 'focourse,',\n",
              " 'mouse-slip',\n",
              " '...bc1',\n",
              " 'nf5).',\n",
              " 'bwaa,',\n",
              " \"swallow's\",\n",
              " '35,13]',\n",
              " '21.bxg6!',\n",
              " '(ng4)',\n",
              " 'builds.',\n",
              " 'to!)\\n',\n",
              " 'ruy...',\n",
              " 'funkar,',\n",
              " 'ifrån',\n",
              " 'optimalt',\n",
              " '21.rg1',\n",
              " 'sagt',\n",
              " 'gjorts',\n",
              " 'blev',\n",
              " 'tillgänglig',\n",
              " 'unecessary.',\n",
              " \"?\\nhere's\",\n",
              " 'unravel.....',\n",
              " '7.bd2.',\n",
              " '\"restricting',\n",
              " 'blockage.',\n",
              " 'rochading',\n",
              " 'unproductive.',\n",
              " 'double-attacked.',\n",
              " 'fifth.',\n",
              " 'kh2??',\n",
              " 'intentioned,',\n",
              " '15...gxf4',\n",
              " '17.qg3+',\n",
              " 'rook.\\nit',\n",
              " '18.h4',\n",
              " '19.f4\\n\\ni',\n",
              " 'rechecked',\n",
              " 'wrong.\\n\\nthis',\n",
              " 'weak.\\ncomments',\n",
              " 'mwahahahaha',\n",
              " 'jack’s',\n",
              " 'jack....i',\n",
              " 'jon.',\n",
              " 'names.',\n",
              " 'qf7+#.',\n",
              " 'pc2',\n",
              " 'naxc5',\n",
              " 'castles-',\n",
              " 'belts.',\n",
              " '16.qxc1,',\n",
              " '\"aggressive\"',\n",
              " \"'bad'...\",\n",
              " 'annals',\n",
              " 'invulnarable',\n",
              " 'c8q+',\n",
              " 'kavayah1',\n",
              " 'novedosa',\n",
              " '(novedosa',\n",
              " 'utilizada',\n",
              " 'jr)',\n",
              " 'estudios',\n",
              " 'remco',\n",
              " '(nestorix)',\n",
              " 'bloqueado',\n",
              " 'olvidar',\n",
              " 'estratega',\n",
              " '-0.23\\r\\n\\r\\n',\n",
              " 'enevitable,',\n",
              " 'oldtimer',\n",
              " '(1704)',\n",
              " 'marshy1',\n",
              " '(1814),',\n",
              " 'stikmat',\n",
              " '(1765)',\n",
              " 'altera',\n",
              " '(1883)',\n",
              " 'kumli',\n",
              " '(1968)',\n",
              " 'lethe',\n",
              " '(1790).',\n",
              " 'else.\\r\\n',\n",
              " '12.nbd3?',\n",
              " '33.rgxh6+,',\n",
              " '33...kg8,',\n",
              " '34.qh7+,',\n",
              " '35.qxg7#',\n",
              " '33...gxh6,',\n",
              " '34.rxg6,',\n",
              " '35.qh7#',\n",
              " 'propobly',\n",
              " '+0.41\\r\\n\\r\\n',\n",
              " \"dv's\",\n",
              " 'inhabiting',\n",
              " 'counterplay.\\n\\nmore',\n",
              " '23…nc3',\n",
              " '24.hxg6',\n",
              " '25.qxg6!',\n",
              " '25…nxe2+',\n",
              " '27.rxc5)',\n",
              " '26.bd3',\n",
              " '27.ra1',\n",
              " '28.ra7',\n",
              " 'synonym,',\n",
              " '“carlsen”',\n",
              " '¡gracias!',\n",
              " 'wants?',\n",
              " 'tvingat',\n",
              " 'dg7++',\n",
              " '...ng4),',\n",
              " '6.b4',\n",
              " '6....bd4.',\n",
              " 'nâº1',\n",
              " '\"f8\".',\n",
              " 'excelente,',\n",
              " 'precio',\n",
              " 'atar',\n",
              " 'pieza.\\n',\n",
              " 'optimistic....',\n",
              " 'nxb).',\n",
              " 'a4-pawns...>>>',\n",
              " 'defend...well',\n",
              " '26.bxc6',\n",
              " 'repetitively',\n",
              " 'turing',\n",
              " 'slav?',\n",
              " '19.bf3!',\n",
              " 'damsel',\n",
              " 'swfit',\n",
              " 'feet...',\n",
              " 'oil',\n",
              " 'slick!',\n",
              " 'queen--the',\n",
              " 'it....his',\n",
              " 'f4.\\n\\n2)',\n",
              " \"\\n\\nwhite's\",\n",
              " '(rd3,',\n",
              " 'nf4)...',\n",
              " 'kf2-e3',\n",
              " \"h...\\nwhite's\",\n",
              " 'easy...\\n\\nso,',\n",
              " '+1.47',\n",
              " 'ke4\\r\\nbest:',\n",
              " 'h6\\r\\n\\r\\nin',\n",
              " 'accumulates',\n",
              " '(:-)',\n",
              " 'enjoing',\n",
              " '(:-d)',\n",
              " 'equalizer.',\n",
              " '\"always\"',\n",
              " 'work!).',\n",
              " 'same;',\n",
              " '(qg8-e6',\n",
              " 'qd2-c3)',\n",
              " '+0.84/23',\n",
              " '24...rc7.',\n",
              " '24..qa8',\n",
              " 'nf6xe4,',\n",
              " 'nd7-f6,',\n",
              " 'be4-d3',\n",
              " 'ne4-g3?',\n",
              " 'bxa4\\n',\n",
              " 'rf7f8+',\n",
              " 'ke7/kd7',\n",
              " '33.rf2f7#)',\n",
              " 'kc6...',\n",
              " 'decision)',\n",
              " 'sacrifice.\\ni',\n",
              " 'variatons',\n",
              " 'spooked',\n",
              " '...qxr',\n",
              " 'oftentimes',\n",
              " '+24',\n",
              " 'sweet...',\n",
              " 'kwetsbare',\n",
              " 'randpion',\n",
              " 'houden.\\n',\n",
              " '(development',\n",
              " 'go...i',\n",
              " 'https://gameknot.com/annotation.pl/actual-scholars-mate?gm=64984,',\n",
              " '13.bb5',\n",
              " '14.ba4,',\n",
              " '15.f4,',\n",
              " '16.fxe3,',\n",
              " '17.nxa4,',\n",
              " '18.c3,',\n",
              " '19.bxa7,',\n",
              " '20.kh1,',\n",
              " 'that???????????????',\n",
              " 'dark-squares.\\n',\n",
              " 'ck.',\n",
              " 'calvin',\n",
              " 'klein,',\n",
              " 'sidesteps,',\n",
              " 'c7.\\nhowever',\n",
              " 'n/bxb4',\n",
              " 'bluff:',\n",
              " '+0.01,',\n",
              " 'much]',\n",
              " 'bd7-f5',\n",
              " 'qxc7.\"',\n",
              " 'bf1xb5',\n",
              " 'nb6-d7,',\n",
              " '22...qxd7,',\n",
              " 'gxf5\\tqxc7',\n",
              " 'ke8-e7.',\n",
              " '24.\\tbd3+\\tkxf4',\n",
              " 'permiting',\n",
              " 'anywere',\n",
              " 'toi',\n",
              " 'won!!!-------',\n",
              " 'enjoied',\n",
              " 'great....ckeckmate',\n",
              " \"knight...i'm\",\n",
              " 'thrilled...only',\n",
              " 'moves...he',\n",
              " 'fine\\n',\n",
              " 'reality.\\n',\n",
              " '1.)e4,',\n",
              " 'appreciated!!',\n",
              " 'file...13.nc5?',\n",
              " 'bxpg5.',\n",
              " 'cash.',\n",
              " 'ply,',\n",
              " 'action\"',\n",
              " 'benefits...',\n",
              " 'achives',\n",
              " 'light-squared-bishop',\n",
              " 'sad!',\n",
              " 'gxh3?,',\n",
              " '\"too\"',\n",
              " '1...e5!?,',\n",
              " 'severin',\n",
              " '(1828–1895),',\n",
              " '23.nxc4',\n",
              " '24.rxd5',\n",
              " 'b2.\\nwhite',\n",
              " 'shafranska',\n",
              " 'ned5,',\n",
              " 'eco,',\n",
              " 'soerensen',\n",
              " 'pronounce',\n",
              " 'least),',\n",
              " \"coach's\",\n",
              " 'thinking?\\n',\n",
              " '30...qe6,',\n",
              " '30...f5',\n",
              " '\"calendar',\n",
              " 'challenges\".',\n",
              " 'all-female',\n",
              " '\"~sixth',\n",
              " 'sense~\"',\n",
              " 'calendar',\n",
              " 'calendar.',\n",
              " '12.exf5,',\n",
              " \"structure's\",\n",
              " '-0.74/28',\n",
              " '32.gxf5',\n",
              " '33.rxb5',\n",
              " '35.ng3',\n",
              " '37.kf2',\n",
              " '38.bh5',\n",
              " '39.kg1',\n",
              " '40.kh1',\n",
              " '41.rb1',\n",
              " 'raa2',\n",
              " '42.ne2',\n",
              " '43.fxg5',\n",
              " '44.rg1',\n",
              " '45.rxg5',\n",
              " 'kxg5\\n',\n",
              " 'out.what',\n",
              " 'itsself',\n",
              " 'placed).',\n",
              " 'anita',\n",
              " 'truly!',\n",
              " '54...h6,',\n",
              " '55.ke2',\n",
              " 'hate..',\n",
              " 'qxe4...',\n",
              " 'ungarded',\n",
              " 'exf3+',\n",
              " 'fxe2)',\n",
              " 'fxg2,',\n",
              " 'fxh1',\n",
              " 'avoided.),',\n",
              " '(10.kf2,',\n",
              " 'bg4#,',\n",
              " '11.bd3,',\n",
              " 'g5#)',\n",
              " 'qh1#\\n',\n",
              " '...nc2+,',\n",
              " 'subtler,',\n",
              " '10...bh3!',\n",
              " '12.kxg2,',\n",
              " 'take:',\n",
              " '11.bxh3??',\n",
              " 'nd3+).\\n',\n",
              " 'partnership,',\n",
              " '20.rhe1',\n",
              " 'stevens.',\n",
              " 'd4-square,',\n",
              " 'knight...or',\n",
              " 'queen...neither',\n",
              " '(kc2-b3',\n",
              " 'bh5-d1+',\n",
              " '-0.09/28',\n",
              " 'castling\\n*',\n",
              " 'knight\\n*',\n",
              " 'stinkt',\n",
              " 'erin',\n",
              " 'fast)',\n",
              " 'rg6!,',\n",
              " 'tiddles.',\n",
              " 'orgy',\n",
              " 'bg6..',\n",
              " \"chessbase's\",\n",
              " '152',\n",
              " 'options:\\r\\na:',\n",
              " 'r2b7+',\n",
              " 'rd8#\\r\\nb:',\n",
              " 'threat.\\r\\nc:',\n",
              " 'escapes.\\r\\n\\r\\nkd6',\n",
              " '(e4).',\n",
              " '1:13',\n",
              " 'seguito]',\n",
              " '12.nxe7',\n",
              " '16.bb4',\n",
              " 'sacrificato,',\n",
              " 'più]',\n",
              " '3...nf3.\\n',\n",
              " '2...,',\n",
              " '\\nuna',\n",
              " 'esprime',\n",
              " \"priorita'\",\n",
              " 'nero\\nnello',\n",
              " 'nere.',\n",
              " '\"great\"',\n",
              " 'stallion',\n",
              " '(d10)',\n",
              " 'nxh5;',\n",
              " 'kanko',\n",
              " 'graeffe',\n",
              " '(finland',\n",
              " '1991)',\n",
              " 'bxc4;',\n",
              " 'exf6;',\n",
              " '16.qh2',\n",
              " 'bounty,',\n",
              " '65...',\n",
              " 'ka1\\n',\n",
              " 'organized...i',\n",
              " 'quycky',\n",
              " '....seen',\n",
              " 'somewhere..?!',\n",
              " 'possiblity.',\n",
              " \"knacker's\",\n",
              " '-2.03',\n",
              " 'c6\\nbest:',\n",
              " '-6.43',\n",
              " 'sveral',\n",
              " '\"count',\n",
              " 'debilitado',\n",
              " 'ataccking',\n",
              " '27....qxg1#.',\n",
              " 'move\\r\\n\\r\\n',\n",
              " 'scramble,',\n",
              " '(kb1',\n",
              " 'rd8d1',\n",
              " 'that.)',\n",
              " 'développent',\n",
              " 'demandé',\n",
              " \"n'auraient\",\n",
              " 'différemment,',\n",
              " 'faibles.',\n",
              " 'noires,',\n",
              " 'retraiter',\n",
              " 'suspens',\n",
              " '(ici',\n",
              " 'noires)',\n",
              " \"l'exploiter\",\n",
              " \"lorsqu'on\",\n",
              " \"n'en\",\n",
              " \"d'avantage\",\n",
              " 'immédiat.',\n",
              " 'subtilité,',\n",
              " 'clemenz',\n",
              " '\"perfect\"',\n",
              " 'wealthy',\n",
              " 'sports,',\n",
              " '\"float',\n",
              " 'butterfly',\n",
              " 'bee\"',\n",
              " 'mosquito.',\n",
              " 'c-file;',\n",
              " 'cooler',\n",
              " 'rxh6!',\n",
              " 'd5..',\n",
              " 'inträngd.',\n",
              " '\"fix\"',\n",
              " 'brigadecommander-',\n",
              " '4.....c5',\n",
              " 'bf8+?',\n",
              " 'kxf8!,',\n",
              " 'summat.',\n",
              " 'view....',\n",
              " '10.d4,',\n",
              " 'nf8-e6,',\n",
              " 'impleid',\n",
              " 'well-motivated',\n",
              " '(consider',\n",
              " 'overrated,',\n",
              " '13...0-0',\n",
              " '13...nf6',\n",
              " '27...bd7',\n",
              " '28.bxd7!',\n",
              " '29.qxc4,',\n",
              " 'qb3;',\n",
              " '7.nd6',\n",
              " '8.nxc8',\n",
              " '9.bg2',\n",
              " 'handicap,',\n",
              " 'deezy!',\n",
              " 'e4\\r\\n',\n",
              " 'obivously',\n",
              " 'perfected',\n",
              " '22.d6?',\n",
              " '22.bxc5',\n",
              " 'shirk',\n",
              " 'rulez',\n",
              " 'gxh3??',\n",
              " '12...bh3!?',\n",
              " '13.bh1',\n",
              " '13.e4.',\n",
              " '27...rg7.28.rxd7',\n",
              " '27...ke8.28.qe6+kf8.29.bxd7,',\n",
              " '28...qe7.29.bxd7+,',\n",
              " '27...re7??.28.qg8#',\n",
              " '27...kg8.28.qg6+re7.29.qe6+kf8.30.bxd7...and',\n",
              " 'firs',\n",
              " 'outwardly',\n",
              " 'shaking.',\n",
              " 'playing.....',\n",
              " 'knee-dwarf.',\n",
              " 'knight....the',\n",
              " 'as).',\n",
              " '(easy',\n",
              " 'founder',\n",
              " 'knight...looks',\n",
              " 'ahead!!!',\n",
              " 'ohh.',\n",
              " 'менее',\n",
              " 'предпочтительно',\n",
              " 'potency.',\n",
              " 'exatly',\n",
              " 'variatoion',\n",
              " 'g2\\n\\n27.',\n",
              " 'qf4\\n\\nany',\n",
              " 'mate.\\n\\nhope',\n",
              " 'behind?',\n",
              " '33...kf6',\n",
              " 'cell\"',\n",
              " 'h3).',\n",
              " \"perlis's\",\n",
              " 'move.\\r\\nfritz::',\n",
              " 'bg6\\r\\n',\n",
              " 'bxn+.',\n",
              " 'face??',\n",
              " '[15...',\n",
              " \"{doesn't\",\n",
              " 'ice}',\n",
              " 'qxd5].',\n",
              " 'takeable',\n",
              " '(nxf7',\n",
              " 'ce3+)',\n",
              " \"is'nt\",\n",
              " 'square\\n(hoping',\n",
              " 'marginal.',\n",
              " 'mostly.\\n',\n",
              " 'corall',\n",
              " 'office',\n",
              " '4...ne4,',\n",
              " 'ufa!',\n",
              " 'suar',\n",
              " 'frio,',\n",
              " 'fogem',\n",
              " 'rapidinho...',\n",
              " 'force....totally',\n",
              " 'reh6',\n",
              " 'nimzowitsch-larsen',\n",
              " 'ddidnt',\n",
              " '1-0\\n\\nplease',\n",
              " 'q:h6#.',\n",
              " 'good...so',\n",
              " 'stephen,',\n",
              " 'rd8!?',\n",
              " 'play.\\nwhite',\n",
              " '4.h3?',\n",
              " 'ironing...',\n",
              " 'split-second',\n",
              " 'believeing',\n",
              " 'h-8',\n",
              " 'quake',\n",
              " 'temporarily-forgotten',\n",
              " 'game\\r\\n',\n",
              " 'bred',\n",
              " 'hop:',\n",
              " 'ng6?',\n",
              " 'naive.',\n",
              " '7......',\n",
              " 'defenseless,',\n",
              " 'più,',\n",
              " 'deficitaria\\n',\n",
              " '17...qxg5',\n",
              " 'in!!!!',\n",
              " 'caculated',\n",
              " '24..rxb7',\n",
              " 'arriesgada',\n",
              " '27...h5',\n",
              " 'castigada)',\n",
              " 'crearme',\n",
              " 'serias',\n",
              " 'molestias.',\n",
              " 'suerte,',\n",
              " 'alcanzó',\n",
              " 'suficiente.\\n',\n",
              " '0:14:08]\\n',\n",
              " 'ggod',\n",
              " 'oponent\\n',\n",
              " '\"scared\"',\n",
              " 'allez',\n",
              " 'banzaiiiiiiii,',\n",
              " 'rigolerais',\n",
              " 'peu.',\n",
              " 'specially,',\n",
              " '35...f5!',\n",
              " '(36.rh4',\n",
              " '37.rxh6',\n",
              " 'qxd4).',\n",
              " \"alkaline's\",\n",
              " '(c4,',\n",
              " 'maybe?)',\n",
              " 'hard-hitting',\n",
              " 'vengeance\",',\n",
              " 'coworkers',\n",
              " 'customers',\n",
              " 'shorthanded',\n",
              " 'understaffed,',\n",
              " '10.g3.',\n",
              " '10...qxh2#.',\n",
              " 'e1q',\n",
              " 'c3-knight....',\n",
              " '12.qxa8',\n",
              " '13.kd1',\n",
              " \"'reactivation'.\",\n",
              " 'decentralize',\n",
              " 'sacrificea',\n",
              " 'scooby',\n",
              " 'snack?',\n",
              " '(earlier',\n",
              " '9...nxd5.',\n",
              " 'или:',\n",
              " 'zip.',\n",
              " '3...nc6?',\n",
              " 'b8-n',\n",
              " 'similar;',\n",
              " 'anand/carlsen',\n",
              " 'unpleasant!',\n",
              " 'pickup',\n",
              " '+1.31.\\n',\n",
              " 'fastest,',\n",
              " 'quickens',\n",
              " 'instincts,',\n",
              " 'addicted!',\n",
              " '0:42:49]\\n',\n",
              " 'gameknot.com.',\n",
              " \"*don't*\",\n",
              " '...p-qb4.',\n",
              " '...but...',\n",
              " '6...nxd5,',\n",
              " '(g/b)x(f/c)(3/6)',\n",
              " 'pawnpawn',\n",
              " 'shabby.',\n",
              " '...n-b4.',\n",
              " 'deadful,',\n",
              " 'home:',\n",
              " 'unavoidable.\\n\\nthanks',\n",
              " 'habit!',\n",
              " 'bb7.\\n',\n",
              " 'txg2+!',\n",
              " 'dg4+\\nla',\n",
              " 'catturare:',\n",
              " 'txg2+',\n",
              " 'txh2+',\n",
              " '95',\n",
              " 're-post',\n",
              " '(oh,',\n",
              " 'aueen',\n",
              " 'pawn.\\r\\n\\r\\ngood',\n",
              " 'smooth.',\n",
              " '(reti',\n",
              " 'interesting...\\n\\n(saved',\n",
              " 'unprocessed',\n",
              " 'lines)\\n\\n16.\\tb2-a4\\te7-e6\\n17.\\tb3-b4\\tf5-d3\\n18.\\tc2-d3\\tf8-b4\\n19.\\td2-b4\\ta6-b4\\n20.\\ta4-c5\\te8-f7\\n21.\\th1-e1\\th8-e8\\n22.\\tc5-b7\\tf7-e7\\n23.\\tb7-c5\\te7-d6\\n24.\\ta2-a3\\tb4-d5',\n",
              " 'arrivasse',\n",
              " 'vkoval,',\n",
              " 'include;',\n",
              " 'stuff.\"',\n",
              " 'caro-',\n",
              " 'alkhine,',\n",
              " 'ambitios',\n",
              " 'side.but',\n",
              " 'success.middle',\n",
              " 'movment',\n",
              " '16.bb1',\n",
              " 'dpawn.',\n",
              " 'nähä,',\n",
              " 'frilagd',\n",
              " 'lägger',\n",
              " 'trycker',\n",
              " '15.qe4?!,',\n",
              " 'qa2;',\n",
              " '16.kc1,',\n",
              " '17.kd2,qa5',\n",
              " '18.kh5\\n***************************************************************************',\n",
              " '[56',\n",
              " 'tried),',\n",
              " '(engine',\n",
              " 'rd1).',\n",
              " 'best!!',\n",
              " 'element;',\n",
              " 'commotion',\n",
              " 'her.\\r\\n“be',\n",
              " 'start.”\\r\\nin',\n",
              " 'me.\\r\\n“pawn',\n",
              " 'four”',\n",
              " 'bellowed',\n",
              " 'me.\\r\\n“oh',\n",
              " 'darling',\n",
              " 'old-fashioned.”',\n",
              " '“he',\n",
              " 'squares.”\\r\\nshe',\n",
              " 'r-r6',\n",
              " 'r-qn1',\n",
              " 'n-b5.',\n",
              " 'rf1xf5\\nalternative',\n",
              " 'insignificant,',\n",
              " 'on.\\n\\n',\n",
              " 'bh3)',\n",
              " \"'ve\",\n",
              " '7.bg4,',\n",
              " '(-2.94)\\n',\n",
              " 'carneficina.',\n",
              " 'saranno',\n",
              " 'obiettivo.',\n",
              " 'same\\nhe',\n",
              " 'same-->checkmate\\n',\n",
              " 'mistake.\\ngameknot',\n",
              " 'kramnik...the',\n",
              " 'bxe6;',\n",
              " 'c4-pawn?',\n",
              " 'nf6.\\nthe',\n",
              " 'sixteenth',\n",
              " 'hesitation...',\n",
              " 'brainstorming',\n",
              " 'c3xb4',\n",
              " \"shouldn't.\",\n",
              " 'chicken.',\n",
              " 'rank.\\r\\n',\n",
              " 'ideacuas',\n",
              " 'less-than-objective',\n",
              " 'as:\\nqf2,',\n",
              " 'check.\\nit',\n",
              " 'short!',\n",
              " 'perfactly',\n",
              " 'pushed\".',\n",
              " 'goloso',\n",
              " 'peón...',\n",
              " 'abro',\n",
              " 'puertas.',\n",
              " '-3.58',\n",
              " '-2.74\\nalternative',\n",
              " '33...a4',\n",
              " '34.rd7',\n",
              " '35.axb3',\n",
              " '38.rdxf7',\n",
              " '39.rf1',\n",
              " '40.rxf1',\n",
              " '41.rf6',\n",
              " '42.rf5',\n",
              " '44.kh3',\n",
              " '45.rc5',\n",
              " '46.g4',\n",
              " '47.kg3',\n",
              " '48.rf5+',\n",
              " 'elegance!',\n",
              " 'dinking',\n",
              " 'pawn\\r\\nand',\n",
              " 'space......with',\n",
              " 'bf1+',\n",
              " 'saber!',\n",
              " \"newcomb's\",\n",
              " 'notice...',\n",
              " 'wrenched',\n",
              " 'twelve.',\n",
              " 'warding',\n",
              " '(na3,',\n",
              " 'nc2)',\n",
              " '(nc6,',\n",
              " 'nb4)',\n",
              " 'a8.....pmpl',\n",
              " 'advisor,',\n",
              " 'instruction.',\n",
              " 'blinds',\n",
              " 'see\\n\\nbetter',\n",
              " '5...g3.',\n",
              " 'repetitive.',\n",
              " 'forgiving.',\n",
              " '16.cxd5',\n",
              " 'except...',\n",
              " 'seldom-used',\n",
              " \"gertrude's\",\n",
              " 'qweens.\\r\\n\\r\\n',\n",
              " '2:58',\n",
              " '\"killer',\n",
              " 'sectet',\n",
              " 'chck',\n",
              " '42...rc7',\n",
              " '43.cf5',\n",
              " 'ab2',\n",
              " '44.g6',\n",
              " 'qxf5...',\n",
              " 'over-complicating',\n",
              " 'renegs',\n",
              " '\"rule\",',\n",
              " 'linning',\n",
              " 'then..,',\n",
              " 'qc4\\n',\n",
              " '41.rc6',\n",
              " 'pawn-plans',\n",
              " 'byebye',\n",
              " 'line\\nalternative',\n",
              " 'comfortable]',\n",
              " '26%',\n",
              " 'grounds:',\n",
              " 'transformed,',\n",
              " 'bishop.\\n\\n',\n",
              " 'king........',\n",
              " '6...bg4\".\\n',\n",
              " 'win\\nblack',\n",
              " 'timouts',\n",
              " 'sacilian',\n",
              " '\\nretreat',\n",
              " '\"cold',\n",
              " 'blood\".',\n",
              " 'swap!',\n",
              " 'a7-g8',\n",
              " 'g5??\\r\\nvery',\n",
              " 'sasha,',\n",
              " '...e5!?',\n",
              " 'bermuda',\n",
              " 'pinpoints',\n",
              " 'carefull.',\n",
              " '\\n\\n\\nfor',\n",
              " 'f2-f4.\\nnot',\n",
              " 'exf4;',\n",
              " '21.gxf4?,',\n",
              " 'diagonal.\\nbut',\n",
              " '21.bxf4',\n",
              " '\"bonnie\"',\n",
              " 'laboriously',\n",
              " '(nxf7!)',\n",
              " 'spent,',\n",
              " 'stike.',\n",
              " '....as',\n",
              " 'expected....',\n",
              " 'nhg7)',\n",
              " 'ra2.\\non',\n",
              " '?\\nand',\n",
              " '10.nxd5,',\n",
              " 'attack...i',\n",
              " '22.dxc4',\n",
              " '23.kb2',\n",
              " 'qxa3+)',\n",
              " '24.nd3',\n",
              " '[nd5,',\n",
              " 'woah,',\n",
              " 'purpose!]',\n",
              " '25.kb1',\n",
              " '26.qxc2',\n",
              " 'nc3+!,',\n",
              " '23...c5,',\n",
              " '24.kxb3!',\n",
              " '25.axb4',\n",
              " 'repelled\\n',\n",
              " '(cashing',\n",
              " 'rg1).',\n",
              " 'locker?',\n",
              " 'hope!\\n',\n",
              " '31....,',\n",
              " 'queen-hunting',\n",
              " '15...ke7',\n",
              " '16.qxh8.',\n",
              " 'cramped....or',\n",
              " 'coiled.',\n",
              " 'now.\\r\\npartner',\n",
              " 'typicle',\n",
              " '82.5%',\n",
              " 'favourable.\\nhowever,',\n",
              " 'position:\\nwhite:',\n",
              " 'his!),',\n",
              " 'disparu',\n",
              " 'gros',\n",
              " 'troupes',\n",
              " 'disparu.',\n",
              " '\"squeeze\"',\n",
              " 'troglodyte',\n",
              " '6.h4.',\n",
              " 'asset;',\n",
              " \"s'good'\",\n",
              " 'pluck.',\n",
              " \"sting's\",\n",
              " 'handicaps.',\n",
              " '16.α4',\n",
              " '?!\\nκαλύτερα',\n",
              " '16.αα4!',\n",
              " 'αλλαχθή',\n",
              " ...]"
            ]
          },
          "metadata": {
            "tags": []
          },
          "execution_count": 41
        }
      ]
    }
  ]
}