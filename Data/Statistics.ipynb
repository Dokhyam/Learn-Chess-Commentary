{
  "nbformat": 4,
  "nbformat_minor": 0,
  "metadata": {
    "colab": {
      "name": "data_numbers.ipynb",
      "provenance": [],
      "collapsed_sections": []
    },
    "kernelspec": {
      "name": "python3",
      "display_name": "Python 3"
    }
  },
  "cells": [
    {
      "cell_type": "markdown",
      "metadata": {
        "id": "jQx5TnPzbVKo"
      },
      "source": [
        "pages"
      ]
    },
    {
      "cell_type": "code",
      "metadata": {
        "id": "CLd1Y9eP3GdG"
      },
      "source": [
        "annotated_url = \"https://gameknot.com/list_annotated.pl?u=all\"\r\n",
        "number_of_pages = 316"
      ],
      "execution_count": null,
      "outputs": []
    },
    {
      "cell_type": "markdown",
      "metadata": {
        "id": "31hXAKSWbXs7"
      },
      "source": [
        "games"
      ]
    },
    {
      "cell_type": "code",
      "metadata": {
        "id": "ln9LNeX1NMpQ"
      },
      "source": [
        "import pickle"
      ],
      "execution_count": 1,
      "outputs": []
    },
    {
      "cell_type": "code",
      "metadata": {
        "colab": {
          "base_uri": "https://localhost:8080/"
        },
        "id": "wOU8bXl82X57",
        "outputId": "3f2ce0df-f46b-4a4e-9011-ded877c70494"
      },
      "source": [
        "from google.colab import drive\r\n",
        "drive.mount('/content/drive')"
      ],
      "execution_count": 2,
      "outputs": [
        {
          "output_type": "stream",
          "text": [
            "Mounted at /content/drive\n"
          ],
          "name": "stdout"
        }
      ]
    },
    {
      "cell_type": "code",
      "metadata": {
        "id": "1Hr2gUhu3GfK"
      },
      "source": [
        "BASE_PATH = '/content/drive/MyDrive/NLP/Data/'"
      ],
      "execution_count": 3,
      "outputs": []
    },
    {
      "cell_type": "code",
      "metadata": {
        "id": "eI8kLkyb2oFj"
      },
      "source": [
        "game_urls = pickle.load(open(BASE_PATH+\"saved_game_urls.p\",\"rb\"))"
      ],
      "execution_count": 4,
      "outputs": []
    },
    {
      "cell_type": "code",
      "metadata": {
        "colab": {
          "base_uri": "https://localhost:8080/"
        },
        "id": "nhbMP2H12oDb",
        "outputId": "df9ba5c7-84ac-4ddd-c871-8089345fbab3"
      },
      "source": [
        "len(game_urls)"
      ],
      "execution_count": 5,
      "outputs": [
        {
          "output_type": "execute_result",
          "data": {
            "text/plain": [
              "12636"
            ]
          },
          "metadata": {
            "tags": []
          },
          "execution_count": 5
        }
      ]
    },
    {
      "cell_type": "markdown",
      "metadata": {
        "id": "xF59PwnGbZqv"
      },
      "source": [
        "load"
      ]
    },
    {
      "cell_type": "code",
      "metadata": {
        "id": "jx9kF-e_2NHr"
      },
      "source": [
        "games_data_path = BASE_PATH + 'FEN/games_data'\r\n",
        "NUMER_OF_DATA_DIRS = 13"
      ],
      "execution_count": 6,
      "outputs": []
    },
    {
      "cell_type": "code",
      "metadata": {
        "id": "j_jP874a2bJd"
      },
      "source": [
        "paths = [f'{games_data_path}{i+1}.p' for i in range(NUMER_OF_DATA_DIRS)]"
      ],
      "execution_count": 7,
      "outputs": []
    },
    {
      "cell_type": "code",
      "metadata": {
        "id": "wP6ps9WpNjwd"
      },
      "source": [
        "data = []\r\n",
        "for path in paths:\r\n",
        "    with open(path, 'rb') as file:\r\n",
        "        raw_data = pickle.load(file)\r\n",
        "    data.append(raw_data)"
      ],
      "execution_count": 8,
      "outputs": []
    },
    {
      "cell_type": "markdown",
      "metadata": {
        "id": "kl8bbiIqbbCu"
      },
      "source": [
        "triplets "
      ]
    },
    {
      "cell_type": "code",
      "metadata": {
        "id": "Ox-ZcYSo_r-W"
      },
      "source": [
        "lengths = [len(raw_data) for raw_data in data]"
      ],
      "execution_count": 9,
      "outputs": []
    },
    {
      "cell_type": "code",
      "metadata": {
        "id": "NsNm6eJDNQ2E",
        "colab": {
          "base_uri": "https://localhost:8080/"
        },
        "outputId": "286561a1-d537-4f0c-e823-74adaef567da"
      },
      "source": [
        "sum(lengths)"
      ],
      "execution_count": 10,
      "outputs": [
        {
          "output_type": "execute_result",
          "data": {
            "text/plain": [
              "350027"
            ]
          },
          "metadata": {
            "tags": []
          },
          "execution_count": 10
        }
      ]
    },
    {
      "cell_type": "markdown",
      "metadata": {
        "id": "BEGlIx7Bbpjv"
      },
      "source": [
        "moves"
      ]
    },
    {
      "cell_type": "code",
      "metadata": {
        "id": "8xDNr11e3ZMK"
      },
      "source": [
        "moves_count = []\r\n",
        "for raw_data in data:\r\n",
        "  for trio in raw_data:\r\n",
        "    moves = trio[1].count(',') + 1\r\n",
        "    moves_count.append(moves)"
      ],
      "execution_count": 11,
      "outputs": []
    },
    {
      "cell_type": "code",
      "metadata": {
        "id": "Q5gzsmodAPbq"
      },
      "source": [
        "import collections\r\n",
        "import matplotlib.pyplot as plt"
      ],
      "execution_count": 12,
      "outputs": []
    },
    {
      "cell_type": "code",
      "metadata": {
        "id": "mXFGEttDAl4K"
      },
      "source": [
        "ctr = collections.Counter(moves_count)"
      ],
      "execution_count": 13,
      "outputs": []
    },
    {
      "cell_type": "code",
      "metadata": {
        "id": "MZj6GgFkcd3B"
      },
      "source": [
        "ctr"
      ],
      "execution_count": null,
      "outputs": []
    },
    {
      "cell_type": "code",
      "metadata": {
        "colab": {
          "base_uri": "https://localhost:8080/",
          "height": 333
        },
        "id": "kZjI4nDYcF5V",
        "outputId": "bec7e07a-3aad-4f00-bf92-a48d600549c1"
      },
      "source": [
        "plt.hist([l for l in moves_count if l<6])"
      ],
      "execution_count": 22,
      "outputs": [
        {
          "output_type": "execute_result",
          "data": {
            "text/plain": [
              "(array([205862.,      0.,  60081.,      0.,      0.,  27646.,      0.,\n",
              "         19487.,      0.,  10139.]),\n",
              " array([1. , 1.4, 1.8, 2.2, 2.6, 3. , 3.4, 3.8, 4.2, 4.6, 5. ]),\n",
              " <a list of 10 Patch objects>)"
            ]
          },
          "metadata": {
            "tags": []
          },
          "execution_count": 22
        },
        {
          "output_type": "display_data",
          "data": {
            "image/png": "[encoded data removed]",
            "text/plain": [
              "<Figure size 432x288 with 1 Axes>"
            ]
          },
          "metadata": {
            "tags": [],
            "needs_background": "light"
          }
        }
      ]
    },
    {
      "cell_type": "markdown",
      "metadata": {
        "id": "MMQHLkXUbsc5"
      },
      "source": [
        "comment"
      ]
    },
    {
      "cell_type": "code",
      "metadata": {
        "id": "OzG_YKcECHVr"
      },
      "source": [
        "len_comment = []\r\n",
        "for raw_data in data:\r\n",
        "  for trio in raw_data:\r\n",
        "    len_comment.append(len(trio[2].split(' ')))"
      ],
      "execution_count": null,
      "outputs": []
    },
    {
      "cell_type": "code",
      "metadata": {
        "colab": {
          "base_uri": "https://localhost:8080/"
        },
        "id": "7IlZ9zq0C4p9",
        "outputId": "7d8e1f58-f599-436c-a5d5-577a88939aea"
      },
      "source": [
        "sum(len_comment)/350027"
      ],
      "execution_count": null,
      "outputs": [
        {
          "output_type": "execute_result",
          "data": {
            "text/plain": [
              "20.66387735803238"
            ]
          },
          "metadata": {
            "tags": []
          },
          "execution_count": 41
        }
      ]
    },
    {
      "cell_type": "code",
      "metadata": {
        "id": "p07s4iFaCHTi"
      },
      "source": [
        "ctr1 = collections.Counter(len_comment)"
      ],
      "execution_count": null,
      "outputs": []
    },
    {
      "cell_type": "code",
      "metadata": {
        "id": "X9IXk2UhCUcq"
      },
      "source": [
        "ctr1"
      ],
      "execution_count": null,
      "outputs": []
    },
    {
      "cell_type": "code",
      "metadata": {
        "colab": {
          "base_uri": "https://localhost:8080/",
          "height": 350
        },
        "id": "zUZ4RhueCdip",
        "outputId": "92f7d5ba-f2d2-4446-8056-3b7b5173bb82"
      },
      "source": [
        "plt.hist([l for l in len_comment if l<150])"
      ],
      "execution_count": null,
      "outputs": [
        {
          "output_type": "execute_result",
          "data": {
            "text/plain": [
              "(array([201519.,  80022.,  32866.,  15183.,   7482.,   4484.,   2734.,\n",
              "          1720.,   1099.,    778.]),\n",
              " array([  1. ,  15.8,  30.6,  45.4,  60.2,  75. ,  89.8, 104.6, 119.4,\n",
              "        134.2, 149. ]),\n",
              " <a list of 10 Patch objects>)"
            ]
          },
          "metadata": {
            "tags": []
          },
          "execution_count": 40
        },
        {
          "output_type": "display_data",
          "data": {
            "image/png": "[encoded data removed]",
            "text/plain": [
              "<Figure size 432x288 with 1 Axes>"
            ]
          },
          "metadata": {
            "tags": [],
            "needs_background": "light"
          }
        }
      ]
    },
    {
      "cell_type": "markdown",
      "metadata": {
        "id": "vgnp6R50bwPo"
      },
      "source": [
        "words"
      ]
    },
    {
      "cell_type": "code",
      "metadata": {
        "id": "d_o-4PpXCdbM"
      },
      "source": [
        "word_frequencies = collections.defaultdict(int)"
      ],
      "execution_count": null,
      "outputs": []
    },
    {
      "cell_type": "code",
      "metadata": {
        "id": "x6nDGtY_HVlh"
      },
      "source": [
        "for raw_data in data:\r\n",
        "  for trio in raw_data:\r\n",
        "    words = trio[2].split(' ')\r\n",
        "    for word in words:\r\n",
        "      word_frequencies[word]+=1"
      ],
      "execution_count": null,
      "outputs": []
    },
    {
      "cell_type": "code",
      "metadata": {
        "colab": {
          "base_uri": "https://localhost:8080/"
        },
        "id": "_BYnDRRJIcfR",
        "outputId": "a58695a2-e2f1-4b62-de1c-4c6118b6278a"
      },
      "source": [
        "len(word_frequencies.keys())"
      ],
      "execution_count": null,
      "outputs": [
        {
          "output_type": "execute_result",
          "data": {
            "text/plain": [
              "254575"
            ]
          },
          "metadata": {
            "tags": []
          },
          "execution_count": 14
        }
      ]
    },
    {
      "cell_type": "code",
      "metadata": {
        "id": "on7ot-6qIokx"
      },
      "source": [
        "freqThreshold = 3 \r\n",
        "rareWords = []"
      ],
      "execution_count": null,
      "outputs": []
    },
    {
      "cell_type": "code",
      "metadata": {
        "id": "1U0XfwsGIfcP"
      },
      "source": [
        "for word,freq in word_frequencies.items():\r\n",
        "    if freq>freqThreshold:\r\n",
        "        pass #wids[word]=len(wids)\r\n",
        "    else:\r\n",
        "        #unkFrequency+=freq\r\n",
        "        rareWords.append(word)"
      ],
      "execution_count": null,
      "outputs": []
    },
    {
      "cell_type": "code",
      "metadata": {
        "colab": {
          "base_uri": "https://localhost:8080/"
        },
        "id": "ntfTLZWQKAeo",
        "outputId": "5a43b444-1dcf-4171-e6b8-116aaa006080"
      },
      "source": [
        "len(rareWords)"
      ],
      "execution_count": null,
      "outputs": [
        {
          "output_type": "execute_result",
          "data": {
            "text/plain": [
              "210672"
            ]
          },
          "metadata": {
            "tags": []
          },
          "execution_count": 19
        }
      ]
    },
    {
      "cell_type": "code",
      "metadata": {
        "colab": {
          "base_uri": "https://localhost:8080/"
        },
        "id": "Yx_MmbPJIykw",
        "outputId": "95fb3250-5376-401c-c0ef-dd71a4704bba"
      },
      "source": [
        "rareWords"
      ],
      "execution_count": null,
      "outputs": [
        {
          "output_type": "execute_result",
          "data": {
            "text/plain": [
              "['Petrov-Pucher,',\n",
              " 'Touquet,',\n",
              " '2006),',\n",
              " '8.d3.',\n",
              " '[?!]\\nThe',\n",
              " '9.…',\n",
              " '[?]\\nOblivious',\n",
              " 'h-rook,',\n",
              " 'hock.',\n",
              " '[?]\\nBlack',\n",
              " '11.…',\n",
              " '12.Bf1\\n',\n",
              " '(12.Bd3',\n",
              " '14.Ke1',\n",
              " 'Qf2#)\\n',\n",
              " '(12.Be2',\n",
              " '13.Kd3',\n",
              " 'queen)\\n',\n",
              " '(12.Qf3',\n",
              " 'bishop)\\n12.…',\n",
              " 'substituting',\n",
              " '12.Bxb5?',\n",
              " 'salvages',\n",
              " '17.…',\n",
              " '19.Ke3',\n",
              " '(19.Ke1?',\n",
              " '20.Bf1',\n",
              " '36.Ke4',\n",
              " '37.Ke5',\n",
              " 'Rg5#',\n",
              " '\"League',\n",
              " 'Republic\"',\n",
              " 'https://cga.leaguerepublic.com/l/standingsForDate/342860268/2/-1/-1.html?fbclid=IwAR0yDq0jvhIcep-JXxufQA37GvKK3AB32T_JiaOTqHmC_ewYmKki2GO-2mQ',\n",
              " 'lichess',\n",
              " 'https://lichess.org/iTTfOeZHRXP6',\n",
              " 'Lichess',\n",
              " 'https://gameknot.com/mt.pl?id=86018',\n",
              " 'https://www.chess.com/game/daily/294461302',\n",
              " 'Zakharov,',\n",
              " '(2376)',\n",
              " 'Gusev,',\n",
              " 'Aleksey',\n",
              " '(2383)',\n",
              " '12.\\texd5\\tNce5\\n13.\\td6\\tBb7\\n14.\\tNxe5\\tfxe5\\n15.\\tf4\\texf4\\n16.\\tRe1\\tfxe3\\n17.\\tRxe3+\\tBe7\\n18.\\tQd4\\tQb8\\n19.\\tdxe7\\tQa7\\n20.\\tBf7+\\tKxf7\\n21.\\te8=Q+\\tRhxe8\\n22.\\tRf1+\\tKg8\\n23.\\tQxa7\\tRxe3\\n24.\\tQxe3\\tBd5\\n25.\\tRd1\\tBe6\\n26.\\tb3\\tNe7\\n27.\\tRd6\\th6\\n28.\\tQb6\\tKf7\\n29.\\tQb7\\tRc8\\n30.\\tQxa6\\tRc1+\\n31.\\tKf2\\tRc2+\\n32.\\tKf3\\tBd5+\\n33.\\tRxd5\\tNxd5\\n34.\\tQxb5\\tRc3+\\n35.\\tKe2\\tNf6\\n36.\\tKd1\\tKe6\\n37.\\ta4\\tNe4\\n38.\\tQb6+\\td6\\n39.\\ta5\\tRd3+\\n40.\\tKe2\\tNc5\\n41.\\tQxc5\\tdxc5\\n42.\\tKxd3\\tKd5\\n43.\\ta6\\tKc6\\n44.\\tKc4\\t\\nhttps://gameknot.com/analyze-board.pl?bd=x949937&fb=1&mv=22&rnd=0.255858191579577\\nAlso',\n",
              " 'Marc',\n",
              " 'Esserman',\n",
              " 'Loek',\n",
              " '2011\\nhttps://www.chessgames.com/perl/chessgame?gid=1630005',\n",
              " 'Nf3xNd4\"',\n",
              " 'over-whelming',\n",
              " 'Facebook',\n",
              " 'https://www.facebook.com/paul.e.littlewood\\nHe',\n",
              " 'Higgie.',\n",
              " 'now...or',\n",
              " '?\"\\nThe',\n",
              " '17.\\tfxe6\\tdxe6\\n18.\\tBxe6\\tNxe6\\n19.\\tQxe6\\tBxh2+\\n20.\\tKxh2\\tQxd4',\n",
              " '7.\\tRxf4\\tBxf4\\n18.\\tQxf4\\te5',\n",
              " 'mishandled.',\n",
              " 'countering.',\n",
              " 'irreparably',\n",
              " '3???,',\n",
              " 'Kt,',\n",
              " 'oft-repeated',\n",
              " '9.Rd1+,',\n",
              " 'quirks!',\n",
              " '9.h3,',\n",
              " '9...Ke8,',\n",
              " '10.Ne4,',\n",
              " 'reasons:\\n1.Black',\n",
              " 'a8.\\n2.It',\n",
              " '11.g4\\n3.It',\n",
              " '12...h5,',\n",
              " '13.Ne4,',\n",
              " '16...Ne2+',\n",
              " 'there!)',\n",
              " '16...Nxc2.',\n",
              " '16.Bg5+',\n",
              " '18.Kg2',\n",
              " 'silly...',\n",
              " 'Cheap,',\n",
              " '22.Ne4',\n",
              " 'Steps',\n",
              " '22...Rd4',\n",
              " 'counter-threats...23.',\n",
              " '25...gxf4?',\n",
              " 'wait-and-see',\n",
              " 'extreme...',\n",
              " 'miss...',\n",
              " 'Carlsen?)',\n",
              " 'Nxh6#',\n",
              " 'Rxc7#',\n",
              " '36.e7+',\n",
              " '37.Rxe7',\n",
              " \"'won'\",\n",
              " '(All',\n",
              " 'provisional!)',\n",
              " '(Bc3',\n",
              " 'inspiration,',\n",
              " 'Petrosian-style.',\n",
              " 'reset.',\n",
              " 'realize:',\n",
              " 'threatening!',\n",
              " 'Must.',\n",
              " 'Concentrate.',\n",
              " 'bam.',\n",
              " 'ambush,',\n",
              " 'h6-g5',\n",
              " 'against!',\n",
              " 'Qxh1.',\n",
              " 'throats',\n",
              " 'axb5#!)',\n",
              " 'Pragmatic.',\n",
              " 'huddle!',\n",
              " 'Optimistic,',\n",
              " 'Rxa1.\"',\n",
              " 'coulours',\n",
              " 'tege',\n",
              " 'agai,',\n",
              " 'caps',\n",
              " 'develloped.',\n",
              " 'developped).',\n",
              " 'queel',\n",
              " 'ùore',\n",
              " 'capacity.',\n",
              " 'Centeeeeeeeer',\n",
              " 'bettre',\n",
              " 'unedited',\n",
              " '6.dxc5',\n",
              " '6...Bxc5.',\n",
              " '(7.Bxf6',\n",
              " '8.Nxd5),',\n",
              " '7...dxe4',\n",
              " '8.Nxe4',\n",
              " '10.Nxc5',\n",
              " '8...Nfd7',\n",
              " '(9...Bxd5',\n",
              " '9.Bxe7',\n",
              " '9.Qa4',\n",
              " '9...0-0).',\n",
              " '10.g4.',\n",
              " '9...Ne4',\n",
              " '(10.Nxe4',\n",
              " 'outpost).',\n",
              " '9...Nd7',\n",
              " '10...Nxd7',\n",
              " '12.b4!',\n",
              " '(11.Qa4',\n",
              " '13.Qxc6),',\n",
              " 'files).',\n",
              " '13.b4),',\n",
              " '11...Nxc5',\n",
              " 'possibility).',\n",
              " '12.Rc1,',\n",
              " 'attacked),',\n",
              " '12...Ndxe5.',\n",
              " '12.Rc1).',\n",
              " '12...d4',\n",
              " '14.Bxd7+',\n",
              " '15.bxc3',\n",
              " '15...Qxc3',\n",
              " 'pieces’',\n",
              " '12...Rc1',\n",
              " '...Rxc6),',\n",
              " '14.Na4',\n",
              " '13...Qxc6',\n",
              " '14.Nd4,',\n",
              " '14...Qb6',\n",
              " '(15...c5',\n",
              " '16.f5?',\n",
              " 'cxd4).',\n",
              " '15.Nd4',\n",
              " '15...c5.',\n",
              " '16.Nxe6.',\n",
              " '(15.Ne4',\n",
              " '16.Nd4',\n",
              " '...Rfe8.',\n",
              " '16...Qe7?',\n",
              " '17.Nd6',\n",
              " '16...Qe7',\n",
              " '16...Qb6,',\n",
              " '17...Rxe5',\n",
              " '16.e6',\n",
              " '16...Rxe6',\n",
              " '17...fxe6!?',\n",
              " '16...dxe4',\n",
              " '17.Rxc5',\n",
              " '(17.Qxd7',\n",
              " 'Bxd7)',\n",
              " '16...Qb5',\n",
              " '17.Nd6;',\n",
              " '16...Qb4',\n",
              " '17.Qd2!).',\n",
              " '(has',\n",
              " '18.Rxe5',\n",
              " '20.gxf3',\n",
              " '18.Nxe5',\n",
              " '19.Nxd7',\n",
              " '17...Nxe5',\n",
              " '18.Nxe8',\n",
              " '17...Re6',\n",
              " '20.Qh5',\n",
              " 'Writing',\n",
              " '19...Nxe5',\n",
              " '20.Rxe5',\n",
              " '18...Re6,',\n",
              " '19.Rxc6',\n",
              " '18...Nc5',\n",
              " 'hallucinated',\n",
              " '18...Bxf3',\n",
              " 'hallucination,',\n",
              " 'dangerous).',\n",
              " '20.Qxf3)',\n",
              " '20...Nf6.',\n",
              " '21.Re7,',\n",
              " '21...Qd8',\n",
              " '22...Ne4).',\n",
              " 'possibilities.\\n\\nAlready',\n",
              " '19...Qb4!',\n",
              " '...Qxb2,',\n",
              " '22.Qe2)',\n",
              " 'sharpest,',\n",
              " 'reciprocates',\n",
              " 'benign',\n",
              " 'neglect.',\n",
              " 'afield',\n",
              " 'Oof,',\n",
              " 'center!?',\n",
              " 'expeditionary',\n",
              " '(Somewhere',\n",
              " 'horror.)',\n",
              " 'grabbers',\n",
              " 'Bh1)',\n",
              " '(answer:',\n",
              " 'Qxa5).',\n",
              " 'slurp',\n",
              " 'Qg2#).',\n",
              " 'Re3#',\n",
              " 'Re3#)',\n",
              " 'options:\\n\\nDoor',\n",
              " 'Rd4#\\nDoor',\n",
              " 'Qd4#\\nDoor',\n",
              " 'prevailed',\n",
              " 'E3.',\n",
              " 'F7,',\n",
              " '\\n\\ng3',\n",
              " 'foiled!',\n",
              " 'fruition!\\n\\nTwo',\n",
              " 'Camelot.',\n",
              " 'demands,',\n",
              " '\"None',\n",
              " 'Pass\"',\n",
              " 'Archers...',\n",
              " '\"Stand',\n",
              " 'aside\"',\n",
              " 'Heralds',\n",
              " 'Joust',\n",
              " 'envoy',\n",
              " 'River',\n",
              " 'Morgana',\n",
              " 'Gawain',\n",
              " 'teleport',\n",
              " 'Lake',\n",
              " 'stirs.',\n",
              " 'Scouting',\n",
              " 'detects',\n",
              " \"Morgana's\",\n",
              " 'expires',\n",
              " \"agamator's\",\n",
              " 'youtube:',\n",
              " 'https://www.youtube.com/watch?v=dv52uwNfFZg',\n",
              " 'Russians',\n",
              " 'QGD.\\n',\n",
              " 'Qb3.\\n\\n',\n",
              " 'Queenside.\\n',\n",
              " 'Rc8.\\n\\nNow',\n",
              " 'Qb7.\\n',\n",
              " 'later.\\n\\n\\n\\n',\n",
              " 'Qa7.\\n\\nAlso',\n",
              " 'Stockfish,',\n",
              " 'equal.\\n\\n17...',\n",
              " 'Rfc1,',\n",
              " 'mentions.',\n",
              " 'Black.)',\n",
              " 'Rae7',\n",
              " 'Bxg6)',\n",
              " 'Rxe5)',\n",
              " 'threat.))',\n",
              " 'Nf8(Not',\n",
              " 'Be6.)',\n",
              " 'coming.\\n\\n',\n",
              " 'to.\\n\\n22.',\n",
              " 'Rf7)',\n",
              " 'Rcf1',\n",
              " 'Rxe7.',\n",
              " 'later.\\n\\n28...',\n",
              " 'later.\\n\\nIf',\n",
              " 'Qxb8)',\n",
              " 'Rf1).',\n",
              " 'pieces.\\n\\n',\n",
              " 'accurate.\\n',\n",
              " 'c5.\\n\\n\\n',\n",
              " 'move.\\n\\nIf',\n",
              " 'R5f3',\n",
              " 'R1f3',\n",
              " 'Qxd3)',\n",
              " 'Rd3.\\n',\n",
              " 'bides',\n",
              " 'moves.\\n\\nSlightly',\n",
              " 'e8=Q#.\\n',\n",
              " 'Rf7.\\n\\nIf',\n",
              " '(45.',\n",
              " 'Rh8#)',\n",
              " 'Qxg7#.\\n\\nPlay',\n",
              " 'Rcg7',\n",
              " '(49.',\n",
              " 'Qf5+)',\n",
              " '...\\n\\n',\n",
              " '0-0).',\n",
              " '3.g5',\n",
              " '4...Bg7',\n",
              " '7.c5+',\n",
              " '7...Kh8',\n",
              " '8.Nf7+',\n",
              " '6...Qe8',\n",
              " '7...h6.',\n",
              " '...Qe8.',\n",
              " '9.dxc6',\n",
              " '7...Qe8',\n",
              " '8.Nb5.',\n",
              " '8...e5',\n",
              " '9.dxe6',\n",
              " '8.c5',\n",
              " '8...dxc5',\n",
              " '(d8).',\n",
              " '8...Ne4,',\n",
              " '(10...Bxd4',\n",
              " '12.Nb3',\n",
              " '8...Qe8,',\n",
              " '9...e5,',\n",
              " 'Nc7).',\n",
              " '8...Nbd7,',\n",
              " '9.d5,',\n",
              " '8...Na6',\n",
              " '...Nc7,',\n",
              " '10.c5+',\n",
              " '11.Nd2,',\n",
              " '11...Bxd4',\n",
              " '12.c5+',\n",
              " '9...Nc7,',\n",
              " '10.d6',\n",
              " '10...e5,',\n",
              " '10...cxd5',\n",
              " '9...Qc7,',\n",
              " '9...Rb8',\n",
              " '(11.dxe6',\n",
              " '12.cxb7',\n",
              " '12.f4);',\n",
              " '10...Kh8',\n",
              " '11.cxd6',\n",
              " '(11...Qxd6?',\n",
              " '12.Bf4)',\n",
              " '(12.d5',\n",
              " '11...Qxd6',\n",
              " '11...exd6',\n",
              " '\"cluster\"',\n",
              " '12...fxe4',\n",
              " '15.Nxf6',\n",
              " '16.Bxf6+',\n",
              " '17.Re8+',\n",
              " '18.Qg8+',\n",
              " '12...Qe8,',\n",
              " '14.dxe5',\n",
              " '15.e6',\n",
              " '15...Nc5',\n",
              " 'Bxf5;',\n",
              " '15.dxe5',\n",
              " '15.dxe5,',\n",
              " '\"saving\"',\n",
              " '13...Nxe4,',\n",
              " '(15.Rxe4',\n",
              " '17.gxf4',\n",
              " '13...fxe4',\n",
              " '14.Nd2',\n",
              " '14...d5,',\n",
              " '...Rxf4.',\n",
              " '16.Re7,',\n",
              " '16.Be7',\n",
              " '(16...Rg8',\n",
              " '16.Re7',\n",
              " '15...Bd7,',\n",
              " '16.Be7.',\n",
              " '16...Qc8',\n",
              " 'Na6-c7-d5,',\n",
              " 'e7).',\n",
              " '16...Qd8',\n",
              " '17.Rxg7',\n",
              " '17.Bf4,',\n",
              " 'bettern',\n",
              " '17...Nc7',\n",
              " '17...Bf6',\n",
              " '18.Bxf6+',\n",
              " '19.Re8+',\n",
              " '20.Rxe8+',\n",
              " 'sight).',\n",
              " '18.Bf4,',\n",
              " '(19.Bg5',\n",
              " 'Qc8)',\n",
              " '19.Rxc7',\n",
              " '20.Nxf5',\n",
              " '(21.Bf6+',\n",
              " 'Rxf6;',\n",
              " 'Rxe8).',\n",
              " '19.Bf4,',\n",
              " 'Bd4).',\n",
              " '...Nc7-b5-d4',\n",
              " 'Bxd5).',\n",
              " '\"chance\"',\n",
              " '20.Qc3+.',\n",
              " '20.Bh6,',\n",
              " '20...Bxh6',\n",
              " '21.Qc3+',\n",
              " '22.Ng5',\n",
              " 'Ne8!',\n",
              " '23.Rxh7',\n",
              " '(23.Nxh7',\n",
              " '...Kxh7)',\n",
              " '19...Bg7',\n",
              " '19...Nb5',\n",
              " '20.a4!;',\n",
              " '19...Be6',\n",
              " '20.R1xe6',\n",
              " '21.Rxe6',\n",
              " '18...Nb5',\n",
              " '...c5).',\n",
              " '20...K:g7',\n",
              " '21.Re7+',\n",
              " '(21...Rf7',\n",
              " '22.Qxf7+',\n",
              " '23.Qh8#)',\n",
              " '22.Qc3+',\n",
              " '(interposition',\n",
              " '23.Qg8#.',\n",
              " 'benoni!',\n",
              " 'aaaah.',\n",
              " '...Nbd7/',\n",
              " '...exd,',\n",
              " '11.cxd',\n",
              " '11...exd,',\n",
              " '12.cxd',\n",
              " 'sown.',\n",
              " '\"again\".',\n",
              " '13....Nxe4!',\n",
              " 'imo:',\n",
              " '...Na8',\n",
              " '...exd',\n",
              " '\"student',\n",
              " 'right\"',\n",
              " '...Bf8,',\n",
              " 'uncramps',\n",
              " '19...dxe5',\n",
              " '19.exd6',\n",
              " '19....Bxb5',\n",
              " '20.cxb,',\n",
              " '21....Qd6',\n",
              " '22.Bf4,',\n",
              " '24.Rfe1',\n",
              " '24.Be3',\n",
              " '24...d4!',\n",
              " '24.d4.',\n",
              " '25.d4',\n",
              " '27.cxd',\n",
              " '28.Bf3',\n",
              " 'OOOPS.',\n",
              " 'equal\"',\n",
              " 'GOOD.',\n",
              " '8.Nxg6',\n",
              " 'misses,',\n",
              " '8.Nd7',\n",
              " '8Nd7',\n",
              " '\"better.\"',\n",
              " 'YEARS...',\n",
              " '14...Rfd8',\n",
              " 'weaken/attack',\n",
              " '15.cxb',\n",
              " '16.Qxb5',\n",
              " 'button...',\n",
              " 'levers',\n",
              " '15.cxb.',\n",
              " '16....a5!',\n",
              " '...Ra4,',\n",
              " '17....a5',\n",
              " '18.ba5',\n",
              " '19.Ng6',\n",
              " '22....Qd7',\n",
              " '...Qxd4+',\n",
              " '23.Qxe6+',\n",
              " '24.Nf5',\n",
              " '23...Bf6',\n",
              " '\"speed',\n",
              " 'howler\"...',\n",
              " '25...Nf8',\n",
              " 'Closed.',\n",
              " 'dodgy.',\n",
              " '(Rxe6+).',\n",
              " 'barn',\n",
              " 'fxe6?',\n",
              " 'Qxe6#!',\n",
              " 'inaccuracy;',\n",
              " 'curiously.',\n",
              " 'Secretly',\n",
              " 'Qxf3#.',\n",
              " 'Qg1#.',\n",
              " 'botch',\n",
              " 'Qg2+.',\n",
              " 'Shaibel',\n",
              " 'xildur',\n",
              " '...Bxf2+!!',\n",
              " 'Nd6+!!',\n",
              " 'Bxa8??',\n",
              " '...Rd1#!!',\n",
              " 'Bb2!!',\n",
              " 'preapring',\n",
              " '(Kxf5',\n",
              " 'good.)',\n",
              " 'f5+!',\n",
              " 'f7+.',\n",
              " 'Bg7+!!',\n",
              " 'Qxe7!!',\n",
              " '...Qxd6??',\n",
              " 'Nxd6+!!,',\n",
              " 'Qxe7+!!',\n",
              " '...Kxe7',\n",
              " '...[random',\n",
              " 'Exc7',\n",
              " '(Will',\n",
              " 'Kh2!',\n",
              " '...Ra1+',\n",
              " 'Kg3!!',\n",
              " '...Rf4++',\n",
              " 'Rd7??',\n",
              " 'Ke2??.',\n",
              " 'Rb3+!!',\n",
              " '(Discovered',\n",
              " 'Rb2+!!',\n",
              " 'platitude',\n",
              " 'Ra1c1',\n",
              " 'Interupting',\n",
              " 'insights.',\n",
              " 'perparing',\n",
              " 'G3,',\n",
              " 'knf4',\n",
              " 'knh5',\n",
              " 'kf8.',\n",
              " 'atrack',\n",
              " 'sway',\n",
              " 'Freebie',\n",
              " 'WHAAAAATTTTTT?!?!?!?!',\n",
              " 'rook!!!!',\n",
              " 'So.....',\n",
              " 'free!!!!',\n",
              " 'Bro,',\n",
              " 'Roboto.',\n",
              " 'bro.',\n",
              " 'respnse.',\n",
              " \"alekhine's\",\n",
              " '2...cxd4',\n",
              " 'colle,',\n",
              " 'london,',\n",
              " '9...Bxf4',\n",
              " '(h3,',\n",
              " 'voorbereid,',\n",
              " 'koos',\n",
              " 'speel.',\n",
              " 'theorie,',\n",
              " 'verwacht.',\n",
              " 'slag',\n",
              " 'begonnen.',\n",
              " 'Lh3',\n",
              " 'voorzien,',\n",
              " 'verrassing.',\n",
              " 'Slaan',\n",
              " 'geforceerd.',\n",
              " 'zet?',\n",
              " 'Lang',\n",
              " 'geaarzeld.',\n",
              " 'Geforceerd,',\n",
              " 'bevrijden.',\n",
              " 'Alternatief',\n",
              " 'e4?!;',\n",
              " 'Dxf2',\n",
              " 'spijt,',\n",
              " 'Tf7?',\n",
              " 'Lg4!',\n",
              " 'Lh5',\n",
              " 'prettig.',\n",
              " 'lopers',\n",
              " 'actief.',\n",
              " 'Lf4?',\n",
              " 'Df7!',\n",
              " 'gepende',\n",
              " 'Le3?',\n",
              " 'Lh5?',\n",
              " 'Meteen',\n",
              " 'Lf2,',\n",
              " 'Pe2+',\n",
              " 'loper.\\nCommentaar',\n",
              " 'ranzige',\n",
              " 'doen!]',\n",
              " '[Nu',\n",
              " 'dameflank',\n",
              " 'beginopstelling,',\n",
              " 'schiet',\n",
              " 'ermee',\n",
              " 'op??]\\n\\n[10.De1',\n",
              " '11.Td1',\n",
              " 'plan.]\\n',\n",
              " '[Ik',\n",
              " 'kwijt!]',\n",
              " '[Veel',\n",
              " 'slecht',\n",
              " 'ook.]',\n",
              " '[Gelukkig',\n",
              " 'ideeën',\n",
              " 'heeft.]\\n\\n[Dit',\n",
              " '12...Pbd7',\n",
              " '13.Tb1',\n",
              " '14.Dg3',\n",
              " 'Lf6]\\n',\n",
              " '[14.a4',\n",
              " 'véél',\n",
              " 'oen!]',\n",
              " '[Hoe',\n",
              " 'godsnaam',\n",
              " 'nou',\n",
              " 'op?]\\n\\n[18.Pef5',\n",
              " 'Pbd7',\n",
              " 'Ziet',\n",
              " 'uit.]\\n',\n",
              " '[18...Pd3',\n",
              " '19.Dd2',\n",
              " '20.Lf2',\n",
              " 'Pxf2',\n",
              " '21.Kxf2',\n",
              " 'winnend!]',\n",
              " 'kwijt.]\\n\\n[19.Pef5',\n",
              " 'natuurlijk!]\\n',\n",
              " '[20.a4]',\n",
              " '[25.Lf6',\n",
              " '26.Dg3]',\n",
              " '[Pffff]\\n\\n[26.a4',\n",
              " 'beter...]\\n',\n",
              " '[Die',\n",
              " 'ketste',\n",
              " 'natuurlijk.]',\n",
              " '[30.Ld1',\n",
              " 'luie',\n",
              " 'toch?]',\n",
              " 'minuten',\n",
              " 'klok',\n",
              " 'over.]\\n\\n½–½\\n',\n",
              " 'lately;',\n",
              " '3.f3)',\n",
              " 'blackmar-diemer',\n",
              " 'Popiel',\n",
              " 'diemer',\n",
              " '%.Qe2',\n",
              " '...Qb5=',\n",
              " 'englund',\n",
              " 'attack.\\n(1.e4',\n",
              " 'Qd4)\\nI',\n",
              " 'Exf6',\n",
              " 'implementation.',\n",
              " 'Pressurizing',\n",
              " 'Dragon.)',\n",
              " 'march;',\n",
              " 'ab.',\n",
              " 'agents',\n",
              " 'trusted.',\n",
              " '\\n\\nThat',\n",
              " 'Kg7.\\n\\n',\n",
              " 'Be2-c4.',\n",
              " 'advancing;',\n",
              " 'Ne1+.',\n",
              " '...Ng3+',\n",
              " '...Nd2+',\n",
              " 'negated.',\n",
              " '20.Qxd5ch,',\n",
              " 'foreshadowed',\n",
              " 'fortification',\n",
              " 'facade',\n",
              " 'delayed--trading',\n",
              " 'salvageable--the',\n",
              " 'rescued.',\n",
              " 'hospital',\n",
              " 'Boden',\n",
              " 'molesting',\n",
              " 'Jaenish',\n",
              " 'Rfb1?',\n",
              " '...temporarily.',\n",
              " 'Qd2+.',\n",
              " 'Ph3',\n",
              " 'Rde4',\n",
              " 'Rxe8+.',\n",
              " 'hurdle.',\n",
              " 'fir',\n",
              " 'Builds.',\n",
              " 'Geting',\n",
              " 'Online',\n",
              " 'Lichess.',\n",
              " 'MikeyMouse456',\n",
              " 'https://en.wikipedia.org/wiki/Sicilian_Defence,_Alapin_Variation',\n",
              " 'offers,',\n",
              " 'Smith–Morra',\n",
              " 'Nd5).\\n\\nWhite',\n",
              " '4.Bc4.\"',\n",
              " 'Bc1-f4',\n",
              " '22.....Be6',\n",
              " 'miscalculation!',\n",
              " 'views.',\n",
              " 'Kc3?',\n",
              " '49....Be4+',\n",
              " '50...Kb3.',\n",
              " 'Rb4!',\n",
              " '10.Bg4?!',\n",
              " 'Nontheless',\n",
              " 'pointless!',\n",
              " 'Straightening',\n",
              " '3.Bc4...',\n",
              " '5.h4.',\n",
              " '5...Bg7',\n",
              " '7...Qh5+',\n",
              " '8.Bg5,',\n",
              " '8...Bg7',\n",
              " '8...Be6,',\n",
              " '9.Bxe6',\n",
              " '12...d5,',\n",
              " '13.Qe8#.',\n",
              " '12...Bf4',\n",
              " '13...Nd7',\n",
              " '13...Qxe1#',\n",
              " 'hoist',\n",
              " 'petard,',\n",
              " '13...Qxe4',\n",
              " 'salvagible',\n",
              " '16.Nc3',\n",
              " '16...Bd4+',\n",
              " '16...Bxb2',\n",
              " '17.cxb7',\n",
              " 'enjoyable.\\nThe',\n",
              " 'Qf7ch,',\n",
              " 'Nxe4ch,',\n",
              " 'exQd8',\n",
              " 'Qf4ch,',\n",
              " 'Nc3ch,',\n",
              " 'Bxc3ch',\n",
              " 'shocker!',\n",
              " 'Nf5ch',\n",
              " '3...Qh4+,',\n",
              " '2.Bc4.',\n",
              " '60s,',\n",
              " '\"busted\"',\n",
              " '5...g4,',\n",
              " '6.Nd2?',\n",
              " '6.Ng1',\n",
              " '6.Bxf4',\n",
              " 'mercies',\n",
              " '10...hxg5',\n",
              " '11.Rxh8',\n",
              " '101.Qf1',\n",
              " 'deserves?',\n",
              " '12...Rg1',\n",
              " '13...Nb5',\n",
              " '13...Nh5,',\n",
              " 'occupied;',\n",
              " '14...Nh5',\n",
              " '15...Qh4!',\n",
              " '19.g3',\n",
              " '20.Nc6+',\n",
              " '19...hxg2',\n",
              " '20...Ka8',\n",
              " '21.Nxd8?',\n",
              " 'prudence',\n",
              " '20...Bd7',\n",
              " '20...Nh5.',\n",
              " 'critical;',\n",
              " 'Sillier',\n",
              " 'Painful.',\n",
              " 'nicking',\n",
              " '22.Bxf4',\n",
              " '22...Qxf2',\n",
              " '23.Rf1.',\n",
              " 'obstructive',\n",
              " 'a8;',\n",
              " '22...Kb8',\n",
              " '23.Nc6',\n",
              " '24.Nxd8',\n",
              " 'turning.',\n",
              " '25.Bxf4',\n",
              " 'pressing,',\n",
              " '27....Bd1',\n",
              " '28.Rxd1',\n",
              " '29.Ne6+',\n",
              " '30.Qf3',\n",
              " '31.Qf6+',\n",
              " '32.Rf1',\n",
              " '33.Bxf1',\n",
              " '27...Be3',\n",
              " '28.a8=Q',\n",
              " '28...Ng3',\n",
              " 'advantage.\\n\\n\\n',\n",
              " '30.Ne6+',\n",
              " 'wanyway.',\n",
              " 'Remarkably,',\n",
              " '33.Qh3',\n",
              " '34.Qe6+and',\n",
              " '33...Bxg2',\n",
              " 'any...',\n",
              " 'Aperta',\n",
              " 'invertiti,',\n",
              " 'giochi',\n",
              " 'frustrare',\n",
              " \"quest'idea\",\n",
              " 'Bianco.\\nAlternative',\n",
              " '2.b3',\n",
              " '[non',\n",
              " 'significato',\n",
              " 'autonomo',\n",
              " 'quantro',\n",
              " 'trasporrà,',\n",
              " 'dopo,',\n",
              " 'studieremo',\n",
              " 'seguito.]',\n",
              " 'simili',\n",
              " 'principale]',\n",
              " '6.Bg2',\n",
              " '8.b4',\n",
              " '13.Rc1',\n",
              " '14.Ba1',\n",
              " '16.a5',\n",
              " '17.Qa4',\n",
              " '19.axb6',\n",
              " '20.Qxa6',\n",
              " '21.Ncb1',\n",
              " '[0-1,',\n",
              " 'Abdisalimov',\n",
              " 'Abdimalik',\n",
              " '2317',\n",
              " 'Tillyaev',\n",
              " 'Ulugbek',\n",
              " '(UZB)',\n",
              " '2304',\n",
              " 'Tashkent',\n",
              " '4/',\n",
              " '5/2018',\n",
              " 'Uzbekistan]',\n",
              " '2.c3)',\n",
              " 'contromossa,',\n",
              " '2.a3',\n",
              " 'inutile.\\n',\n",
              " '5.exd4',\n",
              " \"dell'Alapin\",\n",
              " 'invertiti',\n",
              " 'rivela',\n",
              " '8.Bxc4',\n",
              " '10.Nh4',\n",
              " '12.Ba2',\n",
              " '13.Qxb5',\n",
              " '[Krecak,',\n",
              " 'Zvonko',\n",
              " '2356',\n",
              " 'Miciak,',\n",
              " 'Ing.',\n",
              " '2385',\n",
              " '2010]',\n",
              " 'rispettabile',\n",
              " 'invertiti.',\n",
              " 'innocua.',\n",
              " 'esempio:\\n',\n",
              " 'superato',\n",
              " 'apertura\\n',\n",
              " 'Mikhalevski\\n',\n",
              " '=/+\\n',\n",
              " '17.Qb1',\n",
              " '22...Rf8',\n",
              " '[!?=/+]',\n",
              " '24.Nc4',\n",
              " '[!?=]',\n",
              " '27.Nc6',\n",
              " '28.Kxf2',\n",
              " '30.Qf1',\n",
              " '1/2-1/2,',\n",
              " 'Pakselev,',\n",
              " 'Nikolaevich',\n",
              " 'Valinova,',\n",
              " 'Jana,',\n",
              " '14/',\n",
              " '7/2007\\n',\n",
              " '2...d4,',\n",
              " '(2...e6,',\n",
              " '2...c6...2...Nf6)',\n",
              " '4...Ngf6',\n",
              " '5.Bxf7+',\n",
              " 'wants;',\n",
              " 'happen;',\n",
              " 'Caution',\n",
              " 'reigning,',\n",
              " 'cautious:',\n",
              " 'cautious;',\n",
              " '10.Bf4,',\n",
              " '13.Nxe6?',\n",
              " 'foolsih',\n",
              " 'simpler!',\n",
              " '18.Bh6,',\n",
              " '18.Bh6',\n",
              " '24...Rc7.',\n",
              " '24..Qa8',\n",
              " 'sinks.',\n",
              " '25...Re7',\n",
              " '27...Bxg5',\n",
              " '28.Qxf7+',\n",
              " 'alarmed',\n",
              " '28...Qa8',\n",
              " 'alarming,',\n",
              " '30...g6',\n",
              " '31.Bxf6',\n",
              " '32.Qe2',\n",
              " '31.Rxe7',\n",
              " '32.Bxe7',\n",
              " '33.d4',\n",
              " '31...gxf6',\n",
              " '33...Rd6,',\n",
              " '33...Qxe4',\n",
              " '34.Rd8+',\n",
              " '34.Qd5',\n",
              " 'headlights,',\n",
              " '36...Rg5',\n",
              " '37.Rh8+',\n",
              " '38.Qc6+',\n",
              " '39.Qxf6',\n",
              " 'wild...',\n",
              " '39...Qxb2+',\n",
              " '40.Kf3',\n",
              " '41.Kd1',\n",
              " '41...Qe4+',\n",
              " 'werid',\n",
              " 'one\\n',\n",
              " 'Took.',\n",
              " 'Sitght',\n",
              " 'won\\n',\n",
              " 'over150',\n",
              " 'green.',\n",
              " 'until26',\n",
              " 'Ludendorff',\n",
              " 'Insipid',\n",
              " '9...a6.',\n",
              " 'cable,',\n",
              " '11...Qc6',\n",
              " 'University.',\n",
              " '5...Na5.',\n",
              " '16.e5?',\n",
              " '16...Nb3.',\n",
              " '19...Nf4',\n",
              " '20...Ne2+,',\n",
              " '20...Ne2.',\n",
              " '25.Rd2,',\n",
              " '28...Be3.',\n",
              " '28...d2',\n",
              " 'underpromote.',\n",
              " '32...d2',\n",
              " '33.e7',\n",
              " '34.PXR=Q',\n",
              " 'RXP',\n",
              " 'deck.',\n",
              " 'Precalculous.',\n",
              " '34.Kc2',\n",
              " '35.Ka3',\n",
              " '35...Rd2',\n",
              " 'Provacative.',\n",
              " 'reflex.',\n",
              " 'Qexf7',\n",
              " 'lost\\n',\n",
              " 'going\\nDid',\n",
              " 'wack',\n",
              " 'disclaimer:',\n",
              " 'non-standard',\n",
              " '(apparently).',\n",
              " 'Labelled',\n",
              " 'Apparently.',\n",
              " 'cookie',\n",
              " 'twice.\\n\\nThis',\n",
              " 'flawlessly',\n",
              " '8.\\nAre',\n",
              " 'thread?',\n",
              " 'King.\\n\\nthen',\n",
              " 'game.\\n9.',\n",
              " 'develop.\\n\\nBlack',\n",
              " 'thread\\nI',\n",
              " '8....Kxd8',\n",
              " '9.Nc3.......',\n",
              " '9.Rd1+',\n",
              " ...]"
            ]
          },
          "metadata": {
            "tags": []
          },
          "execution_count": 18
        }
      ]
    }
  ]
}