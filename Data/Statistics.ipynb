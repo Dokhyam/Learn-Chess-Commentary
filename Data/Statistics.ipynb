{
  "nbformat": 4,
  "nbformat_minor": 0,
  "metadata": {
    "colab": {
      "name": "Copy of Copy of data_numbers.ipynb",
      "provenance": [],
      "collapsed_sections": [
        "31hXAKSWbXs7",
        "xF59PwnGbZqv",
        "kl8bbiIqbbCu",
        "BEGlIx7Bbpjv",
        "IhSix7h26TPq",
        "zg2Hw4cQ6ttI",
        "p0ScYbqI7Tw4",
        "MMQHLkXUbsc5"
      ]
    },
    "kernelspec": {
      "name": "python3",
      "display_name": "Python 3"
    }
  },
  "cells": [
    {
      "cell_type": "markdown",
      "metadata": {
        "id": "31hXAKSWbXs7"
      },
      "source": [
        "# games"
      ]
    },
    {
      "cell_type": "code",
      "metadata": {
        "id": "CLd1Y9eP3GdG"
      },
      "source": [
        "annotated_url = \"https://gameknot.com/list_annotated.pl?u=all\"\n",
        "number_of_pages = 316"
      ],
      "execution_count": null,
      "outputs": []
    },
    {
      "cell_type": "code",
      "metadata": {
        "id": "ln9LNeX1NMpQ"
      },
      "source": [
        "import pickle"
      ],
      "execution_count": null,
      "outputs": []
    },
    {
      "cell_type": "code",
      "metadata": {
        "colab": {
          "base_uri": "https://localhost:8080/"
        },
        "id": "wOU8bXl82X57",
        "outputId": "4dd2349f-597b-4387-8314-d7d02b37a59a"
      },
      "source": [
        "from google.colab import drive\n",
        "drive.mount('/content/drive')"
      ],
      "execution_count": null,
      "outputs": [
        {
          "output_type": "stream",
          "text": [
            "Mounted at /content/drive\n"
          ],
          "name": "stdout"
        }
      ]
    },
    {
      "cell_type": "code",
      "metadata": {
        "id": "1Hr2gUhu3GfK"
      },
      "source": [
        "BASE_PATH = '/content/drive/MyDrive/NLP/Data/'"
      ],
      "execution_count": null,
      "outputs": []
    },
    {
      "cell_type": "code",
      "metadata": {
        "id": "eI8kLkyb2oFj"
      },
      "source": [
        "game_urls = pickle.load(open(BASE_PATH+\"saved_game_urls.p\",\"rb\"))"
      ],
      "execution_count": null,
      "outputs": []
    },
    {
      "cell_type": "code",
      "metadata": {
        "colab": {
          "base_uri": "https://localhost:8080/"
        },
        "id": "nhbMP2H12oDb",
        "outputId": "4bd4f0b5-ec91-4225-c003-070e5227fadb"
      },
      "source": [
        "len(game_urls)"
      ],
      "execution_count": null,
      "outputs": [
        {
          "output_type": "execute_result",
          "data": {
            "text/plain": [
              "12636"
            ]
          },
          "metadata": {
            "tags": []
          },
          "execution_count": 6
        }
      ]
    },
    {
      "cell_type": "code",
      "metadata": {
        "colab": {
          "base_uri": "https://localhost:8080/"
        },
        "id": "LFMtGy1JzEOe",
        "outputId": "aa843291-d165-4677-c326-a3fe2235981f"
      },
      "source": [
        "len(list(set(game_urls)))"
      ],
      "execution_count": null,
      "outputs": [
        {
          "output_type": "execute_result",
          "data": {
            "text/plain": [
              "12636"
            ]
          },
          "metadata": {
            "tags": []
          },
          "execution_count": 7
        }
      ]
    },
    {
      "cell_type": "markdown",
      "metadata": {
        "id": "xF59PwnGbZqv"
      },
      "source": [
        "# load"
      ]
    },
    {
      "cell_type": "code",
      "metadata": {
        "id": "jx9kF-e_2NHr"
      },
      "source": [
        "games_data_path = BASE_PATH + 'NEW_fix/games_data'\n",
        "NUMER_OF_DATA_DIRS = 12"
      ],
      "execution_count": null,
      "outputs": []
    },
    {
      "cell_type": "code",
      "metadata": {
        "id": "j_jP874a2bJd"
      },
      "source": [
        "paths = [f'{games_data_path}{i+1}.p' for i in range(NUMER_OF_DATA_DIRS)]"
      ],
      "execution_count": null,
      "outputs": []
    },
    {
      "cell_type": "code",
      "metadata": {
        "id": "wP6ps9WpNjwd"
      },
      "source": [
        "data = []\n",
        "for path in paths:\n",
        "    with open(path, 'rb') as file:\n",
        "        raw_data = pickle.load(file)\n",
        "    data.extend(raw_data)"
      ],
      "execution_count": null,
      "outputs": []
    },
    {
      "cell_type": "markdown",
      "metadata": {
        "id": "kl8bbiIqbbCu"
      },
      "source": [
        "# samples\n"
      ]
    },
    {
      "cell_type": "code",
      "metadata": {
        "id": "Ox-ZcYSo_r-W",
        "colab": {
          "base_uri": "https://localhost:8080/"
        },
        "outputId": "2eb66708-7a0a-4614-987d-20098e1208bf"
      },
      "source": [
        "len(data)"
      ],
      "execution_count": null,
      "outputs": [
        {
          "output_type": "execute_result",
          "data": {
            "text/plain": [
              "349015"
            ]
          },
          "metadata": {
            "tags": []
          },
          "execution_count": 11
        }
      ]
    },
    {
      "cell_type": "code",
      "metadata": {
        "id": "NsNm6eJDNQ2E",
        "colab": {
          "base_uri": "https://localhost:8080/"
        },
        "outputId": "e4d75f61-125f-4d70-f514-3d9678db592a"
      },
      "source": [
        "len(list(set(data)))"
      ],
      "execution_count": null,
      "outputs": [
        {
          "output_type": "execute_result",
          "data": {
            "text/plain": [
              "348868"
            ]
          },
          "metadata": {
            "tags": []
          },
          "execution_count": 13
        }
      ]
    },
    {
      "cell_type": "code",
      "metadata": {
        "id": "QSzEbBAitSNj"
      },
      "source": [
        "data = list(set(data))"
      ],
      "execution_count": null,
      "outputs": []
    },
    {
      "cell_type": "code",
      "metadata": {
        "id": "ligaVnpI1Pp4"
      },
      "source": [
        "total = len(list(set(data)))"
      ],
      "execution_count": null,
      "outputs": []
    },
    {
      "cell_type": "code",
      "metadata": {
        "id": "8xDNr11e3ZMK"
      },
      "source": [
        "moves_count, legal_moves_count, attackers_count, attacks_count, len_comment = [], [], [], [], []\n",
        "\n",
        "for data_object in data:\n",
        "  (FEN, moves, last_move_desc, legal_moves, attackers_list, attacks_list, comment) = data_object\n",
        "\n",
        "  moves_ = moves.count(',') + 1 if moves != '' else 0\n",
        "  moves_count.append(moves_)\n",
        "\n",
        "  legal_moves_ = legal_moves.count(',') + 1 if legal_moves != '' else 0\n",
        "  legal_moves_count.append(legal_moves_) \n",
        "\n",
        "  attackers = attackers_list.count(',') + 1 if attackers_list != '' else 0\n",
        "  attackers_count.append(attackers) \n",
        "\n",
        "  attacks = attacks_list.count(',') + 1 if attacks_list != '' else 0\n",
        "  attacks_count.append(attacks) \n",
        "  \n",
        "  len_comment.append(len(comment.split(' ')))"
      ],
      "execution_count": null,
      "outputs": []
    },
    {
      "cell_type": "markdown",
      "metadata": {
        "id": "BEGlIx7Bbpjv"
      },
      "source": [
        "# moves"
      ]
    },
    {
      "cell_type": "code",
      "metadata": {
        "id": "Q5gzsmodAPbq"
      },
      "source": [
        "import collections\n",
        "import matplotlib.pyplot as plt"
      ],
      "execution_count": null,
      "outputs": []
    },
    {
      "cell_type": "code",
      "metadata": {
        "id": "mXFGEttDAl4K"
      },
      "source": [
        "ctr_moves = collections.Counter(moves_count)"
      ],
      "execution_count": null,
      "outputs": []
    },
    {
      "cell_type": "code",
      "metadata": {
        "id": "MZj6GgFkcd3B",
        "colab": {
          "base_uri": "https://localhost:8080/"
        },
        "outputId": "b4ded997-877f-40c9-bad4-6adb352bb2d2"
      },
      "source": [
        "ctr_moves"
      ],
      "execution_count": null,
      "outputs": [
        {
          "output_type": "execute_result",
          "data": {
            "text/plain": [
              "Counter({0: 4661,\n",
              "         1: 200374,\n",
              "         2: 59950,\n",
              "         3: 27586,\n",
              "         4: 19427,\n",
              "         5: 10112,\n",
              "         6: 7594,\n",
              "         7: 4352,\n",
              "         8: 3516,\n",
              "         9: 2203,\n",
              "         10: 1865,\n",
              "         11: 1199,\n",
              "         12: 1032,\n",
              "         13: 749,\n",
              "         14: 665,\n",
              "         15: 499,\n",
              "         16: 463,\n",
              "         17: 319,\n",
              "         18: 290,\n",
              "         19: 244,\n",
              "         20: 212,\n",
              "         21: 172,\n",
              "         22: 157,\n",
              "         23: 117,\n",
              "         24: 93,\n",
              "         25: 98,\n",
              "         26: 80,\n",
              "         27: 73,\n",
              "         28: 72,\n",
              "         29: 55,\n",
              "         30: 55,\n",
              "         31: 45,\n",
              "         32: 43,\n",
              "         33: 45,\n",
              "         34: 29,\n",
              "         35: 19,\n",
              "         36: 29,\n",
              "         37: 21,\n",
              "         38: 21,\n",
              "         39: 20,\n",
              "         40: 22,\n",
              "         41: 19,\n",
              "         42: 7,\n",
              "         43: 17,\n",
              "         44: 16,\n",
              "         45: 10,\n",
              "         46: 15,\n",
              "         47: 14,\n",
              "         48: 5,\n",
              "         49: 11,\n",
              "         50: 8,\n",
              "         51: 9,\n",
              "         52: 5,\n",
              "         53: 7,\n",
              "         54: 12,\n",
              "         55: 12,\n",
              "         56: 13,\n",
              "         57: 7,\n",
              "         58: 8,\n",
              "         59: 4,\n",
              "         60: 1,\n",
              "         61: 6,\n",
              "         62: 3,\n",
              "         63: 1,\n",
              "         64: 10,\n",
              "         65: 3,\n",
              "         66: 4,\n",
              "         67: 5,\n",
              "         68: 4,\n",
              "         69: 3,\n",
              "         73: 2,\n",
              "         74: 2,\n",
              "         75: 2,\n",
              "         76: 3,\n",
              "         77: 2,\n",
              "         78: 4,\n",
              "         79: 4,\n",
              "         80: 5,\n",
              "         82: 3,\n",
              "         84: 1,\n",
              "         87: 2,\n",
              "         92: 1,\n",
              "         93: 1,\n",
              "         94: 3,\n",
              "         97: 2,\n",
              "         100: 1,\n",
              "         104: 1,\n",
              "         108: 1,\n",
              "         109: 1,\n",
              "         110: 1,\n",
              "         117: 1,\n",
              "         118: 2,\n",
              "         122: 1,\n",
              "         124: 1,\n",
              "         127: 1,\n",
              "         129: 2,\n",
              "         160: 1})"
            ]
          },
          "metadata": {
            "tags": []
          },
          "execution_count": 20
        }
      ]
    },
    {
      "cell_type": "code",
      "metadata": {
        "colab": {
          "base_uri": "https://localhost:8080/",
          "height": 333
        },
        "id": "kZjI4nDYcF5V",
        "outputId": "a5ae0bc7-1239-44f8-c400-9f6de1902653"
      },
      "source": [
        "plt.hist([l for l in moves_count if l<6])"
      ],
      "execution_count": null,
      "outputs": [
        {
          "output_type": "execute_result",
          "data": {
            "text/plain": [
              "(array([  4661.,      0., 200374.,      0.,  59950.,      0.,  27586.,\n",
              "             0.,  19427.,  10112.]),\n",
              " array([0. , 0.5, 1. , 1.5, 2. , 2.5, 3. , 3.5, 4. , 4.5, 5. ]),\n",
              " <a list of 10 Patch objects>)"
            ]
          },
          "metadata": {
            "tags": []
          },
          "execution_count": 21
        },
        {
          "output_type": "display_data",
          "data": {
            "image/png": "[encoded data removed]",
            "text/plain": [
              "<Figure size 432x288 with 1 Axes>"
            ]
          },
          "metadata": {
            "tags": [],
            "needs_background": "light"
          }
        }
      ]
    },
    {
      "cell_type": "markdown",
      "metadata": {
        "id": "IhSix7h26TPq"
      },
      "source": [
        "# legal moves\n"
      ]
    },
    {
      "cell_type": "code",
      "metadata": {
        "id": "R5cATVHm6VNK"
      },
      "source": [
        "ctr_legal_moves = collections.Counter(legal_moves_count)"
      ],
      "execution_count": null,
      "outputs": []
    },
    {
      "cell_type": "code",
      "metadata": {
        "colab": {
          "base_uri": "https://localhost:8080/"
        },
        "id": "rBidu8ma6cpe",
        "outputId": "c3722bcc-e16b-4470-861a-222c4c483858"
      },
      "source": [
        "ctr_legal_moves "
      ],
      "execution_count": null,
      "outputs": [
        {
          "output_type": "execute_result",
          "data": {
            "text/plain": [
              "Counter({0: 4071,\n",
              "         1: 3988,\n",
              "         2: 5495,\n",
              "         3: 5458,\n",
              "         4: 4756,\n",
              "         5: 3567,\n",
              "         6: 2527,\n",
              "         7: 1681,\n",
              "         8: 1234,\n",
              "         9: 962,\n",
              "         10: 934,\n",
              "         11: 1067,\n",
              "         12: 1216,\n",
              "         13: 1485,\n",
              "         14: 1606,\n",
              "         15: 1876,\n",
              "         16: 2253,\n",
              "         17: 2451,\n",
              "         18: 2632,\n",
              "         19: 2989,\n",
              "         20: 9119,\n",
              "         21: 4193,\n",
              "         22: 5230,\n",
              "         23: 4914,\n",
              "         24: 5120,\n",
              "         25: 6448,\n",
              "         26: 7509,\n",
              "         27: 10167,\n",
              "         28: 11208,\n",
              "         29: 13089,\n",
              "         30: 15548,\n",
              "         31: 13708,\n",
              "         32: 14466,\n",
              "         33: 15042,\n",
              "         34: 14564,\n",
              "         35: 14347,\n",
              "         36: 14110,\n",
              "         37: 13833,\n",
              "         38: 13569,\n",
              "         39: 12607,\n",
              "         40: 11233,\n",
              "         41: 10249,\n",
              "         42: 9484,\n",
              "         43: 8472,\n",
              "         44: 7236,\n",
              "         45: 6167,\n",
              "         46: 5228,\n",
              "         47: 4436,\n",
              "         48: 3436,\n",
              "         49: 2863,\n",
              "         50: 2262,\n",
              "         51: 1783,\n",
              "         52: 1332,\n",
              "         53: 996,\n",
              "         54: 793,\n",
              "         55: 515,\n",
              "         56: 402,\n",
              "         57: 286,\n",
              "         58: 211,\n",
              "         59: 153,\n",
              "         60: 97,\n",
              "         61: 63,\n",
              "         62: 41,\n",
              "         63: 32,\n",
              "         64: 16,\n",
              "         65: 16,\n",
              "         66: 8,\n",
              "         67: 4,\n",
              "         68: 6,\n",
              "         69: 2,\n",
              "         71: 2,\n",
              "         72: 1,\n",
              "         76: 1,\n",
              "         77: 1,\n",
              "         85: 2})"
            ]
          },
          "metadata": {
            "tags": []
          },
          "execution_count": 23
        }
      ]
    },
    {
      "cell_type": "code",
      "metadata": {
        "colab": {
          "base_uri": "https://localhost:8080/",
          "height": 333
        },
        "id": "UMM4lai_6g_m",
        "outputId": "f1647937-65f6-4b0d-9ab8-fbf5379a3319"
      },
      "source": [
        "plt.hist(legal_moves_count)"
      ],
      "execution_count": null,
      "outputs": [
        {
          "output_type": "execute_result",
          "data": {
            "text/plain": [
              "(array([3.27770e+04, 1.13990e+04, 4.30960e+04, 1.00737e+05, 1.13996e+05,\n",
              "        4.01000e+04, 6.47100e+03, 2.77000e+02, 1.20000e+01, 3.00000e+00]),\n",
              " array([ 0. ,  8.5, 17. , 25.5, 34. , 42.5, 51. , 59.5, 68. , 76.5, 85. ]),\n",
              " <a list of 10 Patch objects>)"
            ]
          },
          "metadata": {
            "tags": []
          },
          "execution_count": 24
        },
        {
          "output_type": "display_data",
          "data": {
            "image/png": "[encoded data removed]",
            "text/plain": [
              "<Figure size 432x288 with 1 Axes>"
            ]
          },
          "metadata": {
            "tags": [],
            "needs_background": "light"
          }
        }
      ]
    },
    {
      "cell_type": "markdown",
      "metadata": {
        "id": "zg2Hw4cQ6ttI"
      },
      "source": [
        "# attakers"
      ]
    },
    {
      "cell_type": "code",
      "metadata": {
        "id": "VuiCbVb56vQo"
      },
      "source": [
        "ctr_attackers = collections.Counter(attackers_count) # attacks_count"
      ],
      "execution_count": null,
      "outputs": []
    },
    {
      "cell_type": "code",
      "metadata": {
        "colab": {
          "base_uri": "https://localhost:8080/"
        },
        "id": "QOPLJ4bi6x1d",
        "outputId": "4f78a056-897c-4677-920f-85c3dbb6abbb"
      },
      "source": [
        "ctr_attackers"
      ],
      "execution_count": null,
      "outputs": [
        {
          "output_type": "execute_result",
          "data": {
            "text/plain": [
              "Counter({0: 119395, 1: 127336, 2: 78612, 3: 20676, 4: 2804, 5: 42, 6: 3})"
            ]
          },
          "metadata": {
            "tags": []
          },
          "execution_count": 26
        }
      ]
    },
    {
      "cell_type": "code",
      "metadata": {
        "colab": {
          "base_uri": "https://localhost:8080/",
          "height": 333
        },
        "id": "fmhL4B8d7OHP",
        "outputId": "85c917bc-0fe8-4a85-c2fd-e376919369de"
      },
      "source": [
        "plt.hist(attackers_count)"
      ],
      "execution_count": null,
      "outputs": [
        {
          "output_type": "execute_result",
          "data": {
            "text/plain": [
              "(array([1.19395e+05, 1.27336e+05, 0.00000e+00, 7.86120e+04, 0.00000e+00,\n",
              "        2.06760e+04, 2.80400e+03, 0.00000e+00, 4.20000e+01, 3.00000e+00]),\n",
              " array([0. , 0.6, 1.2, 1.8, 2.4, 3. , 3.6, 4.2, 4.8, 5.4, 6. ]),\n",
              " <a list of 10 Patch objects>)"
            ]
          },
          "metadata": {
            "tags": []
          },
          "execution_count": 27
        },
        {
          "output_type": "display_data",
          "data": {
            "image/png": "[encoded data removed]",
            "text/plain": [
              "<Figure size 432x288 with 1 Axes>"
            ]
          },
          "metadata": {
            "tags": [],
            "needs_background": "light"
          }
        }
      ]
    },
    {
      "cell_type": "markdown",
      "metadata": {
        "id": "p0ScYbqI7Tw4"
      },
      "source": [
        "# attacks\n"
      ]
    },
    {
      "cell_type": "code",
      "metadata": {
        "id": "tGmI81eT7WFe"
      },
      "source": [
        "ctr_attacks = collections.Counter(attacks_count) "
      ],
      "execution_count": null,
      "outputs": []
    },
    {
      "cell_type": "code",
      "metadata": {
        "colab": {
          "base_uri": "https://localhost:8080/"
        },
        "id": "ogLzpH_07Yl4",
        "outputId": "86b59b14-de75-4b10-8b84-bdd412a5c0ed"
      },
      "source": [
        "ctr_attacks"
      ],
      "execution_count": null,
      "outputs": [
        {
          "output_type": "execute_result",
          "data": {
            "text/plain": [
              "Counter({0: 60211,\n",
              "         1: 89323,\n",
              "         2: 84373,\n",
              "         3: 56875,\n",
              "         4: 31232,\n",
              "         5: 15830,\n",
              "         6: 8657,\n",
              "         7: 2163,\n",
              "         8: 204})"
            ]
          },
          "metadata": {
            "tags": []
          },
          "execution_count": 29
        }
      ]
    },
    {
      "cell_type": "code",
      "metadata": {
        "colab": {
          "base_uri": "https://localhost:8080/",
          "height": 333
        },
        "id": "TxLIrX1K7Zd0",
        "outputId": "bf41ed4b-21e3-4ed3-f8aa-b603f9fc1b48"
      },
      "source": [
        "plt.hist(attacks_count)"
      ],
      "execution_count": null,
      "outputs": [
        {
          "output_type": "execute_result",
          "data": {
            "text/plain": [
              "(array([60211., 89323., 84373., 56875.,     0., 31232., 15830.,  8657.,\n",
              "         2163.,   204.]),\n",
              " array([0. , 0.8, 1.6, 2.4, 3.2, 4. , 4.8, 5.6, 6.4, 7.2, 8. ]),\n",
              " <a list of 10 Patch objects>)"
            ]
          },
          "metadata": {
            "tags": []
          },
          "execution_count": 30
        },
        {
          "output_type": "display_data",
          "data": {
            "image/png": "[encoded data removed]",
            "text/plain": [
              "<Figure size 432x288 with 1 Axes>"
            ]
          },
          "metadata": {
            "tags": [],
            "needs_background": "light"
          }
        }
      ]
    },
    {
      "cell_type": "markdown",
      "metadata": {
        "id": "MMQHLkXUbsc5"
      },
      "source": [
        "# comment"
      ]
    },
    {
      "cell_type": "code",
      "metadata": {
        "colab": {
          "base_uri": "https://localhost:8080/"
        },
        "id": "7IlZ9zq0C4p9",
        "outputId": "2e76e6bf-3195-4d22-c28d-b2b9f12a6a20"
      },
      "source": [
        "sum(len_comment)/total"
      ],
      "execution_count": null,
      "outputs": [
        {
          "output_type": "execute_result",
          "data": {
            "text/plain": [
              "20.706226997030395"
            ]
          },
          "metadata": {
            "tags": []
          },
          "execution_count": 31
        }
      ]
    },
    {
      "cell_type": "code",
      "metadata": {
        "id": "p07s4iFaCHTi"
      },
      "source": [
        "ctr_comment = collections.Counter(len_comment)"
      ],
      "execution_count": null,
      "outputs": []
    },
    {
      "cell_type": "code",
      "metadata": {
        "id": "X9IXk2UhCUcq"
      },
      "source": [
        "ctr_comment"
      ],
      "execution_count": null,
      "outputs": []
    },
    {
      "cell_type": "code",
      "metadata": {
        "colab": {
          "base_uri": "https://localhost:8080/",
          "height": 350
        },
        "id": "zUZ4RhueCdip",
        "outputId": "6edcc4c9-07e4-49c4-e71e-027d809c9a1c"
      },
      "source": [
        "plt.hist([l for l in len_comment if l<150])"
      ],
      "execution_count": null,
      "outputs": [
        {
          "output_type": "execute_result",
          "data": {
            "text/plain": [
              "(array([200505.,  79946.,  32837.,  15168.,   7476.,   4475.,   2732.,\n",
              "          1717.,   1098.,    777.]),\n",
              " array([  1. ,  15.8,  30.6,  45.4,  60.2,  75. ,  89.8, 104.6, 119.4,\n",
              "        134.2, 149. ]),\n",
              " <a list of 10 Patch objects>)"
            ]
          },
          "metadata": {
            "tags": []
          },
          "execution_count": 34
        },
        {
          "output_type": "display_data",
          "data": {
            "image/png": "[encoded data removed]",
            "text/plain": [
              "<Figure size 432x288 with 1 Axes>"
            ]
          },
          "metadata": {
            "tags": [],
            "needs_background": "light"
          }
        }
      ]
    },
    {
      "cell_type": "markdown",
      "metadata": {
        "id": "vgnp6R50bwPo"
      },
      "source": [
        "# words"
      ]
    },
    {
      "cell_type": "code",
      "metadata": {
        "id": "d_o-4PpXCdbM"
      },
      "source": [
        "word_frequencies = collections.defaultdict(int)"
      ],
      "execution_count": null,
      "outputs": []
    },
    {
      "cell_type": "code",
      "metadata": {
        "id": "x6nDGtY_HVlh"
      },
      "source": [
        "for data_object in data:\n",
        "  (FEN, moves, last_move_desc, legal_moves, attackers_list, attacks_list, comment) = data_object\n",
        "  words = comment.split(' ')\n",
        "  for word in words:\n",
        "    word_frequencies[word]+=1"
      ],
      "execution_count": null,
      "outputs": []
    },
    {
      "cell_type": "code",
      "metadata": {
        "colab": {
          "base_uri": "https://localhost:8080/"
        },
        "id": "_BYnDRRJIcfR",
        "outputId": "c34ecb6f-41e7-42f4-c531-de4d20fb44bb"
      },
      "source": [
        "len(word_frequencies.keys())"
      ],
      "execution_count": null,
      "outputs": [
        {
          "output_type": "execute_result",
          "data": {
            "text/plain": [
              "236981"
            ]
          },
          "metadata": {
            "tags": []
          },
          "execution_count": 37
        }
      ]
    },
    {
      "cell_type": "code",
      "metadata": {
        "id": "on7ot-6qIokx"
      },
      "source": [
        "freqThreshold = 3 \n",
        "rareWords = []"
      ],
      "execution_count": null,
      "outputs": []
    },
    {
      "cell_type": "code",
      "metadata": {
        "id": "1U0XfwsGIfcP"
      },
      "source": [
        "for word,freq in word_frequencies.items():\n",
        "    if freq>freqThreshold:\n",
        "      pass\n",
        "    else:\n",
        "      rareWords.append(word)"
      ],
      "execution_count": null,
      "outputs": []
    },
    {
      "cell_type": "code",
      "metadata": {
        "colab": {
          "base_uri": "https://localhost:8080/"
        },
        "id": "ntfTLZWQKAeo",
        "outputId": "2cbf7e13-d45d-4b7f-dda9-4f10ae1da260"
      },
      "source": [
        "len(rareWords)"
      ],
      "execution_count": null,
      "outputs": [
        {
          "output_type": "execute_result",
          "data": {
            "text/plain": [
              "196452"
            ]
          },
          "metadata": {
            "tags": []
          },
          "execution_count": 40
        }
      ]
    },
    {
      "cell_type": "code",
      "metadata": {
        "colab": {
          "base_uri": "https://localhost:8080/"
        },
        "id": "Yx_MmbPJIykw",
        "outputId": "04f98087-efbb-4959-f8ea-b3206b283c11"
      },
      "source": [
        "rareWords"
      ],
      "execution_count": null,
      "outputs": [
        {
          "output_type": "execute_result",
          "data": {
            "text/plain": [
              "['sustainable',\n",
              " 'awaiting!',\n",
              " 'awe!',\n",
              " 'fiercely!',\n",
              " 'segnata,',\n",
              " 'dopo:',\n",
              " 'vincente.\\nuna',\n",
              " 'spiegare.',\n",
              " \"l'indiano\",\n",
              " 'madornale,',\n",
              " 'successe',\n",
              " 'hubner',\n",
              " 'eliminatorie',\n",
              " 'abano',\n",
              " 'terme',\n",
              " '1979.\\n',\n",
              " 'tardaría',\n",
              " 'hallar',\n",
              " 'fue,',\n",
              " 'hora.',\n",
              " '10....bg4',\n",
              " 'stage...wrong',\n",
              " 'allow...',\n",
              " 'meeting.',\n",
              " 'rook.....watch',\n",
              " 'so...i',\n",
              " 'enrocan',\n",
              " 'prefieren',\n",
              " 'cerrado',\n",
              " 'resguardado.',\n",
              " 'impressing:',\n",
              " 'rook.\\n\\nwhite',\n",
              " 'point.\\n\\nin',\n",
              " '*willing*',\n",
              " 'andydufresne',\n",
              " 'intial',\n",
              " 'win.\\n\\ncomments',\n",
              " 'aggressive!),',\n",
              " 'flexibilty.',\n",
              " 'bx3e.',\n",
              " '(qh7,',\n",
              " 'worrying),',\n",
              " 'bxb4+,',\n",
              " 'rf2!,',\n",
              " 'rf2...',\n",
              " 'admit:',\n",
              " 'each...',\n",
              " 'nxd5)...',\n",
              " 'freddo,',\n",
              " '\"29...h6',\n",
              " '(want',\n",
              " '...re7',\n",
              " 'trapped.\"',\n",
              " '...\\r\\nat',\n",
              " 'near.\"',\n",
              " 'affectively',\n",
              " 'halosar',\n",
              " 'ever-check,',\n",
              " 'fortuanately',\n",
              " '6.d4.',\n",
              " 'dudando',\n",
              " 'esa.',\n",
              " 'insegura',\n",
              " '12...kxe5,',\n",
              " '12...kc5',\n",
              " '10-12',\n",
              " '...hg5',\n",
              " 'sacrifice--16...nc6',\n",
              " 'can.\\n24.',\n",
              " 'deimler',\n",
              " '...qxe5',\n",
              " 'rxh6!',\n",
              " 'helpt',\n",
              " 'meer.]',\n",
              " 'surprising...',\n",
              " 'braver',\n",
              " 'braver.',\n",
              " 'conducira',\n",
              " 'complicaciones,',\n",
              " 'da3',\n",
              " 'preplaned',\n",
              " \"'10th'.\",\n",
              " 'kh6/kh8',\n",
              " 'quicker...',\n",
              " 'grossa!',\n",
              " 'espongo',\n",
              " 'successivo',\n",
              " 'isolando',\n",
              " 'regina!!!\\n\\n({11:-0.52}',\n",
              " '=+)\\n({11:+11.08}',\n",
              " 'nf1-e3,',\n",
              " 'etc.black',\n",
              " 'amplio',\n",
              " 'flancos',\n",
              " 'initiative.\\nalternative',\n",
              " 'clear.]',\n",
              " 'deadmated',\n",
              " ',though',\n",
              " 'counterside...',\n",
              " 'r(a)b8',\n",
              " '6.kf1',\n",
              " '7.nxf8,',\n",
              " 'offen',\n",
              " 'manouver.\\nunfortunately',\n",
              " 'sidetracked',\n",
              " 'game.\\nperhaphs',\n",
              " 'game,me',\n",
              " 'ruebenfine(his',\n",
              " 'handle)',\n",
              " 'see.even',\n",
              " '15.\\t...',\n",
              " '\\tnxe4\\n16.\\tbxe4',\n",
              " '\\trxe4\\n17.\\tqxd7',\n",
              " '\\tqxd7\\n18.\\trxd7',\n",
              " '\\tbxb2\\n19.\\trxb7',\n",
              " '\\tbf6\\n20.\\trc1',\n",
              " '\\t\\n\\nand',\n",
              " 'spostasse',\n",
              " 'honest...',\n",
              " '[missing',\n",
              " 'f6]',\n",
              " 'qxe6...',\n",
              " 'chances...\\n',\n",
              " 'assurance',\n",
              " 'sacrificado',\n",
              " 'emplazamiento',\n",
              " 'atacando.',\n",
              " 'constes',\n",
              " 'moves....and',\n",
              " 'tatic',\n",
              " 'resistere',\n",
              " 'scacco,',\n",
              " 'delusione',\n",
              " 'troppa...',\n",
              " '\\n\\ndefending',\n",
              " '25...nh4+',\n",
              " 'helpless;',\n",
              " 'nde3',\n",
              " 'nh3#',\n",
              " 'nh3#)',\n",
              " 'gxf1q+',\n",
              " 'ngxf3+',\n",
              " 'saw.\\n\\nother',\n",
              " 'ndb2',\n",
              " 'nh3#.\\n\\nperhaps',\n",
              " 'nf2!?',\n",
              " '25...gxf2+',\n",
              " '25...ng5!',\n",
              " '25...nh4!',\n",
              " 'critical)',\n",
              " 'nhxf3+',\n",
              " 'winnign',\n",
              " 'coolest',\n",
              " '31...rc8.',\n",
              " 'unthreatened',\n",
              " 'shell...',\n",
              " 'nf6#.',\n",
              " '12...bxc6',\n",
              " 'delayed)',\n",
              " 'bc6)',\n",
              " 'slighly,',\n",
              " 'ra1-e1',\n",
              " 'hindi',\n",
              " 'susunod',\n",
              " 'paglipat.',\n",
              " '19.ne2,',\n",
              " '19...ne6;',\n",
              " '20.qc3,',\n",
              " '20...rad8)',\n",
              " 'over.\\r\\n',\n",
              " '22..........',\n",
              " 'qxb2!?',\n",
              " \"achilles'\",\n",
              " 'heel.',\n",
              " 'nxph4+.',\n",
              " 'nxpf4',\n",
              " 'bxpg7,',\n",
              " 'controversial.',\n",
              " 'proponiendo',\n",
              " 'damas\\n',\n",
              " 'valeriuzaharia',\n",
              " 'was...\\n25.',\n",
              " 'bh4(taking',\n",
              " '7...kd8).',\n",
              " 'low-ranked',\n",
              " 'well,and',\n",
              " '35...rf7,',\n",
              " 'returns!',\n",
              " '...rf8,',\n",
              " '...qf1#',\n",
              " '28...rf8',\n",
              " '...h4,',\n",
              " 'h6-h4,',\n",
              " 'peer',\n",
              " '39...b6.',\n",
              " 'http://gameknot.com/club-fm.pl?club=981&th=16595&pg=4',\n",
              " 'frankenstein-dracula',\n",
              " 'eliminato',\n",
              " 'swerves',\n",
              " '!!!\\nwe',\n",
              " 'cows',\n",
              " 'gambit.\\ndont',\n",
              " '0.22/20',\n",
              " \"wouldnt'\",\n",
              " 'obiged',\n",
              " 're-pinning',\n",
              " 'complications:',\n",
              " 'survive.\\n',\n",
              " '------bundler',\n",
              " 'alert----------\\nnice',\n",
              " 'pawn.....',\n",
              " 'analisys',\n",
              " 'earl',\n",
              " 'cxd3+',\n",
              " 'kg7\\n\\npreferring',\n",
              " 'rad7',\n",
              " 'kg7\\n\\nmy',\n",
              " '50...rh3+',\n",
              " 'everyone!\\n\\nhad',\n",
              " 'sparring',\n",
              " '(optimum',\n",
              " '1407).',\n",
              " 'copious',\n",
              " 'stealthy',\n",
              " 'http://gameknot.com/analyze-board.pl?bd=18564122&fb=1&rnd=0.7170936876536426\\n\\n',\n",
              " 'enjoy!\\r\\ni',\n",
              " 'cherrypie',\n",
              " 'variety.',\n",
              " 'rookie!',\n",
              " 'castles.\\n',\n",
              " 'brigade',\n",
              " 'commander.',\n",
              " 'nathanael',\n",
              " 'fritz\\na',\n",
              " 'relax]',\n",
              " '23...bf6',\n",
              " 'ne5-c4-dd6',\n",
              " \"colvin's\",\n",
              " 'dgrandman,',\n",
              " 'immeadiate',\n",
              " '14.qxe5',\n",
              " '14…nd3+!',\n",
              " '15.exd3',\n",
              " 'counterpunch.\\nthe',\n",
              " 'min....after',\n",
              " 'knight.\\nblack',\n",
              " 'kabosh',\n",
              " '29.rxc1',\n",
              " '31.rg3',\n",
              " '29.rf3',\n",
              " '30.kxf2',\n",
              " '31.kxf1',\n",
              " '34.rf2',\n",
              " 'withdraw,',\n",
              " 'holdings',\n",
              " 'engagement',\n",
              " 'knight...desolation...after',\n",
              " 'dime',\n",
              " 'driver',\n",
              " 'but............',\n",
              " 'difficile.',\n",
              " 'iminente...',\n",
              " '------',\n",
              " '...bh4.',\n",
              " '...bh4??',\n",
              " '(unstoppably)',\n",
              " 'ray.',\n",
              " 'fron',\n",
              " 'qxe4+??',\n",
              " 'rxb4.\\n',\n",
              " 'overtures.',\n",
              " 'reexamined',\n",
              " '...p-b4.',\n",
              " 'p-qr3',\n",
              " 'n-k1',\n",
              " 'p-qn4',\n",
              " 'b-r6',\n",
              " 'q-q2,',\n",
              " '\"things',\n",
              " 'do\"',\n",
              " 'dong,',\n",
              " '26.ng5!-hxg5.27.bxh5',\n",
              " 'jam,',\n",
              " 'kn8.',\n",
              " 'prévenir',\n",
              " \"l'avancement\",\n",
              " 'comentarlos,',\n",
              " 'ta7,',\n",
              " 'obligando',\n",
              " 'ac8,',\n",
              " 'camina',\n",
              " 'cb4,',\n",
              " 'tc7',\n",
              " 'intruso.',\n",
              " '14...rxa7,',\n",
              " '15.bxa7',\n",
              " 'us......',\n",
              " 'h2/b8',\n",
              " 'tto',\n",
              " 'relocate.',\n",
              " 'obligingly.',\n",
              " '15...bc5+!\\n***************************************************************************',\n",
              " 'entitles',\n",
              " 'eyeball',\n",
              " 'unclog',\n",
              " '\"losing',\n",
              " 'still......\"',\n",
              " 'qg7#.\\nalthough',\n",
              " '26.../rb5,',\n",
              " '26.../rb8',\n",
              " '27.bh6',\n",
              " '26.../rf5',\n",
              " '27.qe6',\n",
              " '33....nc5??',\n",
              " '33....ke5',\n",
              " 'not...the',\n",
              " 'thought..',\n",
              " 'avviker',\n",
              " 'defense:advance',\n",
              " '(resulting',\n",
              " 'material.\"',\n",
              " 'tactician.',\n",
              " 'rh8++',\n",
              " 'na5\\twas',\n",
              " 'seitler,',\n",
              " 'andrej',\n",
              " 'stefan,',\n",
              " 'oldrich',\n",
              " '(2067)\\nbd7',\n",
              " 'colomer',\n",
              " 'guart,',\n",
              " '(2205)',\n",
              " 'brunet',\n",
              " 'martinez…',\n",
              " '(2235)\\nb6',\n",
              " 'asfora,',\n",
              " 'a…',\n",
              " 'toth,',\n",
              " 'christian…',\n",
              " '(2344).',\n",
              " 'reaches.',\n",
              " '(kc2-c3',\n",
              " 'nd7-c5)',\n",
              " 'sundial',\n",
              " '(...qc1',\n",
              " 'nxf4??',\n",
              " 'two!!',\n",
              " 'illustrated),',\n",
              " '[additional',\n",
              " 'above]',\n",
              " '....nbd7',\n",
              " '....nc6.',\n",
              " 'e5\\nblack',\n",
              " \"offer's\",\n",
              " 'threatof',\n",
              " 'honey.\"',\n",
              " 'resigned.\\r\\nnow',\n",
              " 'game!\\r\\n',\n",
              " '8...nb4,',\n",
              " '9...qxc2',\n",
              " '..a6,',\n",
              " '35..rxc3',\n",
              " 'motståndare,',\n",
              " 'missen',\n",
              " 'upprepas.',\n",
              " '+2,20.',\n",
              " 'bg7!?',\n",
              " '4.dxc5,',\n",
              " '4...qa5+',\n",
              " '6.nd5!',\n",
              " '6...bxb2',\n",
              " '7.bb4',\n",
              " '15...bd5(!)\\n\\ni',\n",
              " 'nd2-b3-c5,',\n",
              " 'repara',\n",
              " 'vulnerável',\n",
              " 'ne4.)\\r\\n',\n",
              " 'full-on',\n",
              " 'archer',\n",
              " '2/2',\n",
              " 'refuel',\n",
              " 'qxg2??',\n",
              " '\"22...qxg2',\n",
              " 'bad.....',\n",
              " 'opponent..',\n",
              " '22...qf6',\n",
              " 'game...\\r\\n',\n",
              " 'g5...here',\n",
              " 'foot-soldiers',\n",
              " 'measure!',\n",
              " 'ryan,',\n",
              " '...nh5,',\n",
              " 'itking',\n",
              " 'dons',\n",
              " 'backwards.\\n',\n",
              " '-8,51',\n",
              " 'cxd4!?',\n",
              " 'mistake.\\n\\nif',\n",
              " 'roland75',\n",
              " '-1.93/18',\n",
              " 'dunno!',\n",
              " 'exposign',\n",
              " 't2',\n",
              " 'understimation',\n",
              " 'fide.',\n",
              " 'classically.',\n",
              " 'p7',\n",
              " 'knight...let',\n",
              " 'usata',\n",
              " 'viciousness',\n",
              " 'de-clawed,',\n",
              " 'wench!',\n",
              " '7......i',\n",
              " 'opponents......so',\n",
              " 'chek',\n",
              " 'bxa7-g6',\n",
              " 'slowened',\n",
              " 'presupposes',\n",
              " \"'ave\",\n",
              " \"'me\",\n",
              " \"'enry\",\n",
              " 'damsel',\n",
              " 'distress,',\n",
              " 'biedt',\n",
              " 'loperruil',\n",
              " '30.bxa6,',\n",
              " 'creatively',\n",
              " '\\n\\nstockfish:',\n",
              " '\"nest\",',\n",
              " '33...fxg4\\r\\n34.',\n",
              " 'fxg4\\r\\nwould',\n",
              " 'column)',\n",
              " 'openend',\n",
              " '54..rxh6',\n",
              " '55.rxh6',\n",
              " '56.f6',\n",
              " '57.f7',\n",
              " '57....bf8',\n",
              " '58.bf5+',\n",
              " '59.kd5',\n",
              " 'bc8!',\n",
              " 'simmiler',\n",
              " '57...bg7',\n",
              " 'bf5+\\r\\n\\r\\n\\r\\ni',\n",
              " 'motivated.',\n",
              " 'brewing.',\n",
              " 'nxg4...',\n",
              " 'chessfriends!',\n",
              " '1650',\n",
              " 'prediction!',\n",
              " 'connais',\n",
              " 'pas,',\n",
              " \"j'arrive\",\n",
              " 'petit...',\n",
              " ':d\\n',\n",
              " '17...bxc6,',\n",
              " 'pawns\":',\n",
              " '.......and',\n",
              " 'pries',\n",
              " 'mentally,',\n",
              " 'sikte',\n",
              " 'konsolidera',\n",
              " 'bondekedjan',\n",
              " 'glömde',\n",
              " 'resonemanget.',\n",
              " 'piece-developing',\n",
              " 'chain!(bad)',\n",
              " ':|).',\n",
              " 'retour',\n",
              " \"l'empêcher.\",\n",
              " 'vulnérable,',\n",
              " 'dreadful,',\n",
              " 'goldenknights',\n",
              " 'calculative',\n",
              " '50-60%',\n",
              " '75-85%',\n",
              " 'comple.',\n",
              " '[minefield',\n",
              " '#6]',\n",
              " 'thus:--',\n",
              " '23.nf7+',\n",
              " '24.bxf7',\n",
              " 'steel!',\n",
              " 'rb7...',\n",
              " 'dungeon',\n",
              " '\"rosselsprung\"',\n",
              " 'codename',\n",
              " 'naval',\n",
              " 'battleship',\n",
              " '\"tirpitz\"',\n",
              " 'sortied',\n",
              " 'allied',\n",
              " 'arctic',\n",
              " 'convoy.',\n",
              " 'germans.',\n",
              " 'ng2.',\n",
              " 'barricades..…ko',\n",
              " 'attack.....\\n',\n",
              " 'eighteenth',\n",
              " 'karpovian',\n",
              " '(breaking',\n",
              " 'hiper-aggressive',\n",
              " '27th',\n",
              " 'knignt',\n",
              " '...\\nnow...',\n",
              " '\"trust\"',\n",
              " 'liberation',\n",
              " 'a-t',\n",
              " 'utmanar',\n",
              " 'olnud',\n",
              " 'kahida,',\n",
              " 'vf7',\n",
              " 'tapab',\n",
              " 'lüüakse.',\n",
              " 'bedoeling',\n",
              " 'factored',\n",
              " '...f5?!\\ninstead\\n8.',\n",
              " '...nxd4!\\nnetting',\n",
              " '\\nhttp://gameknot.com/analyze-board.pl?bd=19356720&fb=1&rnd=0.35731651983223855',\n",
              " 'attack.\\n\\ncomputer',\n",
              " '+12.61',\n",
              " 'qxc7\\nthough',\n",
              " '36.bh2?!',\n",
              " \"fianchetto'd,\",\n",
              " '6...bc5.',\n",
              " 'occupies.',\n",
              " 'awkwardly,',\n",
              " 'no-no!',\n",
              " 'excluding',\n",
              " '28...f5.',\n",
              " 'losing!',\n",
              " 'unforgiving',\n",
              " 'times...\\n',\n",
              " '11.dxe',\n",
              " '12.rc1',\n",
              " '?another',\n",
              " 'move!black',\n",
              " 'solution.\\n\"ok',\n",
              " 'boss,',\n",
              " 'nxe6??\\nafter',\n",
              " '13.kg2,',\n",
              " 'h2-bishop',\n",
              " 'wow!\\r\\n5',\n",
              " 'q.....who',\n",
              " '24.fxe4',\n",
              " '[25',\n",
              " 'offing.]',\n",
              " 'mmmm,',\n",
              " 'crafty,',\n",
              " 'mister',\n",
              " '8..h6',\n",
              " 'stalls,',\n",
              " 'spooked',\n",
              " 'surprisingly...',\n",
              " 'probing.',\n",
              " '\"42.',\n",
              " 'unbelieveably',\n",
              " 'co-operation.',\n",
              " 'e3-pawn.',\n",
              " 'checkmate.\\n\\n*any',\n",
              " 'steadfast',\n",
              " '17...bf6,',\n",
              " '18.nxf6,',\n",
              " '11.bc6',\n",
              " 'disagreed,',\n",
              " 'compliments,',\n",
              " 'gratitude.',\n",
              " '11.bc6,',\n",
              " '11...nxc6',\n",
              " '12...ne5,',\n",
              " '22.ba4',\n",
              " \"maia's\",\n",
              " 'castling.\\nso',\n",
              " 'casltes',\n",
              " 're6!)',\n",
              " 'continued:\\n',\n",
              " 'calidad,',\n",
              " 'jaques',\n",
              " 'txg7',\n",
              " 'dxg7',\n",
              " 'dd3+',\n",
              " 'df3+',\n",
              " 'de3',\n",
              " 'de3+',\n",
              " 'tf2,',\n",
              " 'the...',\n",
              " '(pmga)',\n",
              " '27.qh8#',\n",
              " 'a7/h7.',\n",
              " 'cobo',\n",
              " 'sauf',\n",
              " 'vaut',\n",
              " 'peine',\n",
              " ':\\n40.',\n",
              " 'df8',\n",
              " 'dxb5',\n",
              " 'db7#',\n",
              " 'df5',\n",
              " 'df7#',\n",
              " 'td8#',\n",
              " 'cc5#',\n",
              " 'db8#',\n",
              " '\\nle',\n",
              " 'commentaire,',\n",
              " 'énorme.',\n",
              " 'eis',\n",
              " 'desterro...',\n",
              " 'herself:',\n",
              " \"'ooo,\",\n",
              " 'yummy:',\n",
              " 'pawn!\"',\n",
              " '5...qxb2,',\n",
              " 'fen=\"rnb1k1nr/ppp2ppp/4p3/2bp4/8/3ppn2/pqpbbppp/rn1qk2r',\n",
              " 'ready:',\n",
              " '6.bc3!!',\n",
              " '6...qb6,',\n",
              " '7.bxg7',\n",
              " '8.bxh8',\n",
              " 'recap:',\n",
              " '5...qxb2??',\n",
              " '6.bc3',\n",
              " '7.bxa1',\n",
              " \"pawn'!\",\n",
              " '\\r\\nqueen',\n",
              " 'great:',\n",
              " '7...qg6',\n",
              " '(answering',\n",
              " '8...qh5).',\n",
              " '12.qxf8+',\n",
              " '13.bxf8',\n",
              " '12....bd7',\n",
              " 'bopp',\n",
              " '(2187)',\n",
              " 'renner',\n",
              " 'christoph',\n",
              " '(2448)',\n",
              " '12.\\tqa4+\\tb5\\n13.\\tqxb5+\\tc6\\n14.\\tqb7\\to-o\\n15.\\tfxe5\\tqe8\\n16.\\tbxd5+\\tcxd5\\n17.\\tqxd5+\\tbe6\\n18.\\tqa5\\tqc6',\n",
              " 'scheveningen,acc',\n",
              " 'drag,dragon,najdorf(etc).',\n",
              " '(old',\n",
              " 'untouchables',\n",
              " 'rh8...',\n",
              " 'g5xf4,',\n",
              " 'c-1',\n",
              " 'chechmate!!!!!!!!!!!!!!!!!',\n",
              " 'ι',\n",
              " 'discomfitted',\n",
              " 'plans!!!!',\n",
              " 'excited!!!!!',\n",
              " 'ratings!!!!',\n",
              " 'well!!!!',\n",
              " 'me!!!!',\n",
              " 'glendadom,',\n",
              " 'qc3.\\n\\nwhite',\n",
              " 'bxd1+',\n",
              " 'rxd1,qc3+,',\n",
              " '29...kd7',\n",
              " '29...kd8.',\n",
              " '[-1.53/22]\\ny',\n",
              " 'condiciones',\n",
              " 'normales,',\n",
              " '25...qxd5??',\n",
              " '26.rad1',\n",
              " 'knight...my',\n",
              " 'it.\\r\\ntaking',\n",
              " 'bdsb.',\n",
              " 'check/knight',\n",
              " 'piazzata.\\n',\n",
              " '0:02:14]',\n",
              " '\"finally\",',\n",
              " '\"pinned\"...',\n",
              " 'pity!).',\n",
              " '\"rook\\'s',\n",
              " 'paradise.\"',\n",
              " '(http://en.wikipedia.org/wiki/grob%27s_attack)',\n",
              " 'stagnant.',\n",
              " 'holm',\n",
              " \"didn't!!\",\n",
              " 'prendevo',\n",
              " 'guadagnavo',\n",
              " 'sembrata',\n",
              " 'comunque...',\n",
              " 'benedetto',\n",
              " 'errore...',\n",
              " 'grazie,',\n",
              " 'dovevi...',\n",
              " 'encouragement...',\n",
              " 'contemptuously',\n",
              " 'cowards.',\n",
              " '25.ne6?',\n",
              " 'explored.',\n",
              " ']\\nalternative',\n",
              " 'castled........',\n",
              " '\\n\\n43...rb3',\n",
              " '0:03:09]\\n',\n",
              " '..doubled',\n",
              " 'perpetual!',\n",
              " '#blunder?\\n\\njust',\n",
              " 'bold?',\n",
              " '35%',\n",
              " '2003!\\n\\ni',\n",
              " ':24.',\n",
              " 'bishop)\\n',\n",
              " '25.bd3',\n",
              " 'sicilian/english',\n",
              " 'opening..?',\n",
              " 'correction:',\n",
              " 'one!)?',\n",
              " 'hmmm!',\n",
              " 'n-k5,',\n",
              " 'h5xg4\\n',\n",
              " 'growls.',\n",
              " 'nursemaid',\n",
              " '>=]',\n",
              " 'outpace',\n",
              " '\"tie\"',\n",
              " 'astronomical',\n",
              " '\"final',\n",
              " 'blunder\"',\n",
              " '(rational)',\n",
              " '16...nxf4??',\n",
              " '17.nxg7#.',\n",
              " '16...fxg6',\n",
              " '17.nxg7+',\n",
              " '18.qxg6+...',\n",
              " '19.nxe6+...',\n",
              " '16...exf5',\n",
              " '17.nxe7',\n",
              " '(17...nxf4',\n",
              " '18.nxc6+',\n",
              " '19.qa3+...',\n",
              " '20.nxd8...)',\n",
              " '18.bd6...',\n",
              " 'acomplish',\n",
              " '9.o-o-o',\n",
              " 'smoother',\n",
              " 'note...',\n",
              " 'rook.\\r\\n\\r\\n',\n",
              " 'f7-f5-f4',\n",
              " 'd-files.',\n",
              " 'malintenzionato',\n",
              " 'gxf4!!',\n",
              " 'rfd3',\n",
              " 'bxe4\\n',\n",
              " 'c3/d4',\n",
              " '11...h5;',\n",
              " 'unexplored.',\n",
              " 'rules:',\n",
              " 'expired.',\n",
              " 'wierd.',\n",
              " 'out\\r\\n\\r\\nqf4',\n",
              " '4...c6,',\n",
              " 'pawn.....i',\n",
              " '\"conditional',\n",
              " 'g5.\"',\n",
              " 'annotation!\\r\\n',\n",
              " 'nc7#\\n',\n",
              " 'posiiton!',\n",
              " 'b4xc3,',\n",
              " 'angto',\n",
              " '22...rxa2',\n",
              " 'xcb4',\n",
              " 'lastingly',\n",
              " 'b7-knight',\n",
              " '(??????)',\n",
              " 'softly,',\n",
              " 'hit:',\n",
              " 'g7-square.',\n",
              " 'bc6...',\n",
              " 'articulator',\n",
              " '15...nh5f6.',\n",
              " 'smiling.\\n',\n",
              " 'carting',\n",
              " 'hospitality',\n",
              " '51st',\n",
              " 'semi-trap',\n",
              " '1:25',\n",
              " 'bugger.',\n",
              " 'canon',\n",
              " 'welcome.\\n\\nstandard',\n",
              " 'postponements',\n",
              " 'reportedly',\n",
              " 'rapidly).',\n",
              " 'sqaure,',\n",
              " \"carls'\",\n",
              " 'jekopiano.',\n",
              " 'forum]',\n",
              " 'might!\\n\\nbooya',\n",
              " 'q-k3',\n",
              " 'n-n7',\n",
              " 'royals.]',\n",
              " '\"oh.\"\\n\\n1-0\\n\\n\\na',\n",
              " '20-move',\n",
              " '(update',\n",
              " 'ones.\\n\\n24...qxf7',\n",
              " '(25...rxc8?!',\n",
              " 'black.\\n\\nand',\n",
              " 'nonsensical',\n",
              " 'humor,',\n",
              " 'referencing',\n",
              " 'boondocks.',\n",
              " 'no-can-do',\n",
              " 'kiddies',\n",
              " 'kiddies).\\n\\n\"i',\n",
              " 'kiddies.\"',\n",
              " 'cheapshotfail,',\n",
              " \"2015\\n\\n...\\n\\nlet's\",\n",
              " 'banter',\n",
              " 'idea..if',\n",
              " '29..qxf4?',\n",
              " 'c-rook.\\ni',\n",
              " 'center.\"',\n",
              " 'nusiance',\n",
              " 'check.....',\n",
              " 'rhb1',\n",
              " 'idea:\\naxb3',\n",
              " 'qxb3.\\nif',\n",
              " 'rxd8++!',\n",
              " 'f3.\\nalternative',\n",
              " '5...c6,',\n",
              " 'b7-b5).',\n",
              " 'escape\\n',\n",
              " '+1.82\\r\\n\\r\\n',\n",
              " 'counter-thrust',\n",
              " 'frozen,',\n",
              " 'umph',\n",
              " 'abscence',\n",
              " \"'fall-back'\",\n",
              " '?\\nfirst',\n",
              " 'mistake.\\n16...',\n",
              " '17.qxf7',\n",
              " '18.bxd5',\n",
              " '-\\nagain',\n",
              " 'mysterious,',\n",
              " 'moment.!',\n",
              " 'hahahahaha',\n",
              " 'nuntar:',\n",
              " '0:01:56]\\nblocking',\n",
              " 'f-row,',\n",
              " '7.nxg4.',\n",
              " '5-year-old',\n",
              " 'redeveloped',\n",
              " '10.d5,',\n",
              " '10.bg5,',\n",
              " '26...bd5',\n",
              " '27.rdc1',\n",
              " '25...rxf2+',\n",
              " '(7th)',\n",
              " '7...bxh3,',\n",
              " '15.bb5',\n",
              " 'pin!)',\n",
              " '15...rc8',\n",
              " 'protection)',\n",
              " 'kid?)',\n",
              " 'frenzy.',\n",
              " 'pawn.\\r\\nthe',\n",
              " 'fx3',\n",
              " '(rxn',\n",
              " 'qxd6..',\n",
              " 'easy...\\nmistake',\n",
              " 'reactionary,',\n",
              " '21...rf6',\n",
              " '...qf7.',\n",
              " 'dreadfully,',\n",
              " '\"b\",',\n",
              " 'baaddddd',\n",
              " 'b8......',\n",
              " 'end...but',\n",
              " 'rb1!!,',\n",
              " '!\\nnot',\n",
              " '\"15.',\n",
              " '....rxh4+,',\n",
              " 'rxh4#\"',\n",
              " 'canny',\n",
              " 'reunites',\n",
              " '\\nwell,',\n",
              " 'course\\r\\n\\r\\nla',\n",
              " 'obvia.',\n",
              " 'piece-winning',\n",
              " '...ka2',\n",
              " 'resistant.',\n",
              " '-5,15',\n",
              " 'nytta.',\n",
              " 'qa5?.',\n",
              " 'pxpd3+.',\n",
              " 'qxpb2.',\n",
              " '12.kg1',\n",
              " 'check!]',\n",
              " '13.kh2',\n",
              " 'qh4#\\n',\n",
              " '\"okay,',\n",
              " 'got!\"',\n",
              " 'puuting',\n",
              " 'two).',\n",
              " 'insurance...',\n",
              " '26.ra1',\n",
              " '27.b3',\n",
              " '$15)',\n",
              " 'play:\\n19.',\n",
              " 'game!)\\nor',\n",
              " 'g4\\nor',\n",
              " 'a6\\n25.',\n",
              " '25.\\tqxf7+',\n",
              " '26.\\t',\n",
              " '28.\\tra8',\n",
              " 'final...',\n",
              " 'muerto.',\n",
              " '...ba6.',\n",
              " '12.e6!',\n",
              " 'fritzs',\n",
              " '12...fxe6',\n",
              " '12...nxe3?',\n",
              " '13.exd7',\n",
              " '14.dxc8=q',\n",
              " '15.qxb7',\n",
              " '12...nde5',\n",
              " 'hallucinating',\n",
              " 'σωστή',\n",
              " 'συνέχεια!\\nδεν',\n",
              " 'ελευθερωθή',\n",
              " 'ε',\n",
              " 'άλλη',\n",
              " 'κίνησι:\\nάν',\n",
              " 'αxζ7+?,',\n",
              " 'τότε',\n",
              " 'ρζ8',\n",
              " 'αxη6',\n",
              " '\\nδεν',\n",
              " 'αρκετό.',\n",
              " 'e4xd3,',\n",
              " 'obvious.\\n',\n",
              " '(48',\n",
              " 'e2#)',\n",
              " '(49',\n",
              " 'kf3)',\n",
              " '(50',\n",
              " 'ligth',\n",
              " '(seeing',\n",
              " 'knitgh',\n",
              " 'drought',\n",
              " 'having.',\n",
              " 'gives\\n\\nblunder:',\n",
              " '+24.16',\n",
              " 'r1f3',\n",
              " 'kg1\\nbest:',\n",
              " '+15.66',\n",
              " 'stinked!',\n",
              " 'f4-g3-h2.',\n",
              " 'specullating',\n",
              " '\\n[white',\n",
              " '\"karpov,',\n",
              " 'petr\"]\\n[black',\n",
              " '\"kutepov,',\n",
              " 'dmitry\"]\\n[result',\n",
              " '\"0-1\"]\\n[eco',\n",
              " '\"b23\"]\\n[whiteelo',\n",
              " '\"2087\"]\\n[plycount',\n",
              " '\"48\"]\\n[eventdate',\n",
              " '\"2004.09.??\"]\\n1.',\n",
              " 'bb3\\nd4',\n",
              " 'n7c6',\n",
              " '15.\\nc3',\n",
              " '21.\\nraxc1',\n",
              " 'n-q5',\n",
              " 'capabilities)',\n",
              " '23..ne7.',\n",
              " '24.kc1',\n",
              " '25.bxh6',\n",
              " '26.bd2',\n",
              " '27.g3??',\n",
              " '27..nxd4!',\n",
              " '28.cxd4',\n",
              " '29.qxe6',\n",
              " '29.bxc3.',\n",
              " '29..bf5',\n",
              " '30.qxe6',\n",
              " '30.qxf5',\n",
              " '31.qc2',\n",
              " 'winning.\\r\\n\\r\\nhowever,',\n",
              " '27.g3,',\n",
              " '27.a4,',\n",
              " '27..nxd4',\n",
              " '30.qh3,',\n",
              " 'b00',\n",
              " 'predominates.',\n",
              " 'qxa2+,',\n",
              " 'horse.\\n',\n",
              " '30...g6,',\n",
              " '2.83/18',\n",
              " 'irrationally.',\n",
              " 'whch',\n",
              " 'centre.\"',\n",
              " 'categorized',\n",
              " '\"...a',\n",
              " 'openings),',\n",
              " 'maggioranza',\n",
              " 'metterla',\n",
              " 'moto.',\n",
              " 'promotions.',\n",
              " '2011',\n",
              " ...]"
            ]
          },
          "metadata": {
            "tags": []
          },
          "execution_count": 41
        }
      ]
    },
    {
      "cell_type": "markdown",
      "metadata": {
        "id": "tFfPUB9qGQgC"
      },
      "source": [
        "chess words\n"
      ]
    },
    {
      "cell_type": "code",
      "metadata": {
        "id": "CGlviMRauyZi"
      },
      "source": [
        "board_notation = []\n",
        "col_names = 'abcdefgh'\n",
        "row_names = '87654321'\n",
        "for col in col_names:\n",
        "  for row in row_names:\n",
        "    board_notation.append(col+row)"
      ],
      "execution_count": null,
      "outputs": []
    },
    {
      "cell_type": "code",
      "metadata": {
        "id": "ie39Dqh6uBpZ"
      },
      "source": [
        "chess_words = ['king', 'queen', 'rook', 'bishop', 'knight', 'pawn', \n",
        "               'check', 'checkmate', 'stalemate', 'resign', \n",
        "               'castle', 'castling', 'passant', 'promotion',\n",
        "               'rank', 'file',\n",
        "               'opening', 'ending', 'endgame',\n",
        "               'attack', 'threat', 'defence',\n",
        "               'win', 'lose',\n",
        "               'illegal', 'legal',\n",
        "               'kingside', 'queenside', 'pin',\n",
        "               'open', 'closed', 'gambit', 'isolated']"
      ],
      "execution_count": null,
      "outputs": []
    },
    {
      "cell_type": "code",
      "metadata": {
        "id": "mD5uHBwv91rA"
      },
      "source": [
        "other_words = ['move', 'moves', 'moving', \n",
        "               'position', 'game', 'opponent', 'lost', 'diagonal',\n",
        "               \"white's\", \"black's\", 'piece', 'pieces', \n",
        "               'attacking', 'threatening', 'defend', 'threaten', 'defending', 'defense', 'protecting',\n",
        "               'forced', 'force', 'free', 'forcing', 'safe', \n",
        "               'protect', 'prevent', 'sacrifice',\n",
        "               'advantage', 'advance', 'developing', 'develop', 'development', 'developed',\n",
        "               'board', 'square', 'squares', 'tempo', 'mistake', 'capture', 'fork', 'centre',  'center']"
      ],
      "execution_count": null,
      "outputs": []
    },
    {
      "cell_type": "code",
      "metadata": {
        "id": "3MxyiuXTu4XH"
      },
      "source": [
        "words = board_notation + chess_words + other_words"
      ],
      "execution_count": null,
      "outputs": []
    },
    {
      "cell_type": "code",
      "metadata": {
        "id": "gLZMvD480_e6"
      },
      "source": [
        "chess_frequencies = {key: word_frequencies[key] for key in words}"
      ],
      "execution_count": null,
      "outputs": []
    },
    {
      "cell_type": "code",
      "metadata": {
        "colab": {
          "base_uri": "https://localhost:8080/"
        },
        "id": "I5iV9ub2GUL_",
        "outputId": "4e0264e5-35ad-4d9a-d3ad-14651c0eedaf"
      },
      "source": [
        "chess_frequencies"
      ],
      "execution_count": null,
      "outputs": [
        {
          "output_type": "execute_result",
          "data": {
            "text/plain": [
              "{'a1': 481,\n",
              " 'a2': 502,\n",
              " 'a3': 1102,\n",
              " 'a4': 1269,\n",
              " 'a5': 1210,\n",
              " 'a6': 1170,\n",
              " 'a7': 432,\n",
              " 'a8': 390,\n",
              " 'advance': 2784,\n",
              " 'advantage': 5928,\n",
              " 'attack': 15303,\n",
              " 'attacking': 6931,\n",
              " 'b1': 300,\n",
              " 'b2': 1027,\n",
              " 'b3': 1153,\n",
              " 'b4': 1815,\n",
              " 'b5': 2103,\n",
              " 'b6': 1063,\n",
              " 'b7': 966,\n",
              " 'b8': 269,\n",
              " 'bishop': 28285,\n",
              " \"black's\": 13905,\n",
              " 'board': 2358,\n",
              " 'c1': 423,\n",
              " 'c2': 886,\n",
              " 'c3': 2209,\n",
              " 'c4': 2678,\n",
              " 'c5': 2587,\n",
              " 'c6': 1959,\n",
              " 'c7': 887,\n",
              " 'c8': 484,\n",
              " 'capture': 3082,\n",
              " 'castle': 4418,\n",
              " 'castling': 2498,\n",
              " 'center': 4957,\n",
              " 'centre': 2187,\n",
              " 'check': 5798,\n",
              " 'checkmate': 1661,\n",
              " 'closed': 857,\n",
              " 'd1': 391,\n",
              " 'd2': 681,\n",
              " 'd3': 1481,\n",
              " 'd4': 4570,\n",
              " 'd5': 4384,\n",
              " 'd6': 2208,\n",
              " 'd7': 862,\n",
              " 'd8': 412,\n",
              " 'defence': 1732,\n",
              " 'defend': 4219,\n",
              " 'defending': 2516,\n",
              " 'defense': 2467,\n",
              " 'develop': 3852,\n",
              " 'developed': 1554,\n",
              " 'developing': 3190,\n",
              " 'development': 3822,\n",
              " 'diagonal': 3110,\n",
              " 'e1': 391,\n",
              " 'e2': 686,\n",
              " 'e3': 1406,\n",
              " 'e4': 4353,\n",
              " 'e5': 4963,\n",
              " 'e6': 2129,\n",
              " 'e7': 906,\n",
              " 'e8': 393,\n",
              " 'endgame': 1487,\n",
              " 'ending': 644,\n",
              " 'f1': 462,\n",
              " 'f2': 1076,\n",
              " 'f3': 2018,\n",
              " 'f4': 2355,\n",
              " 'f5': 2258,\n",
              " 'f6': 2293,\n",
              " 'f7': 1717,\n",
              " 'f8': 484,\n",
              " 'file': 3734,\n",
              " 'force': 2870,\n",
              " 'forced': 3925,\n",
              " 'forcing': 2308,\n",
              " 'fork': 2471,\n",
              " 'free': 3445,\n",
              " 'g1': 248,\n",
              " 'g2': 904,\n",
              " 'g3': 1388,\n",
              " 'g4': 1895,\n",
              " 'g5': 1805,\n",
              " 'g6': 1735,\n",
              " 'g7': 1078,\n",
              " 'g8': 265,\n",
              " 'gambit': 1727,\n",
              " 'game': 16947,\n",
              " 'h1': 316,\n",
              " 'h2': 501,\n",
              " 'h3': 1423,\n",
              " 'h4': 1267,\n",
              " 'h5': 1326,\n",
              " 'h6': 1447,\n",
              " 'h7': 710,\n",
              " 'h8': 402,\n",
              " 'illegal': 31,\n",
              " 'isolated': 1129,\n",
              " 'king': 22659,\n",
              " 'kingside': 4036,\n",
              " 'knight': 31490,\n",
              " 'legal': 128,\n",
              " 'lose': 4309,\n",
              " 'lost': 3753,\n",
              " 'mistake': 2805,\n",
              " 'move': 43011,\n",
              " 'moves': 11334,\n",
              " 'moving': 3604,\n",
              " 'open': 8316,\n",
              " 'opening': 6764,\n",
              " 'opponent': 6567,\n",
              " 'passant': 88,\n",
              " 'pawn': 48530,\n",
              " 'piece': 6728,\n",
              " 'pieces': 8990,\n",
              " 'pin': 3435,\n",
              " 'position': 11006,\n",
              " 'prevent': 3396,\n",
              " 'promotion': 539,\n",
              " 'protect': 3302,\n",
              " 'protecting': 2213,\n",
              " 'queen': 26372,\n",
              " 'queenside': 3459,\n",
              " 'rank': 1834,\n",
              " 'resign': 524,\n",
              " 'rook': 21495,\n",
              " 'sacrifice': 2078,\n",
              " 'safe': 2137,\n",
              " 'square': 6072,\n",
              " 'squares': 2391,\n",
              " 'stalemate': 147,\n",
              " 'tempo': 2884,\n",
              " 'threat': 5346,\n",
              " 'threaten': 1649,\n",
              " 'threatening': 5912,\n",
              " \"white's\": 13749,\n",
              " 'win': 7448}"
            ]
          },
          "metadata": {
            "tags": []
          },
          "execution_count": 119
        }
      ]
    },
    {
      "cell_type": "code",
      "metadata": {
        "id": "65r8fTfK2or_"
      },
      "source": [
        "sorted_keys = sorted(chess_frequencies, key=chess_frequencies.get, reverse=True)"
      ],
      "execution_count": null,
      "outputs": []
    },
    {
      "cell_type": "code",
      "metadata": {
        "colab": {
          "base_uri": "https://localhost:8080/"
        },
        "id": "1vp_FL5jG5RO",
        "outputId": "abb3aace-54a3-46c4-8316-ef596f19b233"
      },
      "source": [
        "sorted_keys"
      ],
      "execution_count": null,
      "outputs": [
        {
          "output_type": "execute_result",
          "data": {
            "text/plain": [
              "['pawn',\n",
              " 'move',\n",
              " 'knight',\n",
              " 'bishop',\n",
              " 'queen',\n",
              " 'king',\n",
              " 'rook',\n",
              " 'game',\n",
              " 'attack',\n",
              " \"black's\",\n",
              " \"white's\",\n",
              " 'moves',\n",
              " 'position',\n",
              " 'pieces',\n",
              " 'open',\n",
              " 'win',\n",
              " 'attacking',\n",
              " 'opening',\n",
              " 'piece',\n",
              " 'opponent',\n",
              " 'square',\n",
              " 'advantage',\n",
              " 'threatening',\n",
              " 'check',\n",
              " 'threat',\n",
              " 'e5',\n",
              " 'center',\n",
              " 'd4',\n",
              " 'castle',\n",
              " 'd5',\n",
              " 'e4',\n",
              " 'lose',\n",
              " 'defend',\n",
              " 'kingside',\n",
              " 'forced',\n",
              " 'develop',\n",
              " 'development',\n",
              " 'lost',\n",
              " 'file',\n",
              " 'moving',\n",
              " 'queenside',\n",
              " 'free',\n",
              " 'pin',\n",
              " 'prevent',\n",
              " 'protect',\n",
              " 'developing',\n",
              " 'diagonal',\n",
              " 'capture',\n",
              " 'tempo',\n",
              " 'force',\n",
              " 'mistake',\n",
              " 'advance',\n",
              " 'c4',\n",
              " 'c5',\n",
              " 'defending',\n",
              " 'castling',\n",
              " 'fork',\n",
              " 'defense',\n",
              " 'squares',\n",
              " 'board',\n",
              " 'f4',\n",
              " 'forcing',\n",
              " 'f6',\n",
              " 'f5',\n",
              " 'protecting',\n",
              " 'c3',\n",
              " 'd6',\n",
              " 'centre',\n",
              " 'safe',\n",
              " 'e6',\n",
              " 'b5',\n",
              " 'sacrifice',\n",
              " 'f3',\n",
              " 'c6',\n",
              " 'g4',\n",
              " 'rank',\n",
              " 'b4',\n",
              " 'g5',\n",
              " 'g6',\n",
              " 'defence',\n",
              " 'gambit',\n",
              " 'f7',\n",
              " 'checkmate',\n",
              " 'threaten',\n",
              " 'developed',\n",
              " 'endgame',\n",
              " 'd3',\n",
              " 'h6',\n",
              " 'h3',\n",
              " 'e3',\n",
              " 'g3',\n",
              " 'h5',\n",
              " 'a4',\n",
              " 'h4',\n",
              " 'a5',\n",
              " 'a6',\n",
              " 'b3',\n",
              " 'isolated',\n",
              " 'a3',\n",
              " 'g7',\n",
              " 'f2',\n",
              " 'b6',\n",
              " 'b2',\n",
              " 'b7',\n",
              " 'e7',\n",
              " 'g2',\n",
              " 'c7',\n",
              " 'c2',\n",
              " 'd7',\n",
              " 'closed',\n",
              " 'h7',\n",
              " 'e2',\n",
              " 'd2',\n",
              " 'ending',\n",
              " 'promotion',\n",
              " 'resign',\n",
              " 'a2',\n",
              " 'h2',\n",
              " 'c8',\n",
              " 'f8',\n",
              " 'a1',\n",
              " 'f1',\n",
              " 'a7',\n",
              " 'c1',\n",
              " 'd8',\n",
              " 'h8',\n",
              " 'e8',\n",
              " 'd1',\n",
              " 'e1',\n",
              " 'a8',\n",
              " 'h1',\n",
              " 'b1',\n",
              " 'b8',\n",
              " 'g8',\n",
              " 'g1',\n",
              " 'stalemate',\n",
              " 'legal',\n",
              " 'passant',\n",
              " 'illegal']"
            ]
          },
          "metadata": {
            "tags": []
          },
          "execution_count": 124
        }
      ]
    }
  ]
}