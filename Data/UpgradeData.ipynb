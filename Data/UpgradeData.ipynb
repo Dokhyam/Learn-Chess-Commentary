{
  "nbformat": 4,
  "nbformat_minor": 0,
  "metadata": {
    "colab": {
      "name": "upgrade_data.ipynb",
      "provenance": [],
      "collapsed_sections": [
        "oSR6ZkOjdi78",
        "NJZ1CV6LdnGR",
        "ZXv54GLcd1GQ",
        "fC74wxJ2eN0h"
      ],
      "toc_visible": true
    },
    "kernelspec": {
      "name": "python3",
      "display_name": "Python 3"
    }
  },
  "cells": [
    {
      "cell_type": "markdown",
      "metadata": {
        "id": "oSR6ZkOjdi78"
      },
      "source": [
        "# load"
      ]
    },
    {
      "cell_type": "code",
      "metadata": {
        "id": "AdBu1QoIj_qu"
      },
      "source": [
        "import pickle"
      ],
      "execution_count": null,
      "outputs": []
    },
    {
      "cell_type": "code",
      "metadata": {
        "id": "Wyqpol6xdV3h",
        "colab": {
          "base_uri": "https://localhost:8080/"
        },
        "outputId": "e3265ace-280a-4468-cb44-58d2cea67cd9"
      },
      "source": [
        "from google.colab import drive\n",
        "drive.mount('/content/drive')"
      ],
      "execution_count": null,
      "outputs": [
        {
          "output_type": "stream",
          "text": [
            "Drive already mounted at /content/drive; to attempt to forcibly remount, call drive.mount(\"/content/drive\", force_remount=True).\n"
          ],
          "name": "stdout"
        }
      ]
    },
    {
      "cell_type": "code",
      "metadata": {
        "id": "RZsvsqIjdZN5"
      },
      "source": [
        "BASE_PATH = '/content/drive/MyDrive/NLP/Data/'\n",
        "games_data_path = BASE_PATH + 'FEN/games_data'\n",
        "NUMER_OF_DATA_DIRS = 13"
      ],
      "execution_count": null,
      "outputs": []
    },
    {
      "cell_type": "code",
      "metadata": {
        "id": "ptX-2SnUdcfY"
      },
      "source": [
        "paths = [f'{games_data_path}{i+1}.p' for i in range(NUMER_OF_DATA_DIRS)]"
      ],
      "execution_count": null,
      "outputs": []
    },
    {
      "cell_type": "code",
      "metadata": {
        "id": "pwV2WbP_deJY"
      },
      "source": [
        "data = []\n",
        "for path in paths:\n",
        "    with open(path, 'rb') as file:\n",
        "        raw_data = pickle.load(file)\n",
        "    data.extend(raw_data)"
      ],
      "execution_count": null,
      "outputs": []
    },
    {
      "cell_type": "code",
      "metadata": {
        "colab": {
          "base_uri": "https://localhost:8080/"
        },
        "id": "_FPoEqwjYh8U",
        "outputId": "1e3619d5-ef04-4810-d537-eea99bc9bbda"
      },
      "source": [
        "len(data)"
      ],
      "execution_count": null,
      "outputs": [
        {
          "output_type": "execute_result",
          "data": {
            "text/plain": [
              "350027"
            ]
          },
          "metadata": {
            "tags": []
          },
          "execution_count": 6
        }
      ]
    },
    {
      "cell_type": "code",
      "metadata": {
        "id": "6Kpsq8jDgRLz",
        "colab": {
          "base_uri": "https://localhost:8080/"
        },
        "outputId": "40965bb8-da56-42f8-ad3b-4ff6000d0f75"
      },
      "source": [
        "len(list(set(data)))"
      ],
      "execution_count": null,
      "outputs": [
        {
          "output_type": "execute_result",
          "data": {
            "text/plain": [
              "349015"
            ]
          },
          "metadata": {
            "tags": []
          },
          "execution_count": 7
        }
      ]
    },
    {
      "cell_type": "code",
      "metadata": {
        "id": "PdDszxteYzQA"
      },
      "source": [
        "data = list(set(data))"
      ],
      "execution_count": null,
      "outputs": []
    },
    {
      "cell_type": "markdown",
      "metadata": {
        "id": "NJZ1CV6LdnGR"
      },
      "source": [
        "# board"
      ]
    },
    {
      "cell_type": "code",
      "metadata": {
        "id": "VvVJv8zHdn5A"
      },
      "source": [
        "col_names = 'abcdefgh'\n",
        "row_names = '87654321'\n",
        "pieces = {'r': 'black rook',\n",
        "          'n': 'black knight',\n",
        "          'b': 'black bishop',\n",
        "          'q': 'black queen', \n",
        "          'k': 'black king',\n",
        "          'p': 'black pawn',\n",
        "          'R': 'white rook',\n",
        "          'N': 'white knight',\n",
        "          'B': 'white bishop',\n",
        "          'Q': 'white queen', \n",
        "          'K': 'white king',\n",
        "          'P': 'white pawn'}"
      ],
      "execution_count": null,
      "outputs": []
    },
    {
      "cell_type": "code",
      "metadata": {
        "id": "24znfxBedpz0"
      },
      "source": [
        "def board_to_text(board):\n",
        "  text = \"\"\n",
        "  rows = board.split(\"/\")\n",
        "  for inx, row in enumerate(row_names):\n",
        "    row_values = rows[inx]\n",
        "    col_num = 0\n",
        "    for value in row_values:\n",
        "      if value in '12345678':\n",
        "        for i in range(int(value)):\n",
        "          text += col_names[col_num] + row + \": , \"\n",
        "          col_num += 1\n",
        "      elif value == '-':\n",
        "        print('STRANGE!')\n",
        "        text += col_names[col_num] + row + \": \" + pieces['p'] + \", \"\n",
        "        col_num += 1\n",
        "      else:\n",
        "        text +=  col_names[col_num] + row + \": \" + pieces[value] + \", \"\n",
        "        col_num += 1\n",
        "  return text[:-2]"
      ],
      "execution_count": null,
      "outputs": []
    },
    {
      "cell_type": "markdown",
      "metadata": {
        "id": "ZXv54GLcd1GQ"
      },
      "source": [
        "# move"
      ]
    },
    {
      "cell_type": "code",
      "metadata": {
        "id": "X3sFO0UJd8LZ"
      },
      "source": [
        "def map_move_piece(x):\n",
        "    if x==\"K\":\n",
        "        return \"king\"\n",
        "    elif x==\"Q\":\n",
        "        return \"queen\"\n",
        "    elif x==\"R\":\n",
        "        return \"rook\"\n",
        "    elif x==\"B\":\n",
        "        return \"bishop\"\n",
        "    elif x==\"N\":\n",
        "        return \"knight\"\n",
        "    else:\n",
        "        return \"pawn \"+x"
      ],
      "execution_count": null,
      "outputs": []
    },
    {
      "cell_type": "code",
      "metadata": {
        "id": "HH-D5abdd9nA"
      },
      "source": [
        "def parse_one_move(move):\n",
        "  parsed = \"\"\n",
        "\n",
        "  # Nxg2+\n",
        "  if move[-1]==\"+\":\n",
        "    parsed = \"check: \"\n",
        "    move = move[:-1]\n",
        "\n",
        "  # Rd2#\n",
        "  elif move[-1]==\"#\":\n",
        "    parse = \"checkmate: \"\n",
        "    move = move[:-1]\n",
        "\n",
        "  # O-O\n",
        "  if move == 'O-O':\n",
        "    parse+= 'castling'\n",
        "    return parse\n",
        "\n",
        "  len_move = len(move)\n",
        "  \n",
        "  if \"x\" not in move: \n",
        "    # h6 \n",
        "    if len_move == 2:\n",
        "      parsed+= \"pawn \"+ move\n",
        "    \n",
        "    # Ng4\n",
        "    elif len_move == 3:\n",
        "      parsed+=  map_move_piece(move[0]) + \" \" + move[1:]\n",
        "    \n",
        "    # Nbc6\n",
        "    elif len_move == 4:\n",
        "      parsed+=  map_move_piece(move[0]) + \" \" + move[1] + \" \" + move[2:]\n",
        "    \n",
        "    # Ra5a6\n",
        "    elif len_move == 5:\n",
        "      parsed+=  map_move_piece(move[0]) + \" \" + move[1:3] + \" \" + move[3:]\n",
        "\n",
        "  else: # \"x\" in move\n",
        "    # Qxf6\n",
        "    if len_move == 4:\n",
        "      parsed+=  map_move_piece(move[0]) + \" takes \" + move[2:]\n",
        "\n",
        "    # Ngxe7, Nfxh7\n",
        "    elif len_move == 5: \n",
        "      parsed+=  map_move_piece(move[0]) + \" \" + move[1] + \" takes \" + move[3:]\n",
        "\n",
        "    # Re6xe7\n",
        "    elif len_move == 6:\n",
        "      parsed+=  map_move_piece(move[0]) + \" \" + move[1:3] + \" takes \" + move[4:]\n",
        "\n",
        "  if parsed == \"\":\n",
        "    print(\"strangeMove: \", move)\n",
        "    return \"<strangeMove>\"\n",
        "\n",
        "  return parsed"
      ],
      "execution_count": null,
      "outputs": []
    },
    {
      "cell_type": "markdown",
      "metadata": {
        "id": "fC74wxJ2eN0h"
      },
      "source": [
        "# python-chess"
      ]
    },
    {
      "cell_type": "markdown",
      "metadata": {
        "id": "TcBZaRiFeBmT"
      },
      "source": [
        "https://python-chess.readthedocs.io/en/latest/"
      ]
    },
    {
      "cell_type": "code",
      "metadata": {
        "id": "aAjTk88sh55M",
        "colab": {
          "base_uri": "https://localhost:8080/"
        },
        "outputId": "43c425e7-94b0-49af-c5b5-a00d1506b3c9"
      },
      "source": [
        "!pip install python-chess"
      ],
      "execution_count": null,
      "outputs": [
        {
          "output_type": "stream",
          "text": [
            "Requirement already satisfied: python-chess in /usr/local/lib/python3.7/dist-packages (0.23.11)\n"
          ],
          "name": "stdout"
        }
      ]
    },
    {
      "cell_type": "code",
      "metadata": {
        "id": "DGhQ_rGBiCxj"
      },
      "source": [
        "import chess"
      ],
      "execution_count": null,
      "outputs": []
    },
    {
      "cell_type": "code",
      "metadata": {
        "id": "gDoI2U4biHWK"
      },
      "source": [
        "board = chess.Board('rnb1kb1r/3ppppp/5n2/qNpP4/8/8/PP2PPPP/R1BQKBNR w KQkq - 0 0')"
      ],
      "execution_count": null,
      "outputs": []
    },
    {
      "cell_type": "code",
      "metadata": {
        "id": "keQAvtQ1iLT6",
        "colab": {
          "base_uri": "https://localhost:8080/"
        },
        "outputId": "9f8cd1b6-942c-4a65-d19b-3bc20ddebf64"
      },
      "source": [
        "print(board)"
      ],
      "execution_count": null,
      "outputs": [
        {
          "output_type": "stream",
          "text": [
            "r n b . k b . r\n",
            ". . . p p p p p\n",
            ". . . . . n . .\n",
            "q N p P . . . .\n",
            ". . . . . . . .\n",
            ". . . . . . . .\n",
            "P P . . P P P P\n",
            "R . B Q K B N R\n"
          ],
          "name": "stdout"
        }
      ]
    },
    {
      "cell_type": "code",
      "metadata": {
        "id": "5nudYhD-iLk6"
      },
      "source": [
        "if board.is_game_over():\n",
        "  print(\"GAME OVER\") \n",
        "elif board.is_stalemate():\n",
        "  print(\"STALE situation\")"
      ],
      "execution_count": null,
      "outputs": []
    },
    {
      "cell_type": "code",
      "metadata": {
        "colab": {
          "base_uri": "https://localhost:8080/"
        },
        "id": "ryJJ9eUZQ2iN",
        "outputId": "f0485250-02c0-4b13-f672-8a46ae518f9c"
      },
      "source": [
        "board.turn"
      ],
      "execution_count": null,
      "outputs": [
        {
          "output_type": "execute_result",
          "data": {
            "text/plain": [
              "True"
            ]
          },
          "metadata": {
            "tags": []
          },
          "execution_count": 18
        }
      ]
    },
    {
      "cell_type": "markdown",
      "metadata": {
        "id": "qpJgxL8hXvlQ"
      },
      "source": [
        "castling"
      ]
    },
    {
      "cell_type": "code",
      "metadata": {
        "id": "MIkC4vVgVHEh"
      },
      "source": [
        "castling_rights = \"\"\n",
        "if board.has_castling_rights(chess.WHITE):\n",
        "  castling_rights += \"white\"\n",
        "if board.has_castling_rights(chess.BLACK):\n",
        "  castling_rights += \"black\" if castling_rights == \"\" else \" and black\""
      ],
      "execution_count": null,
      "outputs": []
    },
    {
      "cell_type": "code",
      "metadata": {
        "colab": {
          "base_uri": "https://localhost:8080/"
        },
        "id": "xSqmAIeLYBgB",
        "outputId": "633b6737-a490-489e-9202-f3b80f97aaeb"
      },
      "source": [
        "castling_rights"
      ],
      "execution_count": null,
      "outputs": [
        {
          "output_type": "execute_result",
          "data": {
            "application/vnd.google.colaboratory.intrinsic+json": {
              "type": "string"
            },
            "text/plain": [
              "'white and black'"
            ]
          },
          "metadata": {
            "tags": []
          },
          "execution_count": 20
        }
      ]
    },
    {
      "cell_type": "markdown",
      "metadata": {
        "id": "ciAKMDcqfeT5"
      },
      "source": [
        "legal moves"
      ]
    },
    {
      "cell_type": "code",
      "metadata": {
        "id": "xVgUkBCFiNNL"
      },
      "source": [
        "def get_legal_moves(board):\n",
        "  legal_moves = set()\n",
        "  for move in board.legal_moves:\n",
        "    uci_move = board.uci(move)\n",
        "    legal_moves.add(uci_move)\n",
        "    \n",
        "  return legal_moves"
      ],
      "execution_count": null,
      "outputs": []
    },
    {
      "cell_type": "code",
      "metadata": {
        "colab": {
          "base_uri": "https://localhost:8080/"
        },
        "id": "rwQEQVRij8n3",
        "outputId": "117dca5b-3cc6-473a-e97a-1bfed8230d5e"
      },
      "source": [
        "get_legal_moves(board)"
      ],
      "execution_count": null,
      "outputs": [
        {
          "output_type": "execute_result",
          "data": {
            "text/plain": [
              "{'b2b4', 'b5c3', 'c1d2', 'd1d2'}"
            ]
          },
          "metadata": {
            "tags": []
          },
          "execution_count": 22
        }
      ]
    },
    {
      "cell_type": "code",
      "metadata": {
        "id": "d_g8E177j0lo"
      },
      "source": [
        "legal_moves = set()\n",
        "for move in board.legal_moves: \n",
        "  legal_moves.add(board.san(board.parse_uci(str(move))))"
      ],
      "execution_count": null,
      "outputs": []
    },
    {
      "cell_type": "code",
      "metadata": {
        "colab": {
          "base_uri": "https://localhost:8080/"
        },
        "id": "6Y6qrNw5CtpZ",
        "outputId": "c2683909-fd9a-4640-da45-4b28b0388075"
      },
      "source": [
        "legal_moves"
      ],
      "execution_count": null,
      "outputs": [
        {
          "output_type": "execute_result",
          "data": {
            "text/plain": [
              "{'Bd2', 'Nc3', 'Qd2', 'b4'}"
            ]
          },
          "metadata": {
            "tags": []
          },
          "execution_count": 24
        }
      ]
    },
    {
      "cell_type": "code",
      "metadata": {
        "id": "37owZ1EyNQDk"
      },
      "source": [
        "# Pseudo-legal moves might leave or put the king in check, but are otherwise valid.\n",
        "pseudo_legal_moves = set()\n",
        "for move in board.pseudo_legal_moves: \n",
        "  pseudo_legal_moves.add(board.san(chess.Move.from_uci(str(move))))"
      ],
      "execution_count": null,
      "outputs": []
    },
    {
      "cell_type": "code",
      "metadata": {
        "colab": {
          "base_uri": "https://localhost:8080/"
        },
        "id": "8aCawRgsNa8A",
        "outputId": "5500c423-2418-4099-82f6-09ed9e443fac"
      },
      "source": [
        "pseudo_legal_moves"
      ],
      "execution_count": null,
      "outputs": [
        {
          "output_type": "execute_result",
          "data": {
            "text/plain": [
              "{'Bd2',\n",
              " 'Be3',\n",
              " 'Bf4',\n",
              " 'Bg5',\n",
              " 'Bh6',\n",
              " 'Kd2',\n",
              " 'Na3',\n",
              " 'Na7',\n",
              " 'Nc3',\n",
              " 'Nc7+',\n",
              " 'Nd4',\n",
              " 'Nd6+',\n",
              " 'Nf3',\n",
              " 'Nh3',\n",
              " 'Qa4',\n",
              " 'Qb3',\n",
              " 'Qc2',\n",
              " 'Qd2',\n",
              " 'Qd3',\n",
              " 'Qd4',\n",
              " 'Rb1',\n",
              " 'a3',\n",
              " 'a4',\n",
              " 'b3',\n",
              " 'b4',\n",
              " 'd6',\n",
              " 'e3',\n",
              " 'e4',\n",
              " 'f3',\n",
              " 'f4',\n",
              " 'g3',\n",
              " 'g4',\n",
              " 'h3',\n",
              " 'h4'}"
            ]
          },
          "metadata": {
            "tags": []
          },
          "execution_count": 26
        }
      ]
    },
    {
      "cell_type": "markdown",
      "metadata": {
        "id": "BwjJwB8EffVQ"
      },
      "source": [
        "attack"
      ]
    },
    {
      "cell_type": "code",
      "metadata": {
        "id": "lIoHhPGuqn9O"
      },
      "source": [
        "# ranks = rows referred to by numbers. Files = columns.\n",
        "def square_index(file_rank_string): \n",
        "  file_to_value = {\"a\":0, \"b\":1, \"c\":2, \"d\":3, \"e\":4 , \"f\":5, \"g\":6, \"h\":7}\n",
        "  file, rank = file_rank_string[0], file_rank_string[1]\n",
        "  file = file_to_value[file]\n",
        "  index = chess.square(file_index=file, rank_index=int(rank)-1)\n",
        "  return index"
      ],
      "execution_count": null,
      "outputs": []
    },
    {
      "cell_type": "code",
      "metadata": {
        "id": "2WWC35vcfdc5"
      },
      "source": [
        "def getAttackers(board, square):\n",
        "    if board.turn:\n",
        "        player = chess.BLACK  # board.turn == True if White's turn, so Black did the last move.\n",
        "    else:\n",
        "        player = chess.WHITE\n",
        "    \n",
        "    attackers = board.attackers(player, square_index(square))\n",
        "    attacks = board.attacks(square_index(square))\n",
        "    \n",
        "    attackers_list = [chess.square_name(attacker) for attacker in attackers]\n",
        "    attacks_list = [chess.square_name(attack) for attack in attacks]\n",
        "\n",
        "    return attackers_list, attacks_list"
      ],
      "execution_count": null,
      "outputs": []
    },
    {
      "cell_type": "code",
      "metadata": {
        "colab": {
          "base_uri": "https://localhost:8080/"
        },
        "id": "5qUtHnSZr98a",
        "outputId": "30891687-0a2f-4bb3-e7f4-4ab6894a4e4f"
      },
      "source": [
        "getAttackers(board, 'a5')"
      ],
      "execution_count": null,
      "outputs": [
        {
          "output_type": "execute_result",
          "data": {
            "text/plain": [
              "(['a8'],\n",
              " ['e1',\n",
              "  'a2',\n",
              "  'd2',\n",
              "  'a3',\n",
              "  'c3',\n",
              "  'a4',\n",
              "  'b4',\n",
              "  'b5',\n",
              "  'a6',\n",
              "  'b6',\n",
              "  'a7',\n",
              "  'c7',\n",
              "  'a8',\n",
              "  'd8'])"
            ]
          },
          "metadata": {
            "tags": []
          },
          "execution_count": 29
        }
      ]
    },
    {
      "cell_type": "markdown",
      "metadata": {
        "id": "sHN3gt6CuNQu"
      },
      "source": [
        "check"
      ]
    },
    {
      "cell_type": "code",
      "metadata": {
        "id": "FkA865wLuJyo"
      },
      "source": [
        "# board.checkers() \n",
        "# board.gives_check(legal_moves)"
      ],
      "execution_count": null,
      "outputs": []
    },
    {
      "cell_type": "code",
      "metadata": {
        "id": "495RDtEGuaNl",
        "colab": {
          "base_uri": "https://localhost:8080/"
        },
        "outputId": "a64beb57-fe26-46c2-de90-d93ce125c9e8"
      },
      "source": [
        "board.is_check()"
      ],
      "execution_count": null,
      "outputs": [
        {
          "output_type": "execute_result",
          "data": {
            "text/plain": [
              "True"
            ]
          },
          "metadata": {
            "tags": []
          },
          "execution_count": 31
        }
      ]
    },
    {
      "cell_type": "code",
      "metadata": {
        "colab": {
          "base_uri": "https://localhost:8080/"
        },
        "id": "iM8LAOFlHAnw",
        "outputId": "8bda4acc-a542-4968-b040-d02ec6fe8636"
      },
      "source": [
        "board.is_checkmate()"
      ],
      "execution_count": null,
      "outputs": [
        {
          "output_type": "execute_result",
          "data": {
            "text/plain": [
              "False"
            ]
          },
          "metadata": {
            "tags": []
          },
          "execution_count": 32
        }
      ]
    },
    {
      "cell_type": "markdown",
      "metadata": {
        "id": "M1Tvc65ceQ1a"
      },
      "source": [
        "# save new data"
      ]
    },
    {
      "cell_type": "code",
      "metadata": {
        "id": "hHevqGeNS9hD"
      },
      "source": [
        "from tqdm import tqdm "
      ],
      "execution_count": null,
      "outputs": []
    },
    {
      "cell_type": "code",
      "metadata": {
        "id": "wYVEPyaaT-bJ"
      },
      "source": [
        "new_data = []\n",
        "counter = 0"
      ],
      "execution_count": null,
      "outputs": []
    },
    {
      "cell_type": "code",
      "metadata": {
        "id": "EWFRRzrvfgcZ",
        "colab": {
          "base_uri": "https://localhost:8080/"
        },
        "outputId": "29e4df4a-6f15-4700-f70c-e29ee7567f76"
      },
      "source": [
        "for trio in tqdm(data, position=0, leave=True):\n",
        "  FEN = trio[0][:trio[0].find(\"|\")]\n",
        "  moves = trio[1]\n",
        "  comment = trio[2].lower()\n",
        "\n",
        "  # last move \n",
        "  last_move_UCI =  trio[0][trio[0].find(\"=\")+1:]\n",
        "  last_move_SAN = moves.split(',')[-1].replace(\" \", \"\")\n",
        "  last_move_desc = parse_one_move(last_move_SAN) if moves!='' else ''\n",
        "\n",
        "  # board \n",
        "  if '3-4' in FEN:\n",
        "    print(\"STRANGE!\")  # one sample with bug..\n",
        "    FEN = FEN.replace('3-4', '3p4')\n",
        "\n",
        "  board_desc = board_to_text(FEN[:FEN.find(' ')])\n",
        "\n",
        "  board = chess.Board(FEN+' 0 0')\n",
        "\n",
        "  if board.turn:\n",
        "    turn = \"white\"\n",
        "  else:\n",
        "    turn = \"black\"\n",
        "\n",
        "  # legal moves \n",
        "  legal_moves = set()\n",
        "  for move in board.legal_moves: \n",
        "    legal_moves.add(board.san(board.parse_uci(str(move))))\n",
        "  legal_moves = list(legal_moves)\n",
        "\n",
        "  # attack\n",
        "  attackers_list, attacks_list = getAttackers(board, last_move_UCI[-2:])\n",
        "\n",
        "  sample = (FEN, board_desc, moves, last_move_desc, turn, legal_moves, attackers_list, attacks_list, comment)\n",
        "\n",
        "  new_data.append(sample)\n",
        "\n",
        "  counter += 1\n",
        "  if counter%30000==0:\n",
        "    saved = str(int(counter/30000))\n",
        "    pickle.dump(new_data, open(BASE_PATH+\"upgraded/games_data\"+saved+\".p\",\"wb\"))\n",
        "    new_data = []"
      ],
      "execution_count": null,
      "outputs": [
        {
          "output_type": "stream",
          "text": [
            " 24%|██▍       | 83764/349015 [02:34<08:13, 537.38it/s]"
          ],
          "name": "stderr"
        },
        {
          "output_type": "stream",
          "text": [
            "STRANGE!\n"
          ],
          "name": "stdout"
        },
        {
          "output_type": "stream",
          "text": [
            "100%|██████████| 349015/349015 [10:50<00:00, 536.90it/s]\n"
          ],
          "name": "stderr"
        }
      ]
    },
    {
      "cell_type": "code",
      "metadata": {
        "colab": {
          "base_uri": "https://localhost:8080/"
        },
        "id": "mH1nlPcotnZQ",
        "outputId": "67ca0429-7078-4c5e-f9a5-47242b6861ae"
      },
      "source": [
        "len(new_data)"
      ],
      "execution_count": null,
      "outputs": [
        {
          "output_type": "execute_result",
          "data": {
            "text/plain": [
              "19015"
            ]
          },
          "metadata": {
            "tags": []
          },
          "execution_count": 37
        }
      ]
    },
    {
      "cell_type": "code",
      "metadata": {
        "id": "Bvvh13l_sH3R"
      },
      "source": [
        "# don't forget save leftovers ;)\n",
        "saved = '12'\n",
        "pickle.dump(new_data, open(BASE_PATH+\"upgraded/games_data\"+saved+\".p\",\"wb\"))"
      ],
      "execution_count": null,
      "outputs": []
    },
    {
      "cell_type": "code",
      "metadata": {
        "id": "VDKpEeyLtHQf"
      },
      "source": [
        ""
      ],
      "execution_count": null,
      "outputs": []
    },
    {
      "cell_type": "markdown",
      "metadata": {
        "id": "Mj2PEn0CwpSV"
      },
      "source": [
        "check if new data looks ok:"
      ]
    },
    {
      "cell_type": "code",
      "metadata": {
        "id": "M8oUwy3VsK43"
      },
      "source": [
        "new_games_data_path = BASE_PATH + 'upgraded/games_data'\n",
        "new_NUMER_OF_DATA_DIRS = 12"
      ],
      "execution_count": null,
      "outputs": []
    },
    {
      "cell_type": "code",
      "metadata": {
        "id": "hasDcotvsRJL"
      },
      "source": [
        "new_paths = [f'{new_games_data_path}{i+1}.p' for i in range(new_NUMER_OF_DATA_DIRS)]"
      ],
      "execution_count": null,
      "outputs": []
    },
    {
      "cell_type": "code",
      "metadata": {
        "id": "Jr4qA4oUsK2U"
      },
      "source": [
        "length = []\n",
        "upgraded_data = []\n",
        "for path in new_paths:\n",
        "    with open(path, 'rb') as file:\n",
        "        upgraded_raw_data = pickle.load(file)\n",
        "    length.append(len(upgraded_raw_data))\n",
        "    upgraded_data.extend(upgraded_raw_data)"
      ],
      "execution_count": null,
      "outputs": []
    },
    {
      "cell_type": "code",
      "metadata": {
        "colab": {
          "base_uri": "https://localhost:8080/"
        },
        "id": "AdhoT7Pdvk_D",
        "outputId": "8e1e5953-4aa1-4117-a328-42d2587aace3"
      },
      "source": [
        "length"
      ],
      "execution_count": null,
      "outputs": [
        {
          "output_type": "execute_result",
          "data": {
            "text/plain": [
              "[30000,\n",
              " 30000,\n",
              " 30000,\n",
              " 30000,\n",
              " 30000,\n",
              " 30000,\n",
              " 30000,\n",
              " 30000,\n",
              " 30000,\n",
              " 30000,\n",
              " 30000,\n",
              " 19015]"
            ]
          },
          "metadata": {
            "tags": []
          },
          "execution_count": 42
        }
      ]
    },
    {
      "cell_type": "code",
      "metadata": {
        "colab": {
          "base_uri": "https://localhost:8080/"
        },
        "id": "ncXOibZpvmba",
        "outputId": "92783c4b-508e-4289-e8b4-09d3157e0a4d"
      },
      "source": [
        "len(upgraded_data)"
      ],
      "execution_count": null,
      "outputs": [
        {
          "output_type": "execute_result",
          "data": {
            "text/plain": [
              "349015"
            ]
          },
          "metadata": {
            "tags": []
          },
          "execution_count": 43
        }
      ]
    },
    {
      "cell_type": "code",
      "metadata": {
        "colab": {
          "base_uri": "https://localhost:8080/"
        },
        "id": "Zhxo_ZWZ4Roj",
        "outputId": "86479f71-47cc-424d-eb65-a9bfa9fcad19"
      },
      "source": [
        "upgraded_data[0]"
      ],
      "execution_count": null,
      "outputs": [
        {
          "output_type": "execute_result",
          "data": {
            "text/plain": [
              "('3r4/pp4pp/8/2nBP3/P1P5/2k1K3/6PP/5R2 w - -',\n",
              " 'a8: , b8: , c8: , d8: black rook, e8: , f8: , g8: , h8: , a7: black pawn, b7: black pawn, c7: , d7: , e7: , f7: , g7: black pawn, h7: black pawn, a6: , b6: , c6: , d6: , e6: , f6: , g6: , h6: , a5: , b5: , c5: black knight, d5: white bishop, e5: white pawn, f5: , g5: , h5: , a4: white pawn, b4: , c4: white pawn, d4: , e4: , f4: , g4: , h4: , a3: , b3: , c3: black king, d3: , e3: white king, f3: , g3: , h3: , a2: , b2: , c2: , d2: , e2: , f2: , g2: white pawn, h2: white pawn, a1: , b1: , c1: , d1: , e1: , f1: white rook, g1: , h1: ',\n",
              " 'Kc3',\n",
              " 'king c3',\n",
              " 'white',\n",
              " ['Rb1',\n",
              "  'Kf3',\n",
              "  'Ke2',\n",
              "  'Bxb7',\n",
              "  'Rh1',\n",
              "  'Rg1',\n",
              "  'Bc6',\n",
              "  'Rc1+',\n",
              "  'g4',\n",
              "  'Bf7',\n",
              "  'Rf4',\n",
              "  'Rf6',\n",
              "  'Bg8',\n",
              "  'g3',\n",
              "  'Rf7',\n",
              "  'Bf3',\n",
              "  'Rf3',\n",
              "  'Be6',\n",
              "  'Be4',\n",
              "  'a5',\n",
              "  'h3',\n",
              "  'Rf8',\n",
              "  'Ra1',\n",
              "  'Rf5',\n",
              "  'Kf2',\n",
              "  'Re1',\n",
              "  'h4',\n",
              "  'Rd1',\n",
              "  'Rf2',\n",
              "  'Kf4',\n",
              "  'e6'],\n",
              " [],\n",
              " ['b2', 'c2', 'd2', 'b3', 'd3', 'b4', 'c4', 'd4'],\n",
              " 'another beautiful variation: if 37. ... re8, attacking the e5 pawn, white plays 38. rf7 anyway! the point is 38. ... rxe5+? 39. kd4! nd3 40. be4 winning the knight. even though the mating threats have finally gone away, the position of black\\'s king is still a problem! freddy says, \"enough already,\" and moves to reunite his king with the rest of his army.')"
            ]
          },
          "metadata": {
            "tags": []
          },
          "execution_count": 50
        }
      ]
    },
    {
      "cell_type": "code",
      "metadata": {
        "colab": {
          "base_uri": "https://localhost:8080/"
        },
        "id": "ddAdksZH4Vb4",
        "outputId": "fca3d47e-7edb-4b16-f0fb-391152a885dc"
      },
      "source": [
        "upgraded_data[9999]"
      ],
      "execution_count": null,
      "outputs": [
        {
          "output_type": "execute_result",
          "data": {
            "text/plain": [
              "('r1bqk1nr/pp1p1ppp/2n1p3/2b5/3NP3/2N1B3/PPP2PPP/R2QKB1R b KQkq -',\n",
              " 'a8: black rook, b8: , c8: black bishop, d8: black queen, e8: black king, f8: , g8: black knight, h8: black rook, a7: black pawn, b7: black pawn, c7: , d7: black pawn, e7: , f7: black pawn, g7: black pawn, h7: black pawn, a6: , b6: , c6: black knight, d6: , e6: black pawn, f6: , g6: , h6: , a5: , b5: , c5: black bishop, d5: , e5: , f5: , g5: , h5: , a4: , b4: , c4: , d4: white knight, e4: white pawn, f4: , g4: , h4: , a3: , b3: , c3: white knight, d3: , e3: white bishop, f3: , g3: , h3: , a2: white pawn, b2: white pawn, c2: white pawn, d2: , e2: , f2: white pawn, g2: white pawn, h2: white pawn, a1: white rook, b1: , c1: , d1: white queen, e1: white king, f1: white bishop, g1: , h1: white rook',\n",
              " 'Be3',\n",
              " 'bishop e3',\n",
              " 'black',\n",
              " ['Nb8',\n",
              "  'Nh6',\n",
              "  'h6',\n",
              "  'Nf6',\n",
              "  'Qf6',\n",
              "  'Ne5',\n",
              "  'Ba3',\n",
              "  'Nce7',\n",
              "  'h5',\n",
              "  'Qc7',\n",
              "  'Be7',\n",
              "  'Qg5',\n",
              "  'Nb4',\n",
              "  'Qb6',\n",
              "  'Qh4',\n",
              "  'b6',\n",
              "  'Na5',\n",
              "  'd5',\n",
              "  'Ke7',\n",
              "  'a5',\n",
              "  'Rb8',\n",
              "  'Nxd4',\n",
              "  'Nge7',\n",
              "  'Qa5',\n",
              "  'Bf8',\n",
              "  'Bd6',\n",
              "  'Bb6',\n",
              "  'Qe7',\n",
              "  'Bb4',\n",
              "  'g6',\n",
              "  'e5',\n",
              "  'Bxd4',\n",
              "  'b5',\n",
              "  'g5',\n",
              "  'f5',\n",
              "  'a6',\n",
              "  'Kf8',\n",
              "  'd6',\n",
              "  'f6'],\n",
              " ['f2'],\n",
              " ['c1', 'd2', 'f2', 'd4', 'f4', 'g5', 'h6'],\n",
              " 'so, the standard reply without further thought was this.')"
            ]
          },
          "metadata": {
            "tags": []
          },
          "execution_count": 52
        }
      ]
    },
    {
      "cell_type": "code",
      "metadata": {
        "colab": {
          "base_uri": "https://localhost:8080/"
        },
        "id": "tWhD_2o74TwI",
        "outputId": "1de68724-5be3-42d8-ef65-a1e6d5a068cd"
      },
      "source": [
        "upgraded_data[-1]"
      ],
      "execution_count": null,
      "outputs": [
        {
          "output_type": "execute_result",
          "data": {
            "text/plain": [
              "('r1b1r1k1/1pqn1pbp/p2p1np1/2pP4/2N1P3/2N2P2/PP2B1PP/R1BQ1RK1 w - -',\n",
              " 'a8: black rook, b8: , c8: black bishop, d8: , e8: black rook, f8: , g8: black king, h8: , a7: , b7: black pawn, c7: black queen, d7: black knight, e7: , f7: black pawn, g7: black bishop, h7: black pawn, a6: black pawn, b6: , c6: , d6: black pawn, e6: , f6: black knight, g6: black pawn, h6: , a5: , b5: , c5: black pawn, d5: white pawn, e5: , f5: , g5: , h5: , a4: , b4: , c4: white knight, d4: , e4: white pawn, f4: , g4: , h4: , a3: , b3: , c3: white knight, d3: , e3: , f3: white pawn, g3: , h3: , a2: white pawn, b2: white pawn, c2: , d2: , e2: white bishop, f2: , g2: white pawn, h2: white pawn, a1: white rook, b1: , c1: white bishop, d1: white queen, e1: , f1: white rook, g1: white king, h1: ',\n",
              " 'Qc7',\n",
              " 'queen c7',\n",
              " 'white',\n",
              " ['Bd2',\n",
              "  'Nb1',\n",
              "  'Rb1',\n",
              "  'Qd3',\n",
              "  'Qe1',\n",
              "  'Ne3',\n",
              "  'Ne5',\n",
              "  'g4',\n",
              "  'Qc2',\n",
              "  'Qa4',\n",
              "  'g3',\n",
              "  'Qd2',\n",
              "  'Kh1',\n",
              "  'b3',\n",
              "  'a4',\n",
              "  'Nb6',\n",
              "  'Na5',\n",
              "  'Be3',\n",
              "  'f4',\n",
              "  'Na3',\n",
              "  'h3',\n",
              "  'Na4',\n",
              "  'Nxd6',\n",
              "  'b4',\n",
              "  'Bf4',\n",
              "  'Qb3',\n",
              "  'Bg5',\n",
              "  'Bh6',\n",
              "  'Qd4',\n",
              "  'Bd3',\n",
              "  'Kf2',\n",
              "  'Re1',\n",
              "  'a3',\n",
              "  'h4',\n",
              "  'Rf2',\n",
              "  'e5',\n",
              "  'Nd2',\n",
              "  'Nb5'],\n",
              " [],\n",
              " ['a5', 'c5', 'b6', 'c6', 'd6', 'b7', 'd7', 'b8', 'c8', 'd8'],\n",
              " '12) ..nb6 is much better, perhaps even putting black in a better spot. it defends the pawn, develops a piece, and attacks a more active white piece. ')"
            ]
          },
          "metadata": {
            "tags": []
          },
          "execution_count": 51
        }
      ]
    },
    {
      "cell_type": "code",
      "metadata": {
        "colab": {
          "base_uri": "https://localhost:8080/"
        },
        "id": "63HiWGBV4YXo",
        "outputId": "3d71ec2f-71aa-46fe-ddff-8755fc549465"
      },
      "source": [
        "upgraded_data[66666]"
      ],
      "execution_count": null,
      "outputs": [
        {
          "output_type": "execute_result",
          "data": {
            "text/plain": [
              "('r1bqnrk1/pppnp1bp/3p1ppB/8/2PPP3/2NB1N2/PP1Q1PPP/R3K2R b KQ -',\n",
              " 'a8: black rook, b8: , c8: black bishop, d8: black queen, e8: black knight, f8: black rook, g8: black king, h8: , a7: black pawn, b7: black pawn, c7: black pawn, d7: black knight, e7: black pawn, f7: , g7: black bishop, h7: black pawn, a6: , b6: , c6: , d6: black pawn, e6: , f6: black pawn, g6: black pawn, h6: white bishop, a5: , b5: , c5: , d5: , e5: , f5: , g5: , h5: , a4: , b4: , c4: white pawn, d4: white pawn, e4: white pawn, f4: , g4: , h4: , a3: , b3: , c3: white knight, d3: white bishop, e3: , f3: white knight, g3: , h3: , a2: white pawn, b2: white pawn, c2: , d2: white queen, e2: , f2: white pawn, g2: white pawn, h2: white pawn, a1: white rook, b1: , c1: , d1: , e1: white king, f1: , g1: , h1: white rook',\n",
              " 'Bh6, Nd7, Bd3',\n",
              " 'bishop d3',\n",
              " 'black',\n",
              " ['Bh8',\n",
              "  'c6',\n",
              "  'Nb8',\n",
              "  'Kf7',\n",
              "  'Ne5',\n",
              "  'Rf7',\n",
              "  'Nb6',\n",
              "  'b6',\n",
              "  'd5',\n",
              "  'Kh8',\n",
              "  'a5',\n",
              "  'Rb8',\n",
              "  'c5',\n",
              "  'Bxh6',\n",
              "  'Nc5',\n",
              "  'e5',\n",
              "  'b5',\n",
              "  'g5',\n",
              "  'f5',\n",
              "  'a6',\n",
              "  'e6'],\n",
              " ['d2'],\n",
              " ['b1', 'f1', 'c2', 'e2', 'c4', 'e4'],\n",
              " \"white's position looks much more active than black's but black's has great potential.  my plan is to launch a kingside storm typical of the king's indian.\")"
            ]
          },
          "metadata": {
            "tags": []
          },
          "execution_count": 53
        }
      ]
    }
  ]
}