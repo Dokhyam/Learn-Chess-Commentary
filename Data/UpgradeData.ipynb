{
  "nbformat": 4,
  "nbformat_minor": 0,
  "metadata": {
    "colab": {
      "name": "upgrade_data.ipynb",
      "provenance": [],
      "collapsed_sections": [
        "oSR6ZkOjdi78",
        "NJZ1CV6LdnGR",
        "ZXv54GLcd1GQ",
        "fC74wxJ2eN0h"
      ],
      "toc_visible": true
    },
    "kernelspec": {
      "name": "python3",
      "display_name": "Python 3"
    }
  },
  "cells": [
    {
      "cell_type": "markdown",
      "metadata": {
        "id": "oSR6ZkOjdi78"
      },
      "source": [
        "# load"
      ]
    },
    {
      "cell_type": "code",
      "metadata": {
        "id": "AdBu1QoIj_qu"
      },
      "source": [
        "import pickle"
      ],
      "execution_count": 1,
      "outputs": []
    },
    {
      "cell_type": "code",
      "metadata": {
        "id": "Wyqpol6xdV3h",
        "colab": {
          "base_uri": "https://localhost:8080/"
        },
        "outputId": "982cb4c4-d80c-4ff1-f8e1-69c561d297d1"
      },
      "source": [
        "\n",
        "from google.colab import drive\n",
        "drive.mount('/content/drive')"
      ],
      "execution_count": 2,
      "outputs": [
        {
          "output_type": "stream",
          "text": [
            "Mounted at /content/drive\n"
          ],
          "name": "stdout"
        }
      ]
    },
    {
      "cell_type": "code",
      "metadata": {
        "id": "RZsvsqIjdZN5"
      },
      "source": [
        "BASE_PATH = '/content/drive/MyDrive/NLP/Data/'\n",
        "games_data_path = BASE_PATH + 'FEN/games_data'\n",
        "NUMER_OF_DATA_DIRS = 13"
      ],
      "execution_count": 3,
      "outputs": []
    },
    {
      "cell_type": "code",
      "metadata": {
        "id": "ptX-2SnUdcfY"
      },
      "source": [
        "paths = [f'{games_data_path}{i+1}.p' for i in range(NUMER_OF_DATA_DIRS)]"
      ],
      "execution_count": 4,
      "outputs": []
    },
    {
      "cell_type": "code",
      "metadata": {
        "id": "pwV2WbP_deJY"
      },
      "source": [
        "data = []\n",
        "for path in paths:\n",
        "    with open(path, 'rb') as file:\n",
        "        raw_data = pickle.load(file)\n",
        "    data.extend(raw_data)"
      ],
      "execution_count": 5,
      "outputs": []
    },
    {
      "cell_type": "code",
      "metadata": {
        "colab": {
          "base_uri": "https://localhost:8080/"
        },
        "id": "_FPoEqwjYh8U",
        "outputId": "53a53e98-ba6d-4af2-876d-88dfdb701025"
      },
      "source": [
        "len(data)"
      ],
      "execution_count": 6,
      "outputs": [
        {
          "output_type": "execute_result",
          "data": {
            "text/plain": [
              "350027"
            ]
          },
          "metadata": {
            "tags": []
          },
          "execution_count": 6
        }
      ]
    },
    {
      "cell_type": "code",
      "metadata": {
        "id": "6Kpsq8jDgRLz",
        "colab": {
          "base_uri": "https://localhost:8080/"
        },
        "outputId": "fffc8ef2-6abd-451b-f478-029b7bd4c16e"
      },
      "source": [
        "len(list(set(data)))"
      ],
      "execution_count": 7,
      "outputs": [
        {
          "output_type": "execute_result",
          "data": {
            "text/plain": [
              "349015"
            ]
          },
          "metadata": {
            "tags": []
          },
          "execution_count": 7
        }
      ]
    },
    {
      "cell_type": "code",
      "metadata": {
        "id": "PdDszxteYzQA"
      },
      "source": [
        "data = list(set(data))"
      ],
      "execution_count": 8,
      "outputs": []
    },
    {
      "cell_type": "markdown",
      "metadata": {
        "id": "NJZ1CV6LdnGR"
      },
      "source": [
        "# board"
      ]
    },
    {
      "cell_type": "code",
      "metadata": {
        "id": "VvVJv8zHdn5A"
      },
      "source": [
        "col_names = 'abcdefgh'\n",
        "row_names = '87654321'\n",
        "pieces = {'r': 'black rook',\n",
        "          'n': 'black knight',\n",
        "          'b': 'black bishop',\n",
        "          'q': 'black queen', \n",
        "          'k': 'black king',\n",
        "          'p': 'black pawn',\n",
        "          'R': 'white rook',\n",
        "          'N': 'white knight',\n",
        "          'B': 'white bishop',\n",
        "          'Q': 'white queen', \n",
        "          'K': 'white king',\n",
        "          'P': 'white pawn'}"
      ],
      "execution_count": null,
      "outputs": []
    },
    {
      "cell_type": "code",
      "metadata": {
        "id": "24znfxBedpz0"
      },
      "source": [
        "def board_to_text(board):\n",
        "  text = \"\"\n",
        "  rows = board.split(\"/\")\n",
        "  for inx, row in enumerate(row_names):\n",
        "    row_values = rows[inx]\n",
        "    col_num = 0\n",
        "    for value in row_values:\n",
        "      if value in '12345678':\n",
        "        for i in range(int(value)):\n",
        "          text += col_names[col_num] + row + \": , \"\n",
        "          col_num += 1\n",
        "      elif value == '-':\n",
        "        print('STRANGE!')\n",
        "        text += col_names[col_num] + row + \": \" + pieces['p'] + \", \"\n",
        "        col_num += 1\n",
        "      else:\n",
        "        text +=  col_names[col_num] + row + \": \" + pieces[value] + \", \"\n",
        "        col_num += 1\n",
        "  return text[:-2]"
      ],
      "execution_count": null,
      "outputs": []
    },
    {
      "cell_type": "markdown",
      "metadata": {
        "id": "ZXv54GLcd1GQ"
      },
      "source": [
        "# move"
      ]
    },
    {
      "cell_type": "code",
      "metadata": {
        "id": "X3sFO0UJd8LZ"
      },
      "source": [
        "def map_move_piece(x):\n",
        "    if x==\"K\":\n",
        "        return \"king\"\n",
        "    elif x==\"Q\":\n",
        "        return \"queen\"\n",
        "    elif x==\"R\":\n",
        "        return \"rook\"\n",
        "    elif x==\"B\":\n",
        "        return \"bishop\"\n",
        "    elif x==\"N\":\n",
        "        return \"knight\"\n",
        "    else:\n",
        "        return \"pawn \"+x"
      ],
      "execution_count": 9,
      "outputs": []
    },
    {
      "cell_type": "code",
      "metadata": {
        "id": "HH-D5abdd9nA"
      },
      "source": [
        "def parse_one_move(move):\n",
        "  parsed = \"\"\n",
        "\n",
        "  # Nxg2+\n",
        "  if move[-1]==\"+\":\n",
        "    parsed = \"check: \"\n",
        "    move = move[:-1]\n",
        "\n",
        "  # Rd2#\n",
        "  elif move[-1]==\"#\":\n",
        "    parse = \"checkmate: \"\n",
        "    move = move[:-1]\n",
        "\n",
        "  # O-O\n",
        "  if move == 'O-O':\n",
        "    parse+= 'castling'\n",
        "    return parse\n",
        "\n",
        "  len_move = len(move)\n",
        "  \n",
        "  if \"x\" not in move: \n",
        "    # h6 \n",
        "    if len_move == 2:\n",
        "      parsed+= \"pawn \"+ move\n",
        "    \n",
        "    # Ng4\n",
        "    elif len_move == 3:\n",
        "      parsed+=  map_move_piece(move[0]) + \" \" + move[1:]\n",
        "    \n",
        "    # Nbc6\n",
        "    elif len_move == 4:\n",
        "      parsed+=  map_move_piece(move[0]) + \" \" + move[1] + \" \" + move[2:]\n",
        "    \n",
        "    # Ra5a6\n",
        "    elif len_move == 5:\n",
        "      parsed+=  map_move_piece(move[0]) + \" \" + move[1:3] + \" \" + move[3:]\n",
        "\n",
        "  else: # \"x\" in move\n",
        "    # Qxf6\n",
        "    if len_move == 4:\n",
        "      parsed+=  map_move_piece(move[0]) + \" takes \" + move[2:]\n",
        "\n",
        "    # Ngxe7, Nfxh7\n",
        "    elif len_move == 5: \n",
        "      parsed+=  map_move_piece(move[0]) + \" \" + move[1] + \" takes \" + move[3:]\n",
        "\n",
        "    # Re6xe7\n",
        "    elif len_move == 6:\n",
        "      parsed+=  map_move_piece(move[0]) + \" \" + move[1:3] + \" takes \" + move[4:]\n",
        "\n",
        "  if parsed == \"\":\n",
        "    print(\"strangeMove: \", move)\n",
        "    return \"<strangeMove>\"\n",
        "\n",
        "  return parsed"
      ],
      "execution_count": 10,
      "outputs": []
    },
    {
      "cell_type": "markdown",
      "metadata": {
        "id": "fC74wxJ2eN0h"
      },
      "source": [
        "# python-chess"
      ]
    },
    {
      "cell_type": "markdown",
      "metadata": {
        "id": "TcBZaRiFeBmT"
      },
      "source": [
        "https://python-chess.readthedocs.io/en/latest/"
      ]
    },
    {
      "cell_type": "code",
      "metadata": {
        "id": "aAjTk88sh55M"
      },
      "source": [
        "!pip install python-chess"
      ],
      "execution_count": null,
      "outputs": []
    },
    {
      "cell_type": "code",
      "metadata": {
        "id": "DGhQ_rGBiCxj"
      },
      "source": [
        "import chess"
      ],
      "execution_count": 12,
      "outputs": []
    },
    {
      "cell_type": "code",
      "metadata": {
        "id": "gDoI2U4biHWK"
      },
      "source": [
        "board = chess.Board('rnb1kb1r/3ppppp/5n2/qNpP4/8/8/PP2PPPP/R1BQKBNR w KQkq - 0 0')"
      ],
      "execution_count": 16,
      "outputs": []
    },
    {
      "cell_type": "code",
      "metadata": {
        "id": "keQAvtQ1iLT6",
        "colab": {
          "base_uri": "https://localhost:8080/"
        },
        "outputId": "e171c84e-3b0a-4381-ea92-b4b3b212cefe"
      },
      "source": [
        "print(board)"
      ],
      "execution_count": null,
      "outputs": [
        {
          "output_type": "stream",
          "text": [
            "r n b . k b . r\n",
            ". . . p p p p p\n",
            ". . . . . n . .\n",
            "q N p P . . . .\n",
            ". . . . . . . .\n",
            ". . . . . . . .\n",
            "P P . . P P P P\n",
            "R . B Q K B N R\n"
          ],
          "name": "stdout"
        }
      ]
    },
    {
      "cell_type": "code",
      "metadata": {
        "id": "5nudYhD-iLk6"
      },
      "source": [
        "if board.is_game_over():\n",
        "  print(\"GAME OVER\") \n",
        "elif board.is_stalemate():\n",
        "  print(\"STALE situation\")"
      ],
      "execution_count": null,
      "outputs": []
    },
    {
      "cell_type": "code",
      "metadata": {
        "colab": {
          "base_uri": "https://localhost:8080/"
        },
        "id": "ryJJ9eUZQ2iN",
        "outputId": "f0485250-02c0-4b13-f672-8a46ae518f9c"
      },
      "source": [
        "board.turn"
      ],
      "execution_count": null,
      "outputs": [
        {
          "output_type": "execute_result",
          "data": {
            "text/plain": [
              "True"
            ]
          },
          "metadata": {
            "tags": []
          },
          "execution_count": 18
        }
      ]
    },
    {
      "cell_type": "markdown",
      "metadata": {
        "id": "qpJgxL8hXvlQ"
      },
      "source": [
        "castling"
      ]
    },
    {
      "cell_type": "code",
      "metadata": {
        "id": "MIkC4vVgVHEh"
      },
      "source": [
        "castling_rights = \"\"\n",
        "if board.has_castling_rights(chess.WHITE):\n",
        "  castling_rights += \"white\"\n",
        "if board.has_castling_rights(chess.BLACK):\n",
        "  castling_rights += \"black\" if castling_rights == \"\" else \" and black\""
      ],
      "execution_count": null,
      "outputs": []
    },
    {
      "cell_type": "code",
      "metadata": {
        "colab": {
          "base_uri": "https://localhost:8080/"
        },
        "id": "xSqmAIeLYBgB",
        "outputId": "633b6737-a490-489e-9202-f3b80f97aaeb"
      },
      "source": [
        "castling_rights"
      ],
      "execution_count": null,
      "outputs": [
        {
          "output_type": "execute_result",
          "data": {
            "application/vnd.google.colaboratory.intrinsic+json": {
              "type": "string"
            },
            "text/plain": [
              "'white and black'"
            ]
          },
          "metadata": {
            "tags": []
          },
          "execution_count": 20
        }
      ]
    },
    {
      "cell_type": "markdown",
      "metadata": {
        "id": "ciAKMDcqfeT5"
      },
      "source": [
        "legal moves"
      ]
    },
    {
      "cell_type": "code",
      "metadata": {
        "id": "xVgUkBCFiNNL"
      },
      "source": [
        "def get_legal_moves(board):\n",
        "  legal_moves = set()\n",
        "  for move in board.legal_moves:\n",
        "    uci_move = board.uci(move)\n",
        "    legal_moves.add(uci_move)\n",
        "    \n",
        "  return legal_moves"
      ],
      "execution_count": 13,
      "outputs": []
    },
    {
      "cell_type": "code",
      "metadata": {
        "colab": {
          "base_uri": "https://localhost:8080/"
        },
        "id": "rwQEQVRij8n3",
        "outputId": "54fa2041-67b8-4442-f23e-7bbbb27c00bf"
      },
      "source": [
        "get_legal_moves(board)"
      ],
      "execution_count": 17,
      "outputs": [
        {
          "output_type": "execute_result",
          "data": {
            "text/plain": [
              "{'b2b4', 'b5c3', 'c1d2', 'd1d2'}"
            ]
          },
          "metadata": {
            "tags": []
          },
          "execution_count": 17
        }
      ]
    },
    {
      "cell_type": "code",
      "metadata": {
        "id": "d_g8E177j0lo"
      },
      "source": [
        "legal_moves = set()\n",
        "for move in board.legal_moves: \n",
        "  legal_moves.add(board.san(board.parse_uci(str(move))))"
      ],
      "execution_count": 18,
      "outputs": []
    },
    {
      "cell_type": "code",
      "metadata": {
        "colab": {
          "base_uri": "https://localhost:8080/"
        },
        "id": "6Y6qrNw5CtpZ",
        "outputId": "7b1e3470-3619-4b97-b784-0ba3cb8902df"
      },
      "source": [
        "legal_moves"
      ],
      "execution_count": 19,
      "outputs": [
        {
          "output_type": "execute_result",
          "data": {
            "text/plain": [
              "{'Bd2', 'Nc3', 'Qd2', 'b4'}"
            ]
          },
          "metadata": {
            "tags": []
          },
          "execution_count": 19
        }
      ]
    },
    {
      "cell_type": "code",
      "metadata": {
        "id": "37owZ1EyNQDk"
      },
      "source": [
        "# Pseudo-legal moves might leave or put the king in check, but are otherwise valid.\n",
        "pseudo_legal_moves = set()\n",
        "for move in board.pseudo_legal_moves: \n",
        "  pseudo_legal_moves.add(board.san(chess.Move.from_uci(str(move))))"
      ],
      "execution_count": 20,
      "outputs": []
    },
    {
      "cell_type": "code",
      "metadata": {
        "colab": {
          "base_uri": "https://localhost:8080/"
        },
        "id": "8aCawRgsNa8A",
        "outputId": "966393b8-87ed-4fc4-d988-8158c1318e17"
      },
      "source": [
        "pseudo_legal_moves"
      ],
      "execution_count": 21,
      "outputs": [
        {
          "output_type": "execute_result",
          "data": {
            "text/plain": [
              "{'Bd2',\n",
              " 'Be3',\n",
              " 'Bf4',\n",
              " 'Bg5',\n",
              " 'Bh6',\n",
              " 'Kd2',\n",
              " 'Na3',\n",
              " 'Na7',\n",
              " 'Nc3',\n",
              " 'Nc7+',\n",
              " 'Nd4',\n",
              " 'Nd6+',\n",
              " 'Nf3',\n",
              " 'Nh3',\n",
              " 'Qa4',\n",
              " 'Qb3',\n",
              " 'Qc2',\n",
              " 'Qd2',\n",
              " 'Qd3',\n",
              " 'Qd4',\n",
              " 'Rb1',\n",
              " 'a3',\n",
              " 'a4',\n",
              " 'b3',\n",
              " 'b4',\n",
              " 'd6',\n",
              " 'e3',\n",
              " 'e4',\n",
              " 'f3',\n",
              " 'f4',\n",
              " 'g3',\n",
              " 'g4',\n",
              " 'h3',\n",
              " 'h4'}"
            ]
          },
          "metadata": {
            "tags": []
          },
          "execution_count": 21
        }
      ]
    },
    {
      "cell_type": "markdown",
      "metadata": {
        "id": "BwjJwB8EffVQ"
      },
      "source": [
        "attack"
      ]
    },
    {
      "cell_type": "code",
      "metadata": {
        "id": "lIoHhPGuqn9O"
      },
      "source": [
        "# ranks = rows referred to by numbers. Files = columns.\n",
        "def square_index(file_rank_string): \n",
        "  file_to_value = {\"a\":0, \"b\":1, \"c\":2, \"d\":3, \"e\":4 , \"f\":5, \"g\":6, \"h\":7}\n",
        "  file, rank = file_rank_string[0], file_rank_string[1]\n",
        "  file = file_to_value[file]\n",
        "  index = chess.square(file_index=file, rank_index=int(rank)-1)\n",
        "  return index"
      ],
      "execution_count": 22,
      "outputs": []
    },
    {
      "cell_type": "code",
      "metadata": {
        "id": "2WWC35vcfdc5"
      },
      "source": [
        "def getAttackers(board, square):\n",
        "    if board.turn:\n",
        "        player = chess.BLACK  # board.turn == True if White's turn, so Black did the last move.\n",
        "    else:\n",
        "        player = chess.WHITE\n",
        "    \n",
        "    attackers = board.attackers(player, square_index(square))\n",
        "    attacks = board.attacks(square_index(square))\n",
        "    \n",
        "    attackers_list = [chess.square_name(attacker) for attacker in attackers]\n",
        "    attacks_list = [chess.square_name(attack) for attack in attacks]\n",
        "\n",
        "    return attackers_list, attacks_list"
      ],
      "execution_count": 23,
      "outputs": []
    },
    {
      "cell_type": "code",
      "metadata": {
        "id": "5qUtHnSZr98a"
      },
      "source": [
        "attackers_list, attacks_list = getAttackers(board, 'a5')"
      ],
      "execution_count": 24,
      "outputs": []
    },
    {
      "cell_type": "code",
      "metadata": {
        "id": "bd3XK2M8jNRb"
      },
      "source": [
        "square_with_pieces = [chess.square_name(key) for key in board.piece_map().keys()]"
      ],
      "execution_count": 25,
      "outputs": []
    },
    {
      "cell_type": "code",
      "metadata": {
        "id": "IRHtjVpNoFB5"
      },
      "source": [
        "attacks_with_pieces = list(set(attacks_list).intersection(set(square_with_pieces)))"
      ],
      "execution_count": 26,
      "outputs": []
    },
    {
      "cell_type": "code",
      "metadata": {
        "colab": {
          "base_uri": "https://localhost:8080/"
        },
        "id": "RjsCrjwDo8BU",
        "outputId": "eca04202-bdaa-40b0-84ab-58627e6b41f2"
      },
      "source": [
        "attacks_with_pieces"
      ],
      "execution_count": 27,
      "outputs": [
        {
          "output_type": "execute_result",
          "data": {
            "text/plain": [
              "['a8', 'e1', 'a2', 'b5']"
            ]
          },
          "metadata": {
            "tags": []
          },
          "execution_count": 27
        }
      ]
    },
    {
      "cell_type": "markdown",
      "metadata": {
        "id": "sHN3gt6CuNQu"
      },
      "source": [
        "check"
      ]
    },
    {
      "cell_type": "code",
      "metadata": {
        "id": "FkA865wLuJyo"
      },
      "source": [
        "# board.checkers() \n",
        "# board.gives_check(legal_moves)"
      ],
      "execution_count": null,
      "outputs": []
    },
    {
      "cell_type": "code",
      "metadata": {
        "id": "495RDtEGuaNl",
        "colab": {
          "base_uri": "https://localhost:8080/"
        },
        "outputId": "a64beb57-fe26-46c2-de90-d93ce125c9e8"
      },
      "source": [
        "board.is_check()"
      ],
      "execution_count": null,
      "outputs": [
        {
          "output_type": "execute_result",
          "data": {
            "text/plain": [
              "True"
            ]
          },
          "metadata": {
            "tags": []
          },
          "execution_count": 31
        }
      ]
    },
    {
      "cell_type": "code",
      "metadata": {
        "colab": {
          "base_uri": "https://localhost:8080/"
        },
        "id": "iM8LAOFlHAnw",
        "outputId": "8bda4acc-a542-4968-b040-d02ec6fe8636"
      },
      "source": [
        "board.is_checkmate()"
      ],
      "execution_count": null,
      "outputs": [
        {
          "output_type": "execute_result",
          "data": {
            "text/plain": [
              "False"
            ]
          },
          "metadata": {
            "tags": []
          },
          "execution_count": 32
        }
      ]
    },
    {
      "cell_type": "markdown",
      "metadata": {
        "id": "M1Tvc65ceQ1a"
      },
      "source": [
        "# save new data"
      ]
    },
    {
      "cell_type": "code",
      "metadata": {
        "id": "hHevqGeNS9hD"
      },
      "source": [
        "from tqdm import tqdm "
      ],
      "execution_count": 28,
      "outputs": []
    },
    {
      "cell_type": "code",
      "metadata": {
        "id": "wYVEPyaaT-bJ"
      },
      "source": [
        "new_data = []\n",
        "counter = 0"
      ],
      "execution_count": 29,
      "outputs": []
    },
    {
      "cell_type": "code",
      "metadata": {
        "id": "EWFRRzrvfgcZ"
      },
      "source": [
        "for trio in tqdm(data, position=0, leave=True):\n",
        "  FEN = trio[0][:trio[0].find(\"|\")]\n",
        "  moves = trio[1]\n",
        "  comment = trio[2].lower()\n",
        "\n",
        "  # last move \n",
        "  last_move_UCI =  trio[0][trio[0].find(\"=\")+1:]\n",
        "  last_move_SAN = moves.split(',')[-1].replace(\" \", \"\")\n",
        "  last_move_desc = parse_one_move(last_move_SAN) if moves!='' else ''\n",
        "\n",
        "  # board \n",
        "  if '3-4' in FEN:\n",
        "    print(\"STRANGE!\")  # one sample with bug..\n",
        "    FEN = FEN.replace('3-4', '3p4')\n",
        "\n",
        "  # board_desc = board_to_text(FEN[:FEN.find(' ')])\n",
        "\n",
        "  board = chess.Board(FEN+' 0 0')\n",
        "\n",
        "  # if board.turn:\n",
        "  #   turn = \"white\"\n",
        "  # else:\n",
        "  #   turn = \"black\"\n",
        "\n",
        "  # legal moves \n",
        "  legal_moves = set()\n",
        "  for move in board.legal_moves: \n",
        "    legal_moves.add(board.san(board.parse_uci(str(move))))\n",
        "  legal_moves = list(legal_moves)\n",
        "  legal_moves = \", \".join(legal_moves)\n",
        "  \n",
        "  # attack\n",
        "  attackers_list, attacks_list = getAttackers(board, last_move_UCI[-2:])\n",
        "  \n",
        "  square_with_pieces = [chess.square_name(key) for key in board.piece_map().keys()]\n",
        "  attacks_list = list(set(attacks_list).intersection(set(square_with_pieces)))\n",
        "\n",
        "  attackers_list, attacks_list = \", \".join(attackers_list), \", \".join(attacks_list)\n",
        "\n",
        "  #sample = (FEN, board_desc, moves, last_move_desc, turn, legal_moves, attackers_list, attacks_list, comment)\n",
        "  sample = (FEN, moves, last_move_desc, legal_moves, attackers_list, attacks_list, comment)\n",
        "\n",
        "  new_data.append(sample)\n",
        "\n",
        "  counter += 1\n",
        "  if counter%30000==0:\n",
        "    saved = str(int(counter/30000))\n",
        "    pickle.dump(new_data, open(BASE_PATH+\"NEW_fix/games_data\"+saved+\".p\",\"wb\"))\n",
        "    new_data = []"
      ],
      "execution_count": null,
      "outputs": []
    },
    {
      "cell_type": "code",
      "metadata": {
        "colab": {
          "base_uri": "https://localhost:8080/"
        },
        "id": "mH1nlPcotnZQ",
        "outputId": "4b98e72e-10a9-4e4e-9d46-c23428cb3b84"
      },
      "source": [
        "len(new_data)"
      ],
      "execution_count": 31,
      "outputs": [
        {
          "output_type": "execute_result",
          "data": {
            "text/plain": [
              "19015"
            ]
          },
          "metadata": {
            "tags": []
          },
          "execution_count": 31
        }
      ]
    },
    {
      "cell_type": "code",
      "metadata": {
        "id": "Bvvh13l_sH3R"
      },
      "source": [
        "# don't forget save leftovers ;)\n",
        "saved = '12'\n",
        "pickle.dump(new_data, open(BASE_PATH+\"NEW_fix/games_data\"+saved+\".p\",\"wb\"))"
      ],
      "execution_count": 32,
      "outputs": []
    },
    {
      "cell_type": "code",
      "metadata": {
        "id": "VDKpEeyLtHQf"
      },
      "source": [
        ""
      ],
      "execution_count": null,
      "outputs": []
    },
    {
      "cell_type": "markdown",
      "metadata": {
        "id": "Mj2PEn0CwpSV"
      },
      "source": [
        "check if new data looks ok:"
      ]
    },
    {
      "cell_type": "code",
      "metadata": {
        "id": "M8oUwy3VsK43"
      },
      "source": [
        "new_games_data_path = BASE_PATH + 'NEW_fix/games_data'\n",
        "new_NUMER_OF_DATA_DIRS = 12"
      ],
      "execution_count": 33,
      "outputs": []
    },
    {
      "cell_type": "code",
      "metadata": {
        "id": "hasDcotvsRJL"
      },
      "source": [
        "new_paths = [f'{new_games_data_path}{i+1}.p' for i in range(new_NUMER_OF_DATA_DIRS)]"
      ],
      "execution_count": 34,
      "outputs": []
    },
    {
      "cell_type": "code",
      "metadata": {
        "id": "Jr4qA4oUsK2U"
      },
      "source": [
        "length = []\n",
        "upgraded_data = []\n",
        "for path in new_paths:\n",
        "    with open(path, 'rb') as file:\n",
        "        upgraded_raw_data = pickle.load(file)\n",
        "    length.append(len(upgraded_raw_data))\n",
        "    upgraded_data.extend(upgraded_raw_data)"
      ],
      "execution_count": 35,
      "outputs": []
    },
    {
      "cell_type": "code",
      "metadata": {
        "colab": {
          "base_uri": "https://localhost:8080/"
        },
        "id": "AdhoT7Pdvk_D",
        "outputId": "ae2cab7d-e74b-4cfd-ea1e-7cf4cc6d4b6c"
      },
      "source": [
        "length"
      ],
      "execution_count": 36,
      "outputs": [
        {
          "output_type": "execute_result",
          "data": {
            "text/plain": [
              "[30000,\n",
              " 30000,\n",
              " 30000,\n",
              " 30000,\n",
              " 30000,\n",
              " 30000,\n",
              " 30000,\n",
              " 30000,\n",
              " 30000,\n",
              " 30000,\n",
              " 30000,\n",
              " 19015]"
            ]
          },
          "metadata": {
            "tags": []
          },
          "execution_count": 36
        }
      ]
    },
    {
      "cell_type": "code",
      "metadata": {
        "colab": {
          "base_uri": "https://localhost:8080/"
        },
        "id": "ncXOibZpvmba",
        "outputId": "271a7197-6c08-4a64-a800-bfdc4863bdc9"
      },
      "source": [
        "len(upgraded_data)"
      ],
      "execution_count": 37,
      "outputs": [
        {
          "output_type": "execute_result",
          "data": {
            "text/plain": [
              "349015"
            ]
          },
          "metadata": {
            "tags": []
          },
          "execution_count": 37
        }
      ]
    },
    {
      "cell_type": "code",
      "metadata": {
        "id": "uVfbehX0YqP-"
      },
      "source": [
        ""
      ],
      "execution_count": null,
      "outputs": []
    },
    {
      "cell_type": "code",
      "metadata": {
        "colab": {
          "base_uri": "https://localhost:8080/"
        },
        "id": "KHv0wbNbBT-x",
        "outputId": "5d3f4061-f2dd-4d28-fbdc-0a6b299d054a"
      },
      "source": [
        "upgraded_data[66]"
      ],
      "execution_count": 38,
      "outputs": [
        {
          "output_type": "execute_result",
          "data": {
            "text/plain": [
              "('8/8/p2b1pp1/1p1kp2p/P2P1P1P/2PK2P1/1B6/8 w - -',\n",
              " 'e5',\n",
              " 'pawn e5',\n",
              " 'Kd2, Kc2, g4, Ba1, c4+, f5, a5, dxe5, axb5, Bc1, fxe5, Ke2, Ke3, Ba3',\n",
              " 'd5, d6, f6',\n",
              " 'f4, d4',\n",
              " 'black continues with his plan.')"
            ]
          },
          "metadata": {
            "tags": []
          },
          "execution_count": 38
        }
      ]
    },
    {
      "cell_type": "code",
      "metadata": {
        "colab": {
          "base_uri": "https://localhost:8080/"
        },
        "id": "xbIIkEslBT87",
        "outputId": "ace20ab6-25d4-410a-9a06-335aaec16ce9"
      },
      "source": [
        "upgraded_data[654]"
      ],
      "execution_count": 39,
      "outputs": [
        {
          "output_type": "execute_result",
          "data": {
            "text/plain": [
              "('r6r/ppknp2p/2p1bpp1/8/4P3/P3NP2/1PP1B1PP/2KR3R b - -',\n",
              " 'Be2',\n",
              " 'bishop e2',\n",
              " 'Rad8, Bf5, Bg8, Raf8, c5, Kb6, Kd8, Kc8, b6, Bf7, Ne5, Bh3, Rab8, h6, Nf8, Bg4, h5, f5, a5, Bb3, Rae8, Nc5, a6, Rac8, Nb6, Ba2, g5, Rhd8, Bc4, Nb8, Rag8, b5, Rhe8, Rhc8, Bd5, Kb8, Rhg8, Rhb8, Rhf8',\n",
              " '',\n",
              " 'd1, f3',\n",
              " 'the only move, in all variations... complete development... the temporary closure of the d-file gives us (both) precious time to re-organize, and use the half-open d-file to our benefits... black has to start a new plan...')"
            ]
          },
          "metadata": {
            "tags": []
          },
          "execution_count": 39
        }
      ]
    },
    {
      "cell_type": "code",
      "metadata": {
        "colab": {
          "base_uri": "https://localhost:8080/"
        },
        "id": "qCFpqtk6BT6q",
        "outputId": "0edd2fae-931e-4956-fa9a-9b7dc368d49f"
      },
      "source": [
        "upgraded_data[39000]"
      ],
      "execution_count": 40,
      "outputs": [
        {
          "output_type": "execute_result",
          "data": {
            "text/plain": [
              "('2rr2k1/1b3ppp/p1q1p3/1pBpP3/1Pn2P1Q/P2B4/2P3PP/R4RK1 b - -',\n",
              " 'Rfd8, Qh4',\n",
              " 'queen h4',\n",
              " 'Qxc5+, Rd6, Qb6, Ne3, g6, f6, Nb2, Qe8, Nd6, Ra8, Rd7, Re8, Rb8, Na5, h6, Qd7, h5, f5, a5, Nb6, g5, d4, Rc7, Nd2, Nxe5, Qd6, Nxa3, Kh8, Qc7, Rf8, Ba8',\n",
              " '',\n",
              " 'd8, h7, f4, h2',\n",
              " 'threatening qxh7 checkmate,  of course.')"
            ]
          },
          "metadata": {
            "tags": []
          },
          "execution_count": 40
        }
      ]
    },
    {
      "cell_type": "code",
      "metadata": {
        "colab": {
          "base_uri": "https://localhost:8080/"
        },
        "id": "o6rs9jHOCEuU",
        "outputId": "9a6e2923-4dfb-47d5-ff0e-7cbb7fc7ec23"
      },
      "source": [
        "upgraded_data[66666]"
      ],
      "execution_count": 41,
      "outputs": [
        {
          "output_type": "execute_result",
          "data": {
            "text/plain": [
              "('r1bqkb1r/pp3ppp/2nppn2/2p3N1/Q1B1P3/2PP4/PP3PPP/RNB2RK1 b kq -',\n",
              " 'Qa4',\n",
              " 'queen a4',\n",
              " 'd5, Qb6, Nh5, Ng8, g6, Ng4, b6, Kd7, Rb8, h6, Qe7, Qd7, Ke7, Qa5, h5, a5, a6, Rg8, Nxe4, b5, Bd7, Nd5, e5, Nd7, Be7, Qc7',\n",
              " '',\n",
              " 'c6, a7, c4, a2',\n",
              " 'para ano? e di dito sa kabila.')"
            ]
          },
          "metadata": {
            "tags": []
          },
          "execution_count": 41
        }
      ]
    },
    {
      "cell_type": "code",
      "metadata": {
        "id": "BEKN6a77DPsD",
        "colab": {
          "base_uri": "https://localhost:8080/"
        },
        "outputId": "e51f8d22-8791-4198-ccab-a19fa1361eff"
      },
      "source": [
        "upgraded_data[111111]"
      ],
      "execution_count": 42,
      "outputs": [
        {
          "output_type": "execute_result",
          "data": {
            "text/plain": [
              "('8/p3R3/1p3p1k/2p3rp/7r/5K1P/8/8 w - -',\n",
              " 'fxg5+, Rxg5+, Kf3, Rxh4',\n",
              " 'rook takes h4',\n",
              " 'Re4, Rc7, Rg7, Ke3, Kf2, Re2, Re1, Rxa7, Re6, Rd7, Re5, Re8, Rh7+, Re3, Ke2, Rb7, Rf7',\n",
              " '',\n",
              " 'h5, h3',\n",
              " '44............. rxh4 - now i am the equivalent of a queen up but still no white flag!')"
            ]
          },
          "metadata": {
            "tags": []
          },
          "execution_count": 42
        }
      ]
    }
  ]
}