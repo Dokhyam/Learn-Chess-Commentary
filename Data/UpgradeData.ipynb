{
  "nbformat": 4,
  "nbformat_minor": 0,
  "metadata": {
    "colab": {
      "name": "Copy of upgrade_data.ipynb",
      "provenance": [],
      "collapsed_sections": [
        "oSR6ZkOjdi78",
        "NJZ1CV6LdnGR",
        "ZXv54GLcd1GQ",
        "fC74wxJ2eN0h",
        "M1Tvc65ceQ1a"
      ],
      "toc_visible": true
    },
    "kernelspec": {
      "name": "python3",
      "display_name": "Python 3"
    }
  },
  "cells": [
    {
      "cell_type": "markdown",
      "metadata": {
        "id": "oSR6ZkOjdi78"
      },
      "source": [
        "# load"
      ]
    },
    {
      "cell_type": "code",
      "metadata": {
        "id": "AdBu1QoIj_qu"
      },
      "source": [
        "import pickle"
      ],
      "execution_count": null,
      "outputs": []
    },
    {
      "cell_type": "code",
      "metadata": {
        "id": "Wyqpol6xdV3h",
        "colab": {
          "base_uri": "https://localhost:8080/"
        },
        "outputId": "f260e0e7-59db-4be3-9462-c2116af1527e"
      },
      "source": [
        "from google.colab import drive\n",
        "drive.mount('/content/drive')"
      ],
      "execution_count": null,
      "outputs": [
        {
          "output_type": "stream",
          "text": [
            "Mounted at /content/drive\n"
          ],
          "name": "stdout"
        }
      ]
    },
    {
      "cell_type": "code",
      "metadata": {
        "id": "RZsvsqIjdZN5"
      },
      "source": [
        "BASE_PATH = '/content/drive/MyDrive/NLP/Data/'\n",
        "games_data_path = BASE_PATH + 'FEN/games_data'\n",
        "NUMER_OF_DATA_DIRS = 13"
      ],
      "execution_count": null,
      "outputs": []
    },
    {
      "cell_type": "code",
      "metadata": {
        "id": "ptX-2SnUdcfY"
      },
      "source": [
        "paths = [f'{games_data_path}{i+1}.p' for i in range(NUMER_OF_DATA_DIRS)]"
      ],
      "execution_count": null,
      "outputs": []
    },
    {
      "cell_type": "code",
      "metadata": {
        "id": "pwV2WbP_deJY"
      },
      "source": [
        "data = []\n",
        "for path in paths:\n",
        "    with open(path, 'rb') as file:\n",
        "        raw_data = pickle.load(file)\n",
        "    data.extend(raw_data)"
      ],
      "execution_count": null,
      "outputs": []
    },
    {
      "cell_type": "code",
      "metadata": {
        "colab": {
          "base_uri": "https://localhost:8080/"
        },
        "id": "_FPoEqwjYh8U",
        "outputId": "a3505570-5d7b-4ee6-b6cc-f40bcb4abe9c"
      },
      "source": [
        "len(data)"
      ],
      "execution_count": null,
      "outputs": [
        {
          "output_type": "execute_result",
          "data": {
            "text/plain": [
              "350027"
            ]
          },
          "metadata": {
            "tags": []
          },
          "execution_count": 6
        }
      ]
    },
    {
      "cell_type": "code",
      "metadata": {
        "id": "6Kpsq8jDgRLz",
        "colab": {
          "base_uri": "https://localhost:8080/"
        },
        "outputId": "2b20a2f7-e465-47f9-9494-81b3da6401b8"
      },
      "source": [
        "len(list(set(data)))"
      ],
      "execution_count": null,
      "outputs": [
        {
          "output_type": "execute_result",
          "data": {
            "text/plain": [
              "349015"
            ]
          },
          "metadata": {
            "tags": []
          },
          "execution_count": 7
        }
      ]
    },
    {
      "cell_type": "code",
      "metadata": {
        "id": "PdDszxteYzQA"
      },
      "source": [
        "data = list(set(data))"
      ],
      "execution_count": null,
      "outputs": []
    },
    {
      "cell_type": "markdown",
      "metadata": {
        "id": "NJZ1CV6LdnGR"
      },
      "source": [
        "# board"
      ]
    },
    {
      "cell_type": "code",
      "metadata": {
        "id": "VvVJv8zHdn5A"
      },
      "source": [
        "col_names = 'abcdefgh'\n",
        "row_names = '87654321'\n",
        "pieces = {'r': 'black rook',\n",
        "          'n': 'black knight',\n",
        "          'b': 'black bishop',\n",
        "          'q': 'black queen', \n",
        "          'k': 'black king',\n",
        "          'p': 'black pawn',\n",
        "          'R': 'white rook',\n",
        "          'N': 'white knight',\n",
        "          'B': 'white bishop',\n",
        "          'Q': 'white queen', \n",
        "          'K': 'white king',\n",
        "          'P': 'white pawn'}"
      ],
      "execution_count": null,
      "outputs": []
    },
    {
      "cell_type": "code",
      "metadata": {
        "id": "24znfxBedpz0"
      },
      "source": [
        "def board_to_text(board):\n",
        "  text = \"\"\n",
        "  rows = board.split(\"/\")\n",
        "  for inx, row in enumerate(row_names):\n",
        "    row_values = rows[inx]\n",
        "    col_num = 0\n",
        "    for value in row_values:\n",
        "      if value in '12345678':\n",
        "        for i in range(int(value)):\n",
        "          text += col_names[col_num] + row + \": , \"\n",
        "          col_num += 1\n",
        "      elif value == '-':\n",
        "        print('STRANGE!')\n",
        "        text += col_names[col_num] + row + \": \" + pieces['p'] + \", \"\n",
        "        col_num += 1\n",
        "      else:\n",
        "        text +=  col_names[col_num] + row + \": \" + pieces[value] + \", \"\n",
        "        col_num += 1\n",
        "  return text[:-2]"
      ],
      "execution_count": null,
      "outputs": []
    },
    {
      "cell_type": "markdown",
      "metadata": {
        "id": "ZXv54GLcd1GQ"
      },
      "source": [
        "# move"
      ]
    },
    {
      "cell_type": "code",
      "metadata": {
        "id": "X3sFO0UJd8LZ"
      },
      "source": [
        "def map_move_piece(x):\n",
        "    if x==\"K\":\n",
        "        return \"king\"\n",
        "    elif x==\"Q\":\n",
        "        return \"queen\"\n",
        "    elif x==\"R\":\n",
        "        return \"rook\"\n",
        "    elif x==\"B\":\n",
        "        return \"bishop\"\n",
        "    elif x==\"N\":\n",
        "        return \"knight\"\n",
        "    else:\n",
        "        return \"pawn \"+x"
      ],
      "execution_count": null,
      "outputs": []
    },
    {
      "cell_type": "code",
      "metadata": {
        "id": "HH-D5abdd9nA"
      },
      "source": [
        "def parse_one_move(move):\n",
        "  parsed = \"\"\n",
        "\n",
        "  # Nxg2+\n",
        "  if move[-1]==\"+\":\n",
        "    parsed = \"check: \"\n",
        "    move = move[:-1]\n",
        "\n",
        "  # Rd2#\n",
        "  elif move[-1]==\"#\":\n",
        "    parse = \"checkmate: \"\n",
        "    move = move[:-1]\n",
        "\n",
        "  # O-O\n",
        "  if move == 'O-O':\n",
        "    parse+= 'castling'\n",
        "    return parse\n",
        "\n",
        "  len_move = len(move)\n",
        "  \n",
        "  if \"x\" not in move: \n",
        "    # h6 \n",
        "    if len_move == 2:\n",
        "      parsed+= \"pawn \"+ move\n",
        "    \n",
        "    # Ng4\n",
        "    elif len_move == 3:\n",
        "      parsed+=  map_move_piece(move[0]) + \" \" + move[1:]\n",
        "    \n",
        "    # Nbc6\n",
        "    elif len_move == 4:\n",
        "      parsed+=  map_move_piece(move[0]) + \" \" + move[1] + \" \" + move[2:]\n",
        "    \n",
        "    # Ra5a6\n",
        "    elif len_move == 5:\n",
        "      parsed+=  map_move_piece(move[0]) + \" \" + move[1:3] + \" \" + move[3:]\n",
        "\n",
        "  else: # \"x\" in move\n",
        "    # Qxf6\n",
        "    if len_move == 4:\n",
        "      parsed+=  map_move_piece(move[0]) + \" takes \" + move[2:]\n",
        "\n",
        "    # Ngxe7, Nfxh7\n",
        "    elif len_move == 5: \n",
        "      parsed+=  map_move_piece(move[0]) + \" \" + move[1] + \" takes \" + move[3:]\n",
        "\n",
        "    # Re6xe7\n",
        "    elif len_move == 6:\n",
        "      parsed+=  map_move_piece(move[0]) + \" \" + move[1:3] + \" takes \" + move[4:]\n",
        "\n",
        "  if parsed == \"\":\n",
        "    print(\"strangeMove: \", move)\n",
        "    return \"<strangeMove>\"\n",
        "\n",
        "  return parsed"
      ],
      "execution_count": null,
      "outputs": []
    },
    {
      "cell_type": "markdown",
      "metadata": {
        "id": "fC74wxJ2eN0h"
      },
      "source": [
        "# python-chess"
      ]
    },
    {
      "cell_type": "markdown",
      "metadata": {
        "id": "TcBZaRiFeBmT"
      },
      "source": [
        "https://python-chess.readthedocs.io/en/latest/"
      ]
    },
    {
      "cell_type": "code",
      "metadata": {
        "id": "aAjTk88sh55M",
        "colab": {
          "base_uri": "https://localhost:8080/"
        },
        "outputId": "b3217afe-02dd-48c9-8460-b13feec9cd2c"
      },
      "source": [
        "!pip install python-chess"
      ],
      "execution_count": null,
      "outputs": [
        {
          "output_type": "stream",
          "text": [
            "Requirement already satisfied: python-chess in /usr/local/lib/python3.7/dist-packages (0.23.11)\n"
          ],
          "name": "stdout"
        }
      ]
    },
    {
      "cell_type": "code",
      "metadata": {
        "id": "DGhQ_rGBiCxj"
      },
      "source": [
        "import chess"
      ],
      "execution_count": null,
      "outputs": []
    },
    {
      "cell_type": "code",
      "metadata": {
        "id": "gDoI2U4biHWK"
      },
      "source": [
        "board = chess.Board('rnb1kb1r/3ppppp/5n2/qNpP4/8/8/PP2PPPP/R1BQKBNR w KQkq - 0 0')"
      ],
      "execution_count": null,
      "outputs": []
    },
    {
      "cell_type": "code",
      "metadata": {
        "id": "keQAvtQ1iLT6",
        "colab": {
          "base_uri": "https://localhost:8080/"
        },
        "outputId": "9f8cd1b6-942c-4a65-d19b-3bc20ddebf64"
      },
      "source": [
        "print(board)"
      ],
      "execution_count": null,
      "outputs": [
        {
          "output_type": "stream",
          "text": [
            "r n b . k b . r\n",
            ". . . p p p p p\n",
            ". . . . . n . .\n",
            "q N p P . . . .\n",
            ". . . . . . . .\n",
            ". . . . . . . .\n",
            "P P . . P P P P\n",
            "R . B Q K B N R\n"
          ],
          "name": "stdout"
        }
      ]
    },
    {
      "cell_type": "code",
      "metadata": {
        "id": "5nudYhD-iLk6"
      },
      "source": [
        "if board.is_game_over():\n",
        "  print(\"GAME OVER\") \n",
        "elif board.is_stalemate():\n",
        "  print(\"STALE situation\")"
      ],
      "execution_count": null,
      "outputs": []
    },
    {
      "cell_type": "code",
      "metadata": {
        "colab": {
          "base_uri": "https://localhost:8080/"
        },
        "id": "ryJJ9eUZQ2iN",
        "outputId": "f0485250-02c0-4b13-f672-8a46ae518f9c"
      },
      "source": [
        "board.turn"
      ],
      "execution_count": null,
      "outputs": [
        {
          "output_type": "execute_result",
          "data": {
            "text/plain": [
              "True"
            ]
          },
          "metadata": {
            "tags": []
          },
          "execution_count": 18
        }
      ]
    },
    {
      "cell_type": "markdown",
      "metadata": {
        "id": "qpJgxL8hXvlQ"
      },
      "source": [
        "castling"
      ]
    },
    {
      "cell_type": "code",
      "metadata": {
        "id": "MIkC4vVgVHEh"
      },
      "source": [
        "castling_rights = \"\"\n",
        "if board.has_castling_rights(chess.WHITE):\n",
        "  castling_rights += \"white\"\n",
        "if board.has_castling_rights(chess.BLACK):\n",
        "  castling_rights += \"black\" if castling_rights == \"\" else \" and black\""
      ],
      "execution_count": null,
      "outputs": []
    },
    {
      "cell_type": "code",
      "metadata": {
        "colab": {
          "base_uri": "https://localhost:8080/"
        },
        "id": "xSqmAIeLYBgB",
        "outputId": "633b6737-a490-489e-9202-f3b80f97aaeb"
      },
      "source": [
        "castling_rights"
      ],
      "execution_count": null,
      "outputs": [
        {
          "output_type": "execute_result",
          "data": {
            "application/vnd.google.colaboratory.intrinsic+json": {
              "type": "string"
            },
            "text/plain": [
              "'white and black'"
            ]
          },
          "metadata": {
            "tags": []
          },
          "execution_count": 20
        }
      ]
    },
    {
      "cell_type": "markdown",
      "metadata": {
        "id": "ciAKMDcqfeT5"
      },
      "source": [
        "legal moves"
      ]
    },
    {
      "cell_type": "code",
      "metadata": {
        "id": "xVgUkBCFiNNL"
      },
      "source": [
        "def get_legal_moves(board):\n",
        "  legal_moves = set()\n",
        "  for move in board.legal_moves:\n",
        "    uci_move = board.uci(move)\n",
        "    legal_moves.add(uci_move)\n",
        "    \n",
        "  return legal_moves"
      ],
      "execution_count": null,
      "outputs": []
    },
    {
      "cell_type": "code",
      "metadata": {
        "colab": {
          "base_uri": "https://localhost:8080/"
        },
        "id": "rwQEQVRij8n3",
        "outputId": "117dca5b-3cc6-473a-e97a-1bfed8230d5e"
      },
      "source": [
        "get_legal_moves(board)"
      ],
      "execution_count": null,
      "outputs": [
        {
          "output_type": "execute_result",
          "data": {
            "text/plain": [
              "{'b2b4', 'b5c3', 'c1d2', 'd1d2'}"
            ]
          },
          "metadata": {
            "tags": []
          },
          "execution_count": 22
        }
      ]
    },
    {
      "cell_type": "code",
      "metadata": {
        "id": "d_g8E177j0lo"
      },
      "source": [
        "legal_moves = set()\n",
        "for move in board.legal_moves: \n",
        "  legal_moves.add(board.san(board.parse_uci(str(move))))"
      ],
      "execution_count": null,
      "outputs": []
    },
    {
      "cell_type": "code",
      "metadata": {
        "colab": {
          "base_uri": "https://localhost:8080/"
        },
        "id": "6Y6qrNw5CtpZ",
        "outputId": "c2683909-fd9a-4640-da45-4b28b0388075"
      },
      "source": [
        "legal_moves"
      ],
      "execution_count": null,
      "outputs": [
        {
          "output_type": "execute_result",
          "data": {
            "text/plain": [
              "{'Bd2', 'Nc3', 'Qd2', 'b4'}"
            ]
          },
          "metadata": {
            "tags": []
          },
          "execution_count": 24
        }
      ]
    },
    {
      "cell_type": "code",
      "metadata": {
        "id": "37owZ1EyNQDk"
      },
      "source": [
        "# Pseudo-legal moves might leave or put the king in check, but are otherwise valid.\n",
        "pseudo_legal_moves = set()\n",
        "for move in board.pseudo_legal_moves: \n",
        "  pseudo_legal_moves.add(board.san(chess.Move.from_uci(str(move))))"
      ],
      "execution_count": null,
      "outputs": []
    },
    {
      "cell_type": "code",
      "metadata": {
        "colab": {
          "base_uri": "https://localhost:8080/"
        },
        "id": "8aCawRgsNa8A",
        "outputId": "5500c423-2418-4099-82f6-09ed9e443fac"
      },
      "source": [
        "pseudo_legal_moves"
      ],
      "execution_count": null,
      "outputs": [
        {
          "output_type": "execute_result",
          "data": {
            "text/plain": [
              "{'Bd2',\n",
              " 'Be3',\n",
              " 'Bf4',\n",
              " 'Bg5',\n",
              " 'Bh6',\n",
              " 'Kd2',\n",
              " 'Na3',\n",
              " 'Na7',\n",
              " 'Nc3',\n",
              " 'Nc7+',\n",
              " 'Nd4',\n",
              " 'Nd6+',\n",
              " 'Nf3',\n",
              " 'Nh3',\n",
              " 'Qa4',\n",
              " 'Qb3',\n",
              " 'Qc2',\n",
              " 'Qd2',\n",
              " 'Qd3',\n",
              " 'Qd4',\n",
              " 'Rb1',\n",
              " 'a3',\n",
              " 'a4',\n",
              " 'b3',\n",
              " 'b4',\n",
              " 'd6',\n",
              " 'e3',\n",
              " 'e4',\n",
              " 'f3',\n",
              " 'f4',\n",
              " 'g3',\n",
              " 'g4',\n",
              " 'h3',\n",
              " 'h4'}"
            ]
          },
          "metadata": {
            "tags": []
          },
          "execution_count": 26
        }
      ]
    },
    {
      "cell_type": "markdown",
      "metadata": {
        "id": "BwjJwB8EffVQ"
      },
      "source": [
        "attack"
      ]
    },
    {
      "cell_type": "code",
      "metadata": {
        "id": "lIoHhPGuqn9O"
      },
      "source": [
        "# ranks = rows referred to by numbers. Files = columns.\n",
        "def square_index(file_rank_string): \n",
        "  file_to_value = {\"a\":0, \"b\":1, \"c\":2, \"d\":3, \"e\":4 , \"f\":5, \"g\":6, \"h\":7}\n",
        "  file, rank = file_rank_string[0], file_rank_string[1]\n",
        "  file = file_to_value[file]\n",
        "  index = chess.square(file_index=file, rank_index=int(rank)-1)\n",
        "  return index"
      ],
      "execution_count": null,
      "outputs": []
    },
    {
      "cell_type": "code",
      "metadata": {
        "id": "2WWC35vcfdc5"
      },
      "source": [
        "def getAttackers(board, square):\n",
        "    if board.turn:\n",
        "        player = chess.BLACK  # board.turn == True if White's turn, so Black did the last move.\n",
        "    else:\n",
        "        player = chess.WHITE\n",
        "    \n",
        "    attackers = board.attackers(player, square_index(square))\n",
        "    attacks = board.attacks(square_index(square))\n",
        "    \n",
        "    attackers_list = [chess.square_name(attacker) for attacker in attackers]\n",
        "    attacks_list = [chess.square_name(attack) for attack in attacks]\n",
        "\n",
        "    return attackers_list, attacks_list"
      ],
      "execution_count": null,
      "outputs": []
    },
    {
      "cell_type": "code",
      "metadata": {
        "id": "5qUtHnSZr98a"
      },
      "source": [
        "getAttackers(board, 'a5')"
      ],
      "execution_count": null,
      "outputs": []
    },
    {
      "cell_type": "markdown",
      "metadata": {
        "id": "sHN3gt6CuNQu"
      },
      "source": [
        "check"
      ]
    },
    {
      "cell_type": "code",
      "metadata": {
        "id": "FkA865wLuJyo"
      },
      "source": [
        "# board.checkers() \n",
        "# board.gives_check(legal_moves)"
      ],
      "execution_count": null,
      "outputs": []
    },
    {
      "cell_type": "code",
      "metadata": {
        "id": "495RDtEGuaNl",
        "colab": {
          "base_uri": "https://localhost:8080/"
        },
        "outputId": "a64beb57-fe26-46c2-de90-d93ce125c9e8"
      },
      "source": [
        "board.is_check()"
      ],
      "execution_count": null,
      "outputs": [
        {
          "output_type": "execute_result",
          "data": {
            "text/plain": [
              "True"
            ]
          },
          "metadata": {
            "tags": []
          },
          "execution_count": 31
        }
      ]
    },
    {
      "cell_type": "code",
      "metadata": {
        "colab": {
          "base_uri": "https://localhost:8080/"
        },
        "id": "iM8LAOFlHAnw",
        "outputId": "8bda4acc-a542-4968-b040-d02ec6fe8636"
      },
      "source": [
        "board.is_checkmate()"
      ],
      "execution_count": null,
      "outputs": [
        {
          "output_type": "execute_result",
          "data": {
            "text/plain": [
              "False"
            ]
          },
          "metadata": {
            "tags": []
          },
          "execution_count": 32
        }
      ]
    },
    {
      "cell_type": "markdown",
      "metadata": {
        "id": "M1Tvc65ceQ1a"
      },
      "source": [
        "# save new data"
      ]
    },
    {
      "cell_type": "code",
      "metadata": {
        "id": "hHevqGeNS9hD"
      },
      "source": [
        "from tqdm import tqdm "
      ],
      "execution_count": null,
      "outputs": []
    },
    {
      "cell_type": "code",
      "metadata": {
        "id": "wYVEPyaaT-bJ"
      },
      "source": [
        "new_data = []\n",
        "counter = 0"
      ],
      "execution_count": null,
      "outputs": []
    },
    {
      "cell_type": "code",
      "metadata": {
        "id": "EWFRRzrvfgcZ",
        "colab": {
          "base_uri": "https://localhost:8080/"
        },
        "outputId": "1ab8e50e-b67a-4af7-d73d-d28831f15c46"
      },
      "source": [
        "for trio in tqdm(data, position=0, leave=True):\n",
        "  FEN = trio[0][:trio[0].find(\"|\")]\n",
        "  moves = trio[1]\n",
        "  comment = trio[2].lower()\n",
        "\n",
        "  # last move \n",
        "  last_move_UCI =  trio[0][trio[0].find(\"=\")+1:]\n",
        "  last_move_SAN = moves.split(',')[-1].replace(\" \", \"\")\n",
        "  last_move_desc = parse_one_move(last_move_SAN) if moves!='' else ''\n",
        "\n",
        "  # board \n",
        "  if '3-4' in FEN:\n",
        "    print(\"STRANGE!\")  # one sample with bug..\n",
        "    FEN = FEN.replace('3-4', '3p4')\n",
        "\n",
        "  # board_desc = board_to_text(FEN[:FEN.find(' ')])\n",
        "\n",
        "  board = chess.Board(FEN+' 0 0')\n",
        "\n",
        "  # if board.turn:\n",
        "  #   turn = \"white\"\n",
        "  # else:\n",
        "  #   turn = \"black\"\n",
        "\n",
        "  # legal moves \n",
        "  legal_moves = set()\n",
        "  for move in board.legal_moves: \n",
        "    legal_moves.add(board.san(board.parse_uci(str(move))))\n",
        "  legal_moves = list(legal_moves)\n",
        "  legal_moves = \", \".join(legal_moves)\n",
        "  \n",
        "  # attack\n",
        "  attackers_list, attacks_list = getAttackers(board, last_move_UCI[-2:])\n",
        "  attackers_list, attacks_list = \", \".join(attackers_list), \", \".join(attacks_list)\n",
        "\n",
        "  #sample = (FEN, board_desc, moves, last_move_desc, turn, legal_moves, attackers_list, attacks_list, comment)\n",
        "  sample = (FEN, moves, last_move_desc, legal_moves, attackers_list, attacks_list, comment)\n",
        "\n",
        "  new_data.append(sample)\n",
        "\n",
        "  counter += 1\n",
        "  if counter%30000==0:\n",
        "    saved = str(int(counter/30000))\n",
        "    pickle.dump(new_data, open(BASE_PATH+\"NEW/games_data\"+saved+\".p\",\"wb\"))\n",
        "    new_data = []"
      ],
      "execution_count": null,
      "outputs": [
        {
          "output_type": "stream",
          "text": [
            " 16%|█▌        | 56640/349015 [01:40<08:52, 548.73it/s]"
          ],
          "name": "stderr"
        },
        {
          "output_type": "stream",
          "text": [
            "STRANGE!\n"
          ],
          "name": "stdout"
        },
        {
          "output_type": "stream",
          "text": [
            "100%|██████████| 349015/349015 [10:23<00:00, 559.49it/s]\n"
          ],
          "name": "stderr"
        }
      ]
    },
    {
      "cell_type": "code",
      "metadata": {
        "colab": {
          "base_uri": "https://localhost:8080/"
        },
        "id": "mH1nlPcotnZQ",
        "outputId": "fa8a3fde-0295-4af4-d8c0-46170fe99331"
      },
      "source": [
        "len(new_data)"
      ],
      "execution_count": null,
      "outputs": [
        {
          "output_type": "execute_result",
          "data": {
            "text/plain": [
              "19015"
            ]
          },
          "metadata": {
            "tags": []
          },
          "execution_count": 34
        }
      ]
    },
    {
      "cell_type": "code",
      "metadata": {
        "id": "Bvvh13l_sH3R"
      },
      "source": [
        "# don't forget to save leftovers ;)\n",
        "saved = '12'\n",
        "pickle.dump(new_data, open(BASE_PATH+\"NEW/games_data\"+saved+\".p\",\"wb\"))"
      ],
      "execution_count": null,
      "outputs": []
    },
    {
      "cell_type": "markdown",
      "metadata": {
        "id": "Mj2PEn0CwpSV"
      },
      "source": [
        "check if new data looks ok:"
      ]
    },
    {
      "cell_type": "code",
      "metadata": {
        "id": "M8oUwy3VsK43"
      },
      "source": [
        "new_games_data_path = BASE_PATH + 'NEW/games_data'\n",
        "new_NUMER_OF_DATA_DIRS = 12"
      ],
      "execution_count": null,
      "outputs": []
    },
    {
      "cell_type": "code",
      "metadata": {
        "id": "hasDcotvsRJL"
      },
      "source": [
        "new_paths = [f'{new_games_data_path}{i+1}.p' for i in range(new_NUMER_OF_DATA_DIRS)]"
      ],
      "execution_count": null,
      "outputs": []
    },
    {
      "cell_type": "code",
      "metadata": {
        "id": "Jr4qA4oUsK2U"
      },
      "source": [
        "length = []\n",
        "upgraded_data = []\n",
        "for path in new_paths:\n",
        "    with open(path, 'rb') as file:\n",
        "        upgraded_raw_data = pickle.load(file)\n",
        "    length.append(len(upgraded_raw_data))\n",
        "    upgraded_data.extend(upgraded_raw_data)"
      ],
      "execution_count": null,
      "outputs": []
    },
    {
      "cell_type": "code",
      "metadata": {
        "colab": {
          "base_uri": "https://localhost:8080/"
        },
        "id": "AdhoT7Pdvk_D",
        "outputId": "2553db05-b7b4-449a-c83c-652f5c110963"
      },
      "source": [
        "length"
      ],
      "execution_count": null,
      "outputs": [
        {
          "output_type": "execute_result",
          "data": {
            "text/plain": [
              "[30000,\n",
              " 30000,\n",
              " 30000,\n",
              " 30000,\n",
              " 30000,\n",
              " 30000,\n",
              " 30000,\n",
              " 30000,\n",
              " 30000,\n",
              " 30000,\n",
              " 30000,\n",
              " 19015]"
            ]
          },
          "metadata": {
            "tags": []
          },
          "execution_count": 39
        }
      ]
    },
    {
      "cell_type": "code",
      "metadata": {
        "colab": {
          "base_uri": "https://localhost:8080/"
        },
        "id": "ncXOibZpvmba",
        "outputId": "6f1af9e4-1d92-4a50-ddd4-a236dec06672"
      },
      "source": [
        "len(upgraded_data)"
      ],
      "execution_count": null,
      "outputs": [
        {
          "output_type": "execute_result",
          "data": {
            "text/plain": [
              "349015"
            ]
          },
          "metadata": {
            "tags": []
          },
          "execution_count": 40
        }
      ]
    },
    {
      "cell_type": "code",
      "metadata": {
        "colab": {
          "base_uri": "https://localhost:8080/"
        },
        "id": "qCFpqtk6BT6q",
        "outputId": "0004cda2-3bda-4569-8d02-1503a3bab761"
      },
      "source": [
        "upgraded_data[39000]"
      ],
      "execution_count": null,
      "outputs": [
        {
          "output_type": "execute_result",
          "data": {
            "text/plain": [
              "('6k1/p1R3p1/bp1N4/3rB3/8/4R3/PPK2PP1/3r4 b - -',\n",
              " 'Be5',\n",
              " 'bishop e5',\n",
              " 'Rh1, R5d3, Rxe5, Rg1, Rc5+, Bb7, Kh8, Re1, R1d4, Kh7, Rb1, Rxd6, R1d2+, Kf8, Bf1, Bb5, R5d4, Bc8, Ra5, g5, Ra1, Rb5, R1d3, Bc4, Rc1+, g6, b5, Rf1, Be2, R5d2+, Bd3+',\n",
              " 'e3',\n",
              " 'b2, h2, c3, g3, d4, f4, d6, f6, g7',\n",
              " '\"forces a trade or so i felt\". i agree, i would have played this. fritz prefers 34. rxa7 but it is getting academic white is a clear knight and pawn up and black would probably resign, if it wasn\\'t for the fact that it is was a very close match.')"
            ]
          },
          "metadata": {
            "tags": []
          },
          "execution_count": 43
        }
      ]
    },
    {
      "cell_type": "code",
      "metadata": {
        "id": "BEKN6a77DPsD",
        "colab": {
          "base_uri": "https://localhost:8080/"
        },
        "outputId": "d010fb47-1b20-4acd-f9f6-4e8882c6a8d0"
      },
      "source": [
        "upgraded_data[111111]"
      ],
      "execution_count": null,
      "outputs": [
        {
          "output_type": "execute_result",
          "data": {
            "text/plain": [
              "('2k5/5rp1/2p5/4n3/Np2P1P1/3P2K1/P2R4/8 w - -',\n",
              " 'Kg3, Nxe5',\n",
              " 'knight takes e5',\n",
              " 'Rd1, Rf2, Kh4, Nb6+, Re2, Rb2, Kg2, Nb2, Rc2, Kh3, Rh2, g5, Nc5, Kh2, a3, Rg2, d4, Nc3',\n",
              " '',\n",
              " 'd3, f3, c4, g4, c6, g6, d7, f7',\n",
              " '1 point down??? uh, it was a long time ago, when i was in such a good! position...')"
            ]
          },
          "metadata": {
            "tags": []
          },
          "execution_count": 45
        }
      ]
    }
  ]
}